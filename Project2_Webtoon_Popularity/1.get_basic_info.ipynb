{
 "cells": [
  {
   "cell_type": "markdown",
   "id": "c0ad0e4d",
   "metadata": {},
   "source": [
    "# Get Basic Information with Selenium (without BeautifulSoup)\n",
    "*DATE:* 2022-08-06\n",
    "\n",
    "*SUMMARY:* Get Webtoon ID, Update day, Thumbnail, Title, Author, Plot(Contents), Genre, Recommended age, Like, Format, First Update day from the Naver Webtoon homepage. \n",
    "\n",
    "*FEATURE:* Use Selenium Webdriver for scraping information. BeautifulSoup version is already uploaded, check 'get_basic_info_bs.ipynb'.\n",
    "\n",
    "**WARNING**\\\n",
    "It is based on the HTML/CSS format from August, 2022. So it may not function correctly now. For correction, check Naver Webtoon homepage's updated HTML/CSS format.\n"
   ]
  },
  {
   "cell_type": "code",
   "execution_count": 1,
   "id": "38255d93",
   "metadata": {},
   "outputs": [],
   "source": [
    "from selenium.webdriver.common.keys import Keys\n",
    "from selenium import webdriver \n",
    "from selenium.webdriver.common.by import By\n",
    "from urllib.request import urlretrieve \n",
    "from tqdm import tqdm\n",
    "import pyperclip\n",
    "import pandas as pd\n",
    "import numpy as np\n",
    "import time\n",
    "import re"
   ]
  },
  {
   "cell_type": "markdown",
   "id": "3f621b78",
   "metadata": {},
   "source": [
    "# 1. Open the Web Page and Login\n",
    "To open webtoons for adult, login with adult verified account is needed.\\\n",
    "Modify 'ID' and 'PASSWORD' below with your own ID and password to login."
   ]
  },
  {
   "cell_type": "code",
   "execution_count": 2,
   "id": "5ce0ffb9",
   "metadata": {},
   "outputs": [
    {
     "name": "stderr",
     "output_type": "stream",
     "text": [
      "C:\\Users\\gynchoi\\AppData\\Local\\Temp\\ipykernel_15460\\144261529.py:3: DeprecationWarning: executable_path has been deprecated, please pass in a Service object\n",
      "  driver = webdriver.Chrome('C:/Users/gynchoi/Trap/chromedriver.exe')\n"
     ]
    }
   ],
   "source": [
    "# Open Chrome with Selenium webdriver\n",
    "driver = webdriver.Chrome('C:/Users/gynchoi/Trap/chromedriver.exe') \n",
    "weburl = 'https://comic.naver.com/webtoon/weekday.nhn'\n",
    "driver.get(weburl)"
   ]
  },
  {
   "cell_type": "code",
   "execution_count": 3,
   "id": "cafcb7ce",
   "metadata": {},
   "outputs": [],
   "source": [
    "# Login for get +19 webtoon\n",
    "driver.find_elements(By.CLASS_NAME,'gnb_txt')[0].click()\n",
    "\n",
    "user_id = '<ID>'\n",
    "user_pw = '<PASSWORD>'\n",
    "\n",
    "# Enter ID\n",
    "idpath = driver.find_elements(By.CLASS_NAME,'input_text')[0]\n",
    "idpath.click()\n",
    "pyperclip.copy(user_id)\n",
    "idpath.send_keys(Keys.CONTROL, 'v')\n",
    "time.sleep(1)\n",
    "\n",
    "# Enter Password\n",
    "pwpath = driver.find_elements(By.CLASS_NAME,'input_text')[1]\n",
    "pwpath.click()\n",
    "pyperclip.copy(user_pw)\n",
    "pwpath.send_keys(Keys.CONTROL, 'v')\n",
    "time.sleep(1)\n",
    "\n",
    "driver.find_elements(By.CLASS_NAME,'btn_login')[0].click()\n",
    "\n",
    "# For Naver new account register page\n",
    "driver.find_elements(By.CLASS_NAME,'btn')[0].click()"
   ]
  },
  {
   "cell_type": "markdown",
   "id": "9875d627",
   "metadata": {},
   "source": [
    "# 2. Get Basic Information from Currently Uploaded Webtoons"
   ]
  },
  {
   "cell_type": "code",
   "execution_count": 4,
   "id": "dfeb395e",
   "metadata": {},
   "outputs": [
    {
     "name": "stderr",
     "output_type": "stream",
     "text": [
      "\r\n",
      "  0%|                                                                                          | 0/559 [00:00<?, ?it/s]"
     ]
    },
    {
     "name": "stdout",
     "output_type": "stream",
     "text": [
      "0번째 시도입니다\n"
     ]
    },
    {
     "name": "stderr",
     "output_type": "stream",
     "text": [
      "\r\n",
      "  0%|▏                                                                                 | 1/559 [00:04<45:35,  4.90s/it]"
     ]
    },
    {
     "name": "stdout",
     "output_type": "stream",
     "text": [
      "1번째 시도입니다\n"
     ]
    },
    {
     "name": "stderr",
     "output_type": "stream",
     "text": [
      "\r\n",
      "  0%|▎                                                                                 | 2/559 [00:07<35:26,  3.82s/it]"
     ]
    },
    {
     "name": "stdout",
     "output_type": "stream",
     "text": [
      "2번째 시도입니다\n"
     ]
    },
    {
     "name": "stderr",
     "output_type": "stream",
     "text": [
      "\r\n",
      "  1%|▍                                                                                 | 3/559 [00:10<31:26,  3.39s/it]"
     ]
    },
    {
     "name": "stdout",
     "output_type": "stream",
     "text": [
      "3번째 시도입니다\n"
     ]
    },
    {
     "name": "stderr",
     "output_type": "stream",
     "text": [
      "\r\n",
      "  1%|▌                                                                                 | 4/559 [00:15<35:15,  3.81s/it]"
     ]
    },
    {
     "name": "stdout",
     "output_type": "stream",
     "text": [
      "4번째 시도입니다\n"
     ]
    },
    {
     "name": "stderr",
     "output_type": "stream",
     "text": [
      "\r\n",
      "  1%|▋                                                                                 | 5/559 [00:19<35:10,  3.81s/it]"
     ]
    },
    {
     "name": "stdout",
     "output_type": "stream",
     "text": [
      "5번째 시도입니다\n"
     ]
    },
    {
     "name": "stderr",
     "output_type": "stream",
     "text": [
      "\r\n",
      "  1%|▉                                                                                 | 6/559 [00:22<33:11,  3.60s/it]"
     ]
    },
    {
     "name": "stdout",
     "output_type": "stream",
     "text": [
      "6번째 시도입니다\n"
     ]
    },
    {
     "name": "stderr",
     "output_type": "stream",
     "text": [
      "\r\n",
      "  1%|█                                                                                 | 7/559 [00:25<33:07,  3.60s/it]"
     ]
    },
    {
     "name": "stdout",
     "output_type": "stream",
     "text": [
      "7번째 시도입니다\n"
     ]
    },
    {
     "name": "stderr",
     "output_type": "stream",
     "text": [
      "\r\n",
      "  1%|█▏                                                                                | 8/559 [00:29<32:30,  3.54s/it]"
     ]
    },
    {
     "name": "stdout",
     "output_type": "stream",
     "text": [
      "8번째 시도입니다\n"
     ]
    },
    {
     "name": "stderr",
     "output_type": "stream",
     "text": [
      "\r\n",
      "  2%|█▎                                                                                | 9/559 [00:32<31:36,  3.45s/it]"
     ]
    },
    {
     "name": "stdout",
     "output_type": "stream",
     "text": [
      "9번째 시도입니다\n"
     ]
    },
    {
     "name": "stderr",
     "output_type": "stream",
     "text": [
      "\r\n",
      "  2%|█▍                                                                               | 10/559 [00:36<34:20,  3.75s/it]"
     ]
    },
    {
     "name": "stdout",
     "output_type": "stream",
     "text": [
      "10번째 시도입니다\n"
     ]
    },
    {
     "name": "stderr",
     "output_type": "stream",
     "text": [
      "\r\n",
      "  2%|█▌                                                                               | 11/559 [00:41<36:38,  4.01s/it]"
     ]
    },
    {
     "name": "stdout",
     "output_type": "stream",
     "text": [
      "11번째 시도입니다\n"
     ]
    },
    {
     "name": "stderr",
     "output_type": "stream",
     "text": [
      "\r\n",
      "  2%|█▋                                                                               | 12/559 [00:49<46:27,  5.10s/it]"
     ]
    },
    {
     "name": "stdout",
     "output_type": "stream",
     "text": [
      "12번째 시도입니다\n"
     ]
    },
    {
     "name": "stderr",
     "output_type": "stream",
     "text": [
      "\r\n",
      "  2%|█▉                                                                               | 13/559 [00:52<42:52,  4.71s/it]"
     ]
    },
    {
     "name": "stdout",
     "output_type": "stream",
     "text": [
      "13번째 시도입니다\n"
     ]
    },
    {
     "name": "stderr",
     "output_type": "stream",
     "text": [
      "\r\n",
      "  3%|██                                                                               | 14/559 [00:57<40:59,  4.51s/it]"
     ]
    },
    {
     "name": "stdout",
     "output_type": "stream",
     "text": [
      "14번째 시도입니다\n"
     ]
    },
    {
     "name": "stderr",
     "output_type": "stream",
     "text": [
      "\r\n",
      "  3%|██▏                                                                              | 15/559 [01:01<40:47,  4.50s/it]"
     ]
    },
    {
     "name": "stdout",
     "output_type": "stream",
     "text": [
      "15번째 시도입니다\n"
     ]
    },
    {
     "name": "stderr",
     "output_type": "stream",
     "text": [
      "\r\n",
      "  3%|██▎                                                                              | 16/559 [01:06<42:56,  4.75s/it]"
     ]
    },
    {
     "name": "stdout",
     "output_type": "stream",
     "text": [
      "16번째 시도입니다\n"
     ]
    },
    {
     "name": "stderr",
     "output_type": "stream",
     "text": [
      "\r\n",
      "  3%|██▍                                                                              | 17/559 [01:11<43:56,  4.86s/it]"
     ]
    },
    {
     "name": "stdout",
     "output_type": "stream",
     "text": [
      "17번째 시도입니다\n"
     ]
    },
    {
     "name": "stderr",
     "output_type": "stream",
     "text": [
      "\r\n",
      "  3%|██▌                                                                              | 18/559 [01:15<40:32,  4.50s/it]"
     ]
    },
    {
     "name": "stdout",
     "output_type": "stream",
     "text": [
      "18번째 시도입니다\n"
     ]
    },
    {
     "name": "stderr",
     "output_type": "stream",
     "text": [
      "\r\n",
      "  3%|██▊                                                                              | 19/559 [01:18<36:36,  4.07s/it]"
     ]
    },
    {
     "name": "stdout",
     "output_type": "stream",
     "text": [
      "19번째 시도입니다\n"
     ]
    },
    {
     "name": "stderr",
     "output_type": "stream",
     "text": [
      "\r\n",
      "  4%|██▉                                                                              | 20/559 [01:22<35:13,  3.92s/it]"
     ]
    },
    {
     "name": "stdout",
     "output_type": "stream",
     "text": [
      "20번째 시도입니다\n"
     ]
    },
    {
     "name": "stderr",
     "output_type": "stream",
     "text": [
      "\r\n",
      "  4%|███                                                                              | 21/559 [01:26<34:48,  3.88s/it]"
     ]
    },
    {
     "name": "stdout",
     "output_type": "stream",
     "text": [
      "21번째 시도입니다\n"
     ]
    },
    {
     "name": "stderr",
     "output_type": "stream",
     "text": [
      "\r\n",
      "  4%|███▏                                                                             | 22/559 [01:29<34:21,  3.84s/it]"
     ]
    },
    {
     "name": "stdout",
     "output_type": "stream",
     "text": [
      "22번째 시도입니다\n"
     ]
    },
    {
     "name": "stderr",
     "output_type": "stream",
     "text": [
      "\r\n",
      "  4%|███▎                                                                             | 23/559 [01:34<35:36,  3.99s/it]"
     ]
    },
    {
     "name": "stdout",
     "output_type": "stream",
     "text": [
      "23번째 시도입니다\n"
     ]
    },
    {
     "name": "stderr",
     "output_type": "stream",
     "text": [
      "\r\n",
      "  4%|███▍                                                                             | 24/559 [01:38<35:32,  3.99s/it]"
     ]
    },
    {
     "name": "stdout",
     "output_type": "stream",
     "text": [
      "24번째 시도입니다\n"
     ]
    },
    {
     "name": "stderr",
     "output_type": "stream",
     "text": [
      "\r\n",
      "  4%|███▌                                                                             | 25/559 [01:41<34:21,  3.86s/it]"
     ]
    },
    {
     "name": "stdout",
     "output_type": "stream",
     "text": [
      "25번째 시도입니다\n"
     ]
    },
    {
     "name": "stderr",
     "output_type": "stream",
     "text": [
      "\r\n",
      "  5%|███▊                                                                             | 26/559 [01:46<36:38,  4.12s/it]"
     ]
    },
    {
     "name": "stdout",
     "output_type": "stream",
     "text": [
      "26번째 시도입니다\n"
     ]
    },
    {
     "name": "stderr",
     "output_type": "stream",
     "text": [
      "\r\n",
      "  5%|███▉                                                                             | 27/559 [01:50<36:45,  4.15s/it]"
     ]
    },
    {
     "name": "stdout",
     "output_type": "stream",
     "text": [
      "27번째 시도입니다\n"
     ]
    },
    {
     "name": "stderr",
     "output_type": "stream",
     "text": [
      "\r\n",
      "  5%|████                                                                             | 28/559 [01:54<35:19,  3.99s/it]"
     ]
    },
    {
     "name": "stdout",
     "output_type": "stream",
     "text": [
      "28번째 시도입니다\n"
     ]
    },
    {
     "name": "stderr",
     "output_type": "stream",
     "text": [
      "\r\n",
      "  5%|████▏                                                                            | 29/559 [01:59<37:35,  4.26s/it]"
     ]
    },
    {
     "name": "stdout",
     "output_type": "stream",
     "text": [
      "29번째 시도입니다\n"
     ]
    },
    {
     "name": "stderr",
     "output_type": "stream",
     "text": [
      "\r\n",
      "  5%|████▎                                                                            | 30/559 [02:02<35:13,  4.00s/it]"
     ]
    },
    {
     "name": "stdout",
     "output_type": "stream",
     "text": [
      "30번째 시도입니다\n"
     ]
    },
    {
     "name": "stderr",
     "output_type": "stream",
     "text": [
      "\r\n",
      "  6%|████▍                                                                            | 31/559 [02:06<34:30,  3.92s/it]"
     ]
    },
    {
     "name": "stdout",
     "output_type": "stream",
     "text": [
      "31번째 시도입니다\n"
     ]
    },
    {
     "name": "stderr",
     "output_type": "stream",
     "text": [
      "\r\n",
      "  6%|████▋                                                                            | 32/559 [02:10<36:33,  4.16s/it]"
     ]
    },
    {
     "name": "stdout",
     "output_type": "stream",
     "text": [
      "32번째 시도입니다\n"
     ]
    },
    {
     "name": "stderr",
     "output_type": "stream",
     "text": [
      "\r\n",
      "  6%|████▊                                                                            | 33/559 [02:15<36:21,  4.15s/it]"
     ]
    },
    {
     "name": "stdout",
     "output_type": "stream",
     "text": [
      "33번째 시도입니다\n"
     ]
    },
    {
     "name": "stderr",
     "output_type": "stream",
     "text": [
      "\r\n",
      "  6%|████▉                                                                            | 34/559 [02:18<34:38,  3.96s/it]"
     ]
    },
    {
     "name": "stdout",
     "output_type": "stream",
     "text": [
      "34번째 시도입니다\n"
     ]
    },
    {
     "name": "stderr",
     "output_type": "stream",
     "text": [
      "\r\n",
      "  6%|█████                                                                            | 35/559 [02:22<35:23,  4.05s/it]"
     ]
    },
    {
     "name": "stdout",
     "output_type": "stream",
     "text": [
      "35번째 시도입니다\n"
     ]
    },
    {
     "name": "stderr",
     "output_type": "stream",
     "text": [
      "\r\n",
      "  6%|█████▏                                                                           | 36/559 [02:27<36:18,  4.17s/it]"
     ]
    },
    {
     "name": "stdout",
     "output_type": "stream",
     "text": [
      "36번째 시도입니다\n"
     ]
    },
    {
     "name": "stderr",
     "output_type": "stream",
     "text": [
      "\r\n",
      "  7%|█████▎                                                                           | 37/559 [02:31<36:21,  4.18s/it]"
     ]
    },
    {
     "name": "stdout",
     "output_type": "stream",
     "text": [
      "37번째 시도입니다\n"
     ]
    },
    {
     "name": "stderr",
     "output_type": "stream",
     "text": [
      "\r\n",
      "  7%|█████▌                                                                           | 38/559 [02:34<34:23,  3.96s/it]"
     ]
    },
    {
     "name": "stdout",
     "output_type": "stream",
     "text": [
      "38번째 시도입니다\n"
     ]
    },
    {
     "name": "stderr",
     "output_type": "stream",
     "text": [
      "\r\n",
      "  7%|█████▋                                                                           | 39/559 [02:39<34:30,  3.98s/it]"
     ]
    },
    {
     "name": "stdout",
     "output_type": "stream",
     "text": [
      "39번째 시도입니다\n"
     ]
    },
    {
     "name": "stderr",
     "output_type": "stream",
     "text": [
      "\r\n",
      "  7%|█████▊                                                                           | 40/559 [02:43<36:17,  4.20s/it]"
     ]
    },
    {
     "name": "stdout",
     "output_type": "stream",
     "text": [
      "40번째 시도입니다\n"
     ]
    },
    {
     "name": "stderr",
     "output_type": "stream",
     "text": [
      "\r\n",
      "  7%|█████▉                                                                           | 41/559 [02:46<33:42,  3.90s/it]"
     ]
    },
    {
     "name": "stdout",
     "output_type": "stream",
     "text": [
      "41번째 시도입니다\n"
     ]
    },
    {
     "name": "stderr",
     "output_type": "stream",
     "text": [
      "\r\n",
      "  8%|██████                                                                           | 42/559 [02:51<35:14,  4.09s/it]"
     ]
    },
    {
     "name": "stdout",
     "output_type": "stream",
     "text": [
      "42번째 시도입니다\n"
     ]
    },
    {
     "name": "stderr",
     "output_type": "stream",
     "text": [
      "\r\n",
      "  8%|██████▏                                                                          | 43/559 [02:56<37:43,  4.39s/it]"
     ]
    },
    {
     "name": "stdout",
     "output_type": "stream",
     "text": [
      "43번째 시도입니다\n"
     ]
    },
    {
     "name": "stderr",
     "output_type": "stream",
     "text": [
      "\r\n",
      "  8%|██████▍                                                                          | 44/559 [03:00<37:42,  4.39s/it]"
     ]
    },
    {
     "name": "stdout",
     "output_type": "stream",
     "text": [
      "44번째 시도입니다\n"
     ]
    },
    {
     "name": "stderr",
     "output_type": "stream",
     "text": [
      "\r\n",
      "  8%|██████▌                                                                          | 45/559 [03:05<37:19,  4.36s/it]"
     ]
    },
    {
     "name": "stdout",
     "output_type": "stream",
     "text": [
      "45번째 시도입니다\n"
     ]
    },
    {
     "name": "stderr",
     "output_type": "stream",
     "text": [
      "\r\n",
      "  8%|██████▋                                                                          | 46/559 [03:08<35:33,  4.16s/it]"
     ]
    },
    {
     "name": "stdout",
     "output_type": "stream",
     "text": [
      "46번째 시도입니다\n"
     ]
    },
    {
     "name": "stderr",
     "output_type": "stream",
     "text": [
      "\r\n",
      "  8%|██████▊                                                                          | 47/559 [03:14<38:35,  4.52s/it]"
     ]
    },
    {
     "name": "stdout",
     "output_type": "stream",
     "text": [
      "47번째 시도입니다\n"
     ]
    },
    {
     "name": "stderr",
     "output_type": "stream",
     "text": [
      "\r\n",
      "  9%|██████▉                                                                          | 48/559 [03:18<37:32,  4.41s/it]"
     ]
    },
    {
     "name": "stdout",
     "output_type": "stream",
     "text": [
      "48번째 시도입니다\n"
     ]
    },
    {
     "name": "stderr",
     "output_type": "stream",
     "text": [
      "\r\n",
      "  9%|███████                                                                          | 49/559 [03:22<37:07,  4.37s/it]"
     ]
    },
    {
     "name": "stdout",
     "output_type": "stream",
     "text": [
      "49번째 시도입니다\n"
     ]
    },
    {
     "name": "stderr",
     "output_type": "stream",
     "text": [
      "\r\n",
      "  9%|███████▏                                                                         | 50/559 [03:27<37:09,  4.38s/it]"
     ]
    },
    {
     "name": "stdout",
     "output_type": "stream",
     "text": [
      "50번째 시도입니다\n"
     ]
    },
    {
     "name": "stderr",
     "output_type": "stream",
     "text": [
      "\r\n",
      "  9%|███████▍                                                                         | 51/559 [03:31<37:29,  4.43s/it]"
     ]
    },
    {
     "name": "stdout",
     "output_type": "stream",
     "text": [
      "51번째 시도입니다\n"
     ]
    },
    {
     "name": "stderr",
     "output_type": "stream",
     "text": [
      "\r\n",
      "  9%|███████▌                                                                         | 52/559 [03:35<34:53,  4.13s/it]"
     ]
    },
    {
     "name": "stdout",
     "output_type": "stream",
     "text": [
      "52번째 시도입니다\n"
     ]
    },
    {
     "name": "stderr",
     "output_type": "stream",
     "text": [
      "\r\n",
      "  9%|███████▋                                                                         | 53/559 [03:38<33:41,  4.00s/it]"
     ]
    },
    {
     "name": "stdout",
     "output_type": "stream",
     "text": [
      "53번째 시도입니다\n"
     ]
    },
    {
     "name": "stderr",
     "output_type": "stream",
     "text": [
      "\r\n",
      " 10%|███████▊                                                                         | 54/559 [03:43<34:25,  4.09s/it]"
     ]
    },
    {
     "name": "stdout",
     "output_type": "stream",
     "text": [
      "54번째 시도입니다\n"
     ]
    },
    {
     "name": "stderr",
     "output_type": "stream",
     "text": [
      "\r\n",
      " 10%|███████▉                                                                         | 55/559 [03:47<34:28,  4.10s/it]"
     ]
    },
    {
     "name": "stdout",
     "output_type": "stream",
     "text": [
      "55번째 시도입니다\n"
     ]
    },
    {
     "name": "stderr",
     "output_type": "stream",
     "text": [
      "\r\n",
      " 10%|████████                                                                         | 56/559 [03:50<33:29,  4.00s/it]"
     ]
    },
    {
     "name": "stdout",
     "output_type": "stream",
     "text": [
      "56번째 시도입니다\n"
     ]
    },
    {
     "name": "stderr",
     "output_type": "stream",
     "text": [
      "\r\n",
      " 10%|████████▎                                                                        | 57/559 [03:55<34:23,  4.11s/it]"
     ]
    },
    {
     "name": "stdout",
     "output_type": "stream",
     "text": [
      "57번째 시도입니다\n"
     ]
    },
    {
     "name": "stderr",
     "output_type": "stream",
     "text": [
      "\r\n",
      " 10%|████████▍                                                                        | 58/559 [03:59<34:03,  4.08s/it]"
     ]
    },
    {
     "name": "stdout",
     "output_type": "stream",
     "text": [
      "58번째 시도입니다\n"
     ]
    },
    {
     "name": "stderr",
     "output_type": "stream",
     "text": [
      "\r\n",
      " 11%|████████▌                                                                        | 59/559 [04:04<35:47,  4.29s/it]"
     ]
    },
    {
     "name": "stdout",
     "output_type": "stream",
     "text": [
      "59번째 시도입니다\n"
     ]
    },
    {
     "name": "stderr",
     "output_type": "stream",
     "text": [
      "\r\n",
      " 11%|████████▋                                                                        | 60/559 [04:09<37:35,  4.52s/it]"
     ]
    },
    {
     "name": "stdout",
     "output_type": "stream",
     "text": [
      "60번째 시도입니다\n"
     ]
    },
    {
     "name": "stderr",
     "output_type": "stream",
     "text": [
      "\r\n",
      " 11%|████████▊                                                                        | 61/559 [04:13<36:58,  4.46s/it]"
     ]
    },
    {
     "name": "stdout",
     "output_type": "stream",
     "text": [
      "61번째 시도입니다\n"
     ]
    },
    {
     "name": "stderr",
     "output_type": "stream",
     "text": [
      "\r\n",
      " 11%|████████▉                                                                        | 62/559 [04:17<36:38,  4.42s/it]"
     ]
    },
    {
     "name": "stdout",
     "output_type": "stream",
     "text": [
      "62번째 시도입니다\n"
     ]
    },
    {
     "name": "stderr",
     "output_type": "stream",
     "text": [
      "\r\n",
      " 11%|█████████▏                                                                       | 63/559 [04:21<35:48,  4.33s/it]"
     ]
    },
    {
     "name": "stdout",
     "output_type": "stream",
     "text": [
      "63번째 시도입니다\n"
     ]
    },
    {
     "name": "stderr",
     "output_type": "stream",
     "text": [
      "\r\n",
      " 11%|█████████▎                                                                       | 64/559 [04:26<36:26,  4.42s/it]"
     ]
    },
    {
     "name": "stdout",
     "output_type": "stream",
     "text": [
      "64번째 시도입니다\n"
     ]
    },
    {
     "name": "stderr",
     "output_type": "stream",
     "text": [
      "\r\n",
      " 12%|█████████▍                                                                       | 65/559 [04:30<34:07,  4.14s/it]"
     ]
    },
    {
     "name": "stdout",
     "output_type": "stream",
     "text": [
      "65번째 시도입니다\n"
     ]
    },
    {
     "name": "stderr",
     "output_type": "stream",
     "text": [
      "\r\n",
      " 12%|█████████▌                                                                       | 66/559 [04:33<33:19,  4.06s/it]"
     ]
    },
    {
     "name": "stdout",
     "output_type": "stream",
     "text": [
      "66번째 시도입니다\n"
     ]
    },
    {
     "name": "stderr",
     "output_type": "stream",
     "text": [
      "\r\n",
      " 12%|█████████▋                                                                       | 67/559 [04:37<33:18,  4.06s/it]"
     ]
    },
    {
     "name": "stdout",
     "output_type": "stream",
     "text": [
      "67번째 시도입니다\n"
     ]
    },
    {
     "name": "stderr",
     "output_type": "stream",
     "text": [
      "\r\n",
      " 12%|█████████▊                                                                       | 68/559 [04:41<32:30,  3.97s/it]"
     ]
    },
    {
     "name": "stdout",
     "output_type": "stream",
     "text": [
      "68번째 시도입니다\n"
     ]
    },
    {
     "name": "stderr",
     "output_type": "stream",
     "text": [
      "\r\n",
      " 12%|█████████▉                                                                       | 69/559 [04:45<32:43,  4.01s/it]"
     ]
    },
    {
     "name": "stdout",
     "output_type": "stream",
     "text": [
      "69번째 시도입니다\n"
     ]
    },
    {
     "name": "stderr",
     "output_type": "stream",
     "text": [
      "\r\n",
      " 13%|██████████▏                                                                      | 70/559 [04:49<31:41,  3.89s/it]"
     ]
    },
    {
     "name": "stdout",
     "output_type": "stream",
     "text": [
      "70번째 시도입니다\n"
     ]
    },
    {
     "name": "stderr",
     "output_type": "stream",
     "text": [
      "\r\n",
      " 13%|██████████▎                                                                      | 71/559 [04:55<36:46,  4.52s/it]"
     ]
    },
    {
     "name": "stdout",
     "output_type": "stream",
     "text": [
      "71번째 시도입니다\n"
     ]
    },
    {
     "name": "stderr",
     "output_type": "stream",
     "text": [
      "\r\n",
      " 13%|██████████▍                                                                      | 72/559 [04:59<36:26,  4.49s/it]"
     ]
    },
    {
     "name": "stdout",
     "output_type": "stream",
     "text": [
      "72번째 시도입니다\n"
     ]
    },
    {
     "name": "stderr",
     "output_type": "stream",
     "text": [
      "\r\n",
      " 13%|██████████▌                                                                      | 73/559 [05:03<34:49,  4.30s/it]"
     ]
    },
    {
     "name": "stdout",
     "output_type": "stream",
     "text": [
      "73번째 시도입니다\n"
     ]
    },
    {
     "name": "stderr",
     "output_type": "stream",
     "text": [
      "\r\n",
      " 13%|██████████▋                                                                      | 74/559 [05:07<33:42,  4.17s/it]"
     ]
    },
    {
     "name": "stdout",
     "output_type": "stream",
     "text": [
      "74번째 시도입니다\n"
     ]
    },
    {
     "name": "stderr",
     "output_type": "stream",
     "text": [
      "\r\n",
      " 13%|██████████▊                                                                      | 75/559 [05:12<34:28,  4.27s/it]"
     ]
    },
    {
     "name": "stdout",
     "output_type": "stream",
     "text": [
      "75번째 시도입니다\n"
     ]
    },
    {
     "name": "stderr",
     "output_type": "stream",
     "text": [
      "\r\n",
      " 14%|███████████                                                                      | 76/559 [05:16<33:49,  4.20s/it]"
     ]
    },
    {
     "name": "stdout",
     "output_type": "stream",
     "text": [
      "76번째 시도입니다\n"
     ]
    },
    {
     "name": "stderr",
     "output_type": "stream",
     "text": [
      "\r\n",
      " 14%|███████████▏                                                                     | 77/559 [05:20<34:32,  4.30s/it]"
     ]
    },
    {
     "name": "stdout",
     "output_type": "stream",
     "text": [
      "77번째 시도입니다\n"
     ]
    },
    {
     "name": "stderr",
     "output_type": "stream",
     "text": [
      "\r\n",
      " 14%|███████████▎                                                                     | 78/559 [05:25<35:16,  4.40s/it]"
     ]
    },
    {
     "name": "stdout",
     "output_type": "stream",
     "text": [
      "78번째 시도입니다\n"
     ]
    },
    {
     "name": "stderr",
     "output_type": "stream",
     "text": [
      "\r\n",
      " 14%|███████████▍                                                                     | 79/559 [05:28<32:48,  4.10s/it]"
     ]
    },
    {
     "name": "stdout",
     "output_type": "stream",
     "text": [
      "79번째 시도입니다\n"
     ]
    },
    {
     "name": "stderr",
     "output_type": "stream",
     "text": [
      "\r\n",
      " 14%|███████████▌                                                                     | 80/559 [05:32<33:03,  4.14s/it]"
     ]
    },
    {
     "name": "stdout",
     "output_type": "stream",
     "text": [
      "80번째 시도입니다\n"
     ]
    },
    {
     "name": "stderr",
     "output_type": "stream",
     "text": [
      "\r\n",
      " 14%|███████████▋                                                                     | 81/559 [05:38<35:17,  4.43s/it]"
     ]
    },
    {
     "name": "stdout",
     "output_type": "stream",
     "text": [
      "81번째 시도입니다\n"
     ]
    },
    {
     "name": "stderr",
     "output_type": "stream",
     "text": [
      "\r\n",
      " 15%|███████████▉                                                                     | 82/559 [05:41<32:00,  4.03s/it]"
     ]
    },
    {
     "name": "stdout",
     "output_type": "stream",
     "text": [
      "82번째 시도입니다\n"
     ]
    },
    {
     "name": "stderr",
     "output_type": "stream",
     "text": [
      "\r\n",
      " 15%|████████████                                                                     | 83/559 [05:44<29:32,  3.72s/it]"
     ]
    },
    {
     "name": "stdout",
     "output_type": "stream",
     "text": [
      "83번째 시도입니다\n"
     ]
    },
    {
     "name": "stderr",
     "output_type": "stream",
     "text": [
      "\r\n",
      " 15%|████████████▏                                                                    | 84/559 [05:47<29:21,  3.71s/it]"
     ]
    },
    {
     "name": "stdout",
     "output_type": "stream",
     "text": [
      "84번째 시도입니다\n"
     ]
    },
    {
     "name": "stderr",
     "output_type": "stream",
     "text": [
      "\r\n",
      " 15%|████████████▎                                                                    | 85/559 [05:51<28:16,  3.58s/it]"
     ]
    },
    {
     "name": "stdout",
     "output_type": "stream",
     "text": [
      "85번째 시도입니다\n"
     ]
    },
    {
     "name": "stderr",
     "output_type": "stream",
     "text": [
      "\r\n",
      " 15%|████████████▍                                                                    | 86/559 [05:54<27:06,  3.44s/it]"
     ]
    },
    {
     "name": "stdout",
     "output_type": "stream",
     "text": [
      "86번째 시도입니다\n"
     ]
    },
    {
     "name": "stderr",
     "output_type": "stream",
     "text": [
      "\r\n",
      " 16%|████████████▌                                                                    | 87/559 [05:57<26:34,  3.38s/it]"
     ]
    },
    {
     "name": "stdout",
     "output_type": "stream",
     "text": [
      "87번째 시도입니다\n"
     ]
    },
    {
     "name": "stderr",
     "output_type": "stream",
     "text": [
      "\r\n",
      " 16%|████████████▊                                                                    | 88/559 [06:01<27:32,  3.51s/it]"
     ]
    },
    {
     "name": "stdout",
     "output_type": "stream",
     "text": [
      "88번째 시도입니다\n"
     ]
    },
    {
     "name": "stderr",
     "output_type": "stream",
     "text": [
      "\r\n",
      " 16%|████████████▉                                                                    | 89/559 [06:06<31:27,  4.02s/it]"
     ]
    },
    {
     "name": "stdout",
     "output_type": "stream",
     "text": [
      "89번째 시도입니다\n"
     ]
    },
    {
     "name": "stderr",
     "output_type": "stream",
     "text": [
      "\r\n",
      " 16%|█████████████                                                                    | 90/559 [06:09<29:22,  3.76s/it]"
     ]
    },
    {
     "name": "stdout",
     "output_type": "stream",
     "text": [
      "90번째 시도입니다\n"
     ]
    },
    {
     "name": "stderr",
     "output_type": "stream",
     "text": [
      "\r\n",
      " 16%|█████████████▏                                                                   | 91/559 [06:13<29:14,  3.75s/it]"
     ]
    },
    {
     "name": "stdout",
     "output_type": "stream",
     "text": [
      "91번째 시도입니다\n"
     ]
    },
    {
     "name": "stderr",
     "output_type": "stream",
     "text": [
      "\r\n",
      " 16%|█████████████▎                                                                   | 92/559 [06:17<30:26,  3.91s/it]"
     ]
    },
    {
     "name": "stdout",
     "output_type": "stream",
     "text": [
      "92번째 시도입니다\n"
     ]
    },
    {
     "name": "stderr",
     "output_type": "stream",
     "text": [
      "\r\n",
      " 17%|█████████████▍                                                                   | 93/559 [06:21<29:11,  3.76s/it]"
     ]
    },
    {
     "name": "stdout",
     "output_type": "stream",
     "text": [
      "93번째 시도입니다\n"
     ]
    },
    {
     "name": "stderr",
     "output_type": "stream",
     "text": [
      "\r\n",
      " 17%|█████████████▌                                                                   | 94/559 [06:24<28:43,  3.71s/it]"
     ]
    },
    {
     "name": "stdout",
     "output_type": "stream",
     "text": [
      "94번째 시도입니다\n"
     ]
    },
    {
     "name": "stderr",
     "output_type": "stream",
     "text": [
      "\r\n",
      " 17%|█████████████▊                                                                   | 95/559 [06:29<30:40,  3.97s/it]"
     ]
    },
    {
     "name": "stdout",
     "output_type": "stream",
     "text": [
      "95번째 시도입니다\n"
     ]
    },
    {
     "name": "stderr",
     "output_type": "stream",
     "text": [
      "\r\n",
      " 17%|█████████████▉                                                                   | 96/559 [06:33<30:32,  3.96s/it]"
     ]
    },
    {
     "name": "stdout",
     "output_type": "stream",
     "text": [
      "96번째 시도입니다\n"
     ]
    },
    {
     "name": "stderr",
     "output_type": "stream",
     "text": [
      "\r\n",
      " 17%|██████████████                                                                   | 97/559 [06:38<33:42,  4.38s/it]"
     ]
    },
    {
     "name": "stdout",
     "output_type": "stream",
     "text": [
      "97번째 시도입니다\n"
     ]
    },
    {
     "name": "stderr",
     "output_type": "stream",
     "text": [
      "\r\n",
      " 18%|██████████████▏                                                                  | 98/559 [06:43<34:18,  4.47s/it]"
     ]
    },
    {
     "name": "stdout",
     "output_type": "stream",
     "text": [
      "98번째 시도입니다\n"
     ]
    },
    {
     "name": "stderr",
     "output_type": "stream",
     "text": [
      "\r\n",
      " 18%|██████████████▎                                                                  | 99/559 [06:46<30:53,  4.03s/it]"
     ]
    },
    {
     "name": "stdout",
     "output_type": "stream",
     "text": [
      "99번째 시도입니다\n"
     ]
    },
    {
     "name": "stderr",
     "output_type": "stream",
     "text": [
      "\r\n",
      " 18%|██████████████▎                                                                 | 100/559 [06:49<29:20,  3.84s/it]"
     ]
    },
    {
     "name": "stdout",
     "output_type": "stream",
     "text": [
      "100번째 시도입니다\n"
     ]
    },
    {
     "name": "stderr",
     "output_type": "stream",
     "text": [
      "\r\n",
      " 18%|██████████████▍                                                                 | 101/559 [06:52<27:17,  3.57s/it]"
     ]
    },
    {
     "name": "stdout",
     "output_type": "stream",
     "text": [
      "101번째 시도입니다\n"
     ]
    },
    {
     "name": "stderr",
     "output_type": "stream",
     "text": [
      "\r\n",
      " 18%|██████████████▌                                                                 | 102/559 [06:55<26:15,  3.45s/it]"
     ]
    },
    {
     "name": "stdout",
     "output_type": "stream",
     "text": [
      "102번째 시도입니다\n"
     ]
    },
    {
     "name": "stderr",
     "output_type": "stream",
     "text": [
      "\r\n",
      " 18%|██████████████▋                                                                 | 103/559 [06:58<25:06,  3.30s/it]"
     ]
    },
    {
     "name": "stdout",
     "output_type": "stream",
     "text": [
      "103번째 시도입니다\n"
     ]
    },
    {
     "name": "stderr",
     "output_type": "stream",
     "text": [
      "\r\n",
      " 19%|██████████████▉                                                                 | 104/559 [07:02<25:28,  3.36s/it]"
     ]
    },
    {
     "name": "stdout",
     "output_type": "stream",
     "text": [
      "104번째 시도입니다\n"
     ]
    },
    {
     "name": "stderr",
     "output_type": "stream",
     "text": [
      "\r\n",
      " 19%|███████████████                                                                 | 105/559 [07:05<26:04,  3.45s/it]"
     ]
    },
    {
     "name": "stdout",
     "output_type": "stream",
     "text": [
      "105번째 시도입니다\n"
     ]
    },
    {
     "name": "stderr",
     "output_type": "stream",
     "text": [
      "\r\n",
      " 19%|███████████████▏                                                                | 106/559 [07:09<27:22,  3.63s/it]"
     ]
    },
    {
     "name": "stdout",
     "output_type": "stream",
     "text": [
      "106번째 시도입니다\n"
     ]
    },
    {
     "name": "stderr",
     "output_type": "stream",
     "text": [
      "\r\n",
      " 19%|███████████████▎                                                                | 107/559 [07:13<27:03,  3.59s/it]"
     ]
    },
    {
     "name": "stdout",
     "output_type": "stream",
     "text": [
      "107번째 시도입니다\n"
     ]
    },
    {
     "name": "stderr",
     "output_type": "stream",
     "text": [
      "\r\n",
      " 19%|███████████████▍                                                                | 108/559 [07:18<31:00,  4.12s/it]"
     ]
    },
    {
     "name": "stdout",
     "output_type": "stream",
     "text": [
      "108번째 시도입니다\n"
     ]
    },
    {
     "name": "stderr",
     "output_type": "stream",
     "text": [
      "\r\n",
      " 19%|███████████████▌                                                                | 109/559 [07:22<31:00,  4.13s/it]"
     ]
    },
    {
     "name": "stdout",
     "output_type": "stream",
     "text": [
      "109번째 시도입니다\n"
     ]
    },
    {
     "name": "stderr",
     "output_type": "stream",
     "text": [
      "\r\n",
      " 20%|███████████████▋                                                                | 110/559 [07:26<29:29,  3.94s/it]"
     ]
    },
    {
     "name": "stdout",
     "output_type": "stream",
     "text": [
      "110번째 시도입니다\n"
     ]
    },
    {
     "name": "stderr",
     "output_type": "stream",
     "text": [
      "\r\n",
      " 20%|███████████████▉                                                                | 111/559 [07:30<30:50,  4.13s/it]"
     ]
    },
    {
     "name": "stdout",
     "output_type": "stream",
     "text": [
      "111번째 시도입니다\n"
     ]
    },
    {
     "name": "stderr",
     "output_type": "stream",
     "text": [
      "\r\n",
      " 20%|████████████████                                                                | 112/559 [07:35<31:14,  4.19s/it]"
     ]
    },
    {
     "name": "stdout",
     "output_type": "stream",
     "text": [
      "112번째 시도입니다\n"
     ]
    },
    {
     "name": "stderr",
     "output_type": "stream",
     "text": [
      "\r\n",
      " 20%|████████████████▏                                                               | 113/559 [07:39<31:11,  4.20s/it]"
     ]
    },
    {
     "name": "stdout",
     "output_type": "stream",
     "text": [
      "113번째 시도입니다\n"
     ]
    },
    {
     "name": "stderr",
     "output_type": "stream",
     "text": [
      "\r\n",
      " 20%|████████████████▎                                                               | 114/559 [07:44<33:24,  4.51s/it]"
     ]
    },
    {
     "name": "stdout",
     "output_type": "stream",
     "text": [
      "114번째 시도입니다\n"
     ]
    },
    {
     "name": "stderr",
     "output_type": "stream",
     "text": [
      "\r\n",
      " 21%|████████████████▍                                                               | 115/559 [07:48<31:46,  4.29s/it]"
     ]
    },
    {
     "name": "stdout",
     "output_type": "stream",
     "text": [
      "115번째 시도입니다\n"
     ]
    },
    {
     "name": "stderr",
     "output_type": "stream",
     "text": [
      "\r\n",
      " 21%|████████████████▌                                                               | 116/559 [07:52<31:47,  4.31s/it]"
     ]
    },
    {
     "name": "stdout",
     "output_type": "stream",
     "text": [
      "116번째 시도입니다\n"
     ]
    },
    {
     "name": "stderr",
     "output_type": "stream",
     "text": [
      "\r\n",
      " 21%|████████████████▋                                                               | 117/559 [07:56<29:59,  4.07s/it]"
     ]
    },
    {
     "name": "stdout",
     "output_type": "stream",
     "text": [
      "117번째 시도입니다\n"
     ]
    },
    {
     "name": "stderr",
     "output_type": "stream",
     "text": [
      "\r\n",
      " 21%|████████████████▉                                                               | 118/559 [08:00<29:23,  4.00s/it]"
     ]
    },
    {
     "name": "stdout",
     "output_type": "stream",
     "text": [
      "118번째 시도입니다\n"
     ]
    },
    {
     "name": "stderr",
     "output_type": "stream",
     "text": [
      "\r\n",
      " 21%|█████████████████                                                               | 119/559 [08:04<29:01,  3.96s/it]"
     ]
    },
    {
     "name": "stdout",
     "output_type": "stream",
     "text": [
      "119번째 시도입니다\n"
     ]
    },
    {
     "name": "stderr",
     "output_type": "stream",
     "text": [
      "\r\n",
      " 21%|█████████████████▏                                                              | 120/559 [08:07<28:47,  3.93s/it]"
     ]
    },
    {
     "name": "stdout",
     "output_type": "stream",
     "text": [
      "120번째 시도입니다\n"
     ]
    },
    {
     "name": "stderr",
     "output_type": "stream",
     "text": [
      "\r\n",
      " 22%|█████████████████▎                                                              | 121/559 [08:12<29:18,  4.01s/it]"
     ]
    },
    {
     "name": "stdout",
     "output_type": "stream",
     "text": [
      "121번째 시도입니다\n"
     ]
    },
    {
     "name": "stderr",
     "output_type": "stream",
     "text": [
      "\r\n",
      " 22%|█████████████████▍                                                              | 122/559 [08:15<27:31,  3.78s/it]"
     ]
    },
    {
     "name": "stdout",
     "output_type": "stream",
     "text": [
      "122번째 시도입니다\n"
     ]
    },
    {
     "name": "stderr",
     "output_type": "stream",
     "text": [
      "\r\n",
      " 22%|█████████████████▌                                                              | 123/559 [08:20<30:42,  4.23s/it]"
     ]
    },
    {
     "name": "stdout",
     "output_type": "stream",
     "text": [
      "123번째 시도입니다\n"
     ]
    },
    {
     "name": "stderr",
     "output_type": "stream",
     "text": [
      "\r\n",
      " 22%|█████████████████▋                                                              | 124/559 [08:24<29:59,  4.14s/it]"
     ]
    },
    {
     "name": "stdout",
     "output_type": "stream",
     "text": [
      "124번째 시도입니다\n"
     ]
    },
    {
     "name": "stderr",
     "output_type": "stream",
     "text": [
      "\r\n",
      " 22%|█████████████████▉                                                              | 125/559 [08:29<31:33,  4.36s/it]"
     ]
    },
    {
     "name": "stdout",
     "output_type": "stream",
     "text": [
      "125번째 시도입니다\n"
     ]
    },
    {
     "name": "stderr",
     "output_type": "stream",
     "text": [
      "\r\n",
      " 23%|██████████████████                                                              | 126/559 [08:33<29:52,  4.14s/it]"
     ]
    },
    {
     "name": "stdout",
     "output_type": "stream",
     "text": [
      "126번째 시도입니다\n"
     ]
    },
    {
     "name": "stderr",
     "output_type": "stream",
     "text": [
      "\r\n",
      " 23%|██████████████████▏                                                             | 127/559 [08:36<29:02,  4.03s/it]"
     ]
    },
    {
     "name": "stdout",
     "output_type": "stream",
     "text": [
      "127번째 시도입니다\n"
     ]
    },
    {
     "name": "stderr",
     "output_type": "stream",
     "text": [
      "\r\n",
      " 23%|██████████████████▎                                                             | 128/559 [08:41<30:04,  4.19s/it]"
     ]
    },
    {
     "name": "stdout",
     "output_type": "stream",
     "text": [
      "128번째 시도입니다\n"
     ]
    },
    {
     "name": "stderr",
     "output_type": "stream",
     "text": [
      "\r\n",
      " 23%|██████████████████▍                                                             | 129/559 [08:44<28:08,  3.93s/it]"
     ]
    },
    {
     "name": "stdout",
     "output_type": "stream",
     "text": [
      "129번째 시도입니다\n"
     ]
    },
    {
     "name": "stderr",
     "output_type": "stream",
     "text": [
      "\r\n",
      " 23%|██████████████████▌                                                             | 130/559 [08:47<26:26,  3.70s/it]"
     ]
    },
    {
     "name": "stdout",
     "output_type": "stream",
     "text": [
      "130번째 시도입니다\n"
     ]
    },
    {
     "name": "stderr",
     "output_type": "stream",
     "text": [
      "\r\n",
      " 23%|██████████████████▋                                                             | 131/559 [08:51<25:20,  3.55s/it]"
     ]
    },
    {
     "name": "stdout",
     "output_type": "stream",
     "text": [
      "131번째 시도입니다\n"
     ]
    },
    {
     "name": "stderr",
     "output_type": "stream",
     "text": [
      "\r\n",
      " 24%|██████████████████▉                                                             | 132/559 [08:55<26:09,  3.67s/it]"
     ]
    },
    {
     "name": "stdout",
     "output_type": "stream",
     "text": [
      "132번째 시도입니다\n"
     ]
    },
    {
     "name": "stderr",
     "output_type": "stream",
     "text": [
      "\r\n",
      " 24%|███████████████████                                                             | 133/559 [08:59<27:30,  3.88s/it]"
     ]
    },
    {
     "name": "stdout",
     "output_type": "stream",
     "text": [
      "133번째 시도입니다\n"
     ]
    },
    {
     "name": "stderr",
     "output_type": "stream",
     "text": [
      "\r\n",
      " 24%|███████████████████▏                                                            | 134/559 [09:03<27:31,  3.89s/it]"
     ]
    },
    {
     "name": "stdout",
     "output_type": "stream",
     "text": [
      "134번째 시도입니다\n"
     ]
    },
    {
     "name": "stderr",
     "output_type": "stream",
     "text": [
      "\r\n",
      " 24%|███████████████████▎                                                            | 135/559 [09:06<25:57,  3.67s/it]"
     ]
    },
    {
     "name": "stdout",
     "output_type": "stream",
     "text": [
      "135번째 시도입니다\n"
     ]
    },
    {
     "name": "stderr",
     "output_type": "stream",
     "text": [
      "\r\n",
      " 24%|███████████████████▍                                                            | 136/559 [09:10<27:21,  3.88s/it]"
     ]
    },
    {
     "name": "stdout",
     "output_type": "stream",
     "text": [
      "136번째 시도입니다\n"
     ]
    },
    {
     "name": "stderr",
     "output_type": "stream",
     "text": [
      "\r\n",
      " 25%|███████████████████▌                                                            | 137/559 [09:14<27:17,  3.88s/it]"
     ]
    },
    {
     "name": "stdout",
     "output_type": "stream",
     "text": [
      "137번째 시도입니다\n"
     ]
    },
    {
     "name": "stderr",
     "output_type": "stream",
     "text": [
      "\r\n",
      " 25%|███████████████████▋                                                            | 138/559 [09:18<26:41,  3.80s/it]"
     ]
    },
    {
     "name": "stdout",
     "output_type": "stream",
     "text": [
      "138번째 시도입니다\n"
     ]
    },
    {
     "name": "stderr",
     "output_type": "stream",
     "text": [
      "\r\n",
      " 25%|███████████████████▉                                                            | 139/559 [09:22<27:00,  3.86s/it]"
     ]
    },
    {
     "name": "stdout",
     "output_type": "stream",
     "text": [
      "139번째 시도입니다\n"
     ]
    },
    {
     "name": "stderr",
     "output_type": "stream",
     "text": [
      "\r\n",
      " 25%|████████████████████                                                            | 140/559 [09:25<26:07,  3.74s/it]"
     ]
    },
    {
     "name": "stdout",
     "output_type": "stream",
     "text": [
      "140번째 시도입니다\n"
     ]
    },
    {
     "name": "stderr",
     "output_type": "stream",
     "text": [
      "\r\n",
      " 25%|████████████████████▏                                                           | 141/559 [09:28<24:16,  3.48s/it]"
     ]
    },
    {
     "name": "stdout",
     "output_type": "stream",
     "text": [
      "141번째 시도입니다\n"
     ]
    },
    {
     "name": "stderr",
     "output_type": "stream",
     "text": [
      "\r\n",
      " 25%|████████████████████▎                                                           | 142/559 [09:32<24:47,  3.57s/it]"
     ]
    },
    {
     "name": "stdout",
     "output_type": "stream",
     "text": [
      "142번째 시도입니다\n"
     ]
    },
    {
     "name": "stderr",
     "output_type": "stream",
     "text": [
      "\r\n",
      " 26%|████████████████████▍                                                           | 143/559 [09:38<30:49,  4.45s/it]"
     ]
    },
    {
     "name": "stdout",
     "output_type": "stream",
     "text": [
      "143번째 시도입니다\n"
     ]
    },
    {
     "name": "stderr",
     "output_type": "stream",
     "text": [
      "\r\n",
      " 26%|████████████████████▌                                                           | 144/559 [09:42<29:54,  4.32s/it]"
     ]
    },
    {
     "name": "stdout",
     "output_type": "stream",
     "text": [
      "144번째 시도입니다\n"
     ]
    },
    {
     "name": "stderr",
     "output_type": "stream",
     "text": [
      "\r\n",
      " 26%|████████████████████▊                                                           | 145/559 [09:48<31:51,  4.62s/it]"
     ]
    },
    {
     "name": "stdout",
     "output_type": "stream",
     "text": [
      "145번째 시도입니다\n"
     ]
    },
    {
     "name": "stderr",
     "output_type": "stream",
     "text": [
      "\r\n",
      " 26%|████████████████████▉                                                           | 146/559 [09:51<29:14,  4.25s/it]"
     ]
    },
    {
     "name": "stdout",
     "output_type": "stream",
     "text": [
      "146번째 시도입니다\n"
     ]
    },
    {
     "name": "stderr",
     "output_type": "stream",
     "text": [
      "\r\n",
      " 26%|█████████████████████                                                           | 147/559 [09:56<29:40,  4.32s/it]"
     ]
    },
    {
     "name": "stdout",
     "output_type": "stream",
     "text": [
      "147번째 시도입니다\n"
     ]
    },
    {
     "name": "stderr",
     "output_type": "stream",
     "text": [
      "\r\n",
      " 26%|█████████████████████▏                                                          | 148/559 [10:00<28:48,  4.21s/it]"
     ]
    },
    {
     "name": "stdout",
     "output_type": "stream",
     "text": [
      "148번째 시도입니다\n"
     ]
    },
    {
     "name": "stderr",
     "output_type": "stream",
     "text": [
      "\r\n",
      " 27%|█████████████████████▎                                                          | 149/559 [10:03<28:04,  4.11s/it]"
     ]
    },
    {
     "name": "stdout",
     "output_type": "stream",
     "text": [
      "149번째 시도입니다\n"
     ]
    },
    {
     "name": "stderr",
     "output_type": "stream",
     "text": [
      "\r\n",
      " 27%|█████████████████████▍                                                          | 150/559 [10:08<28:09,  4.13s/it]"
     ]
    },
    {
     "name": "stdout",
     "output_type": "stream",
     "text": [
      "150번째 시도입니다\n"
     ]
    },
    {
     "name": "stderr",
     "output_type": "stream",
     "text": [
      "\r\n",
      " 27%|█████████████████████▌                                                          | 151/559 [10:12<28:03,  4.13s/it]"
     ]
    },
    {
     "name": "stdout",
     "output_type": "stream",
     "text": [
      "151번째 시도입니다\n"
     ]
    },
    {
     "name": "stderr",
     "output_type": "stream",
     "text": [
      "\r\n",
      " 27%|█████████████████████▊                                                          | 152/559 [10:16<28:31,  4.21s/it]"
     ]
    },
    {
     "name": "stdout",
     "output_type": "stream",
     "text": [
      "152번째 시도입니다\n"
     ]
    },
    {
     "name": "stderr",
     "output_type": "stream",
     "text": [
      "\r\n",
      " 27%|█████████████████████▉                                                          | 153/559 [10:19<26:30,  3.92s/it]"
     ]
    },
    {
     "name": "stdout",
     "output_type": "stream",
     "text": [
      "153번째 시도입니다\n"
     ]
    },
    {
     "name": "stderr",
     "output_type": "stream",
     "text": [
      "\r\n",
      " 28%|██████████████████████                                                          | 154/559 [10:25<29:07,  4.31s/it]"
     ]
    },
    {
     "name": "stdout",
     "output_type": "stream",
     "text": [
      "154번째 시도입니다\n"
     ]
    },
    {
     "name": "stderr",
     "output_type": "stream",
     "text": [
      "\r\n",
      " 28%|██████████████████████▏                                                         | 155/559 [10:29<28:48,  4.28s/it]"
     ]
    },
    {
     "name": "stdout",
     "output_type": "stream",
     "text": [
      "155번째 시도입니다\n"
     ]
    },
    {
     "name": "stderr",
     "output_type": "stream",
     "text": [
      "\r\n",
      " 28%|██████████████████████▎                                                         | 156/559 [10:33<27:43,  4.13s/it]"
     ]
    },
    {
     "name": "stdout",
     "output_type": "stream",
     "text": [
      "156번째 시도입니다\n"
     ]
    },
    {
     "name": "stderr",
     "output_type": "stream",
     "text": [
      "\r\n",
      " 28%|██████████████████████▍                                                         | 157/559 [10:38<30:33,  4.56s/it]"
     ]
    },
    {
     "name": "stdout",
     "output_type": "stream",
     "text": [
      "157번째 시도입니다\n"
     ]
    },
    {
     "name": "stderr",
     "output_type": "stream",
     "text": [
      "\r\n",
      " 28%|██████████████████████▌                                                         | 158/559 [10:42<28:40,  4.29s/it]"
     ]
    },
    {
     "name": "stdout",
     "output_type": "stream",
     "text": [
      "158번째 시도입니다\n"
     ]
    },
    {
     "name": "stderr",
     "output_type": "stream",
     "text": [
      "\r\n",
      " 28%|██████████████████████▊                                                         | 159/559 [10:46<27:51,  4.18s/it]"
     ]
    },
    {
     "name": "stdout",
     "output_type": "stream",
     "text": [
      "159번째 시도입니다\n"
     ]
    },
    {
     "name": "stderr",
     "output_type": "stream",
     "text": [
      "\r\n",
      " 29%|██████████████████████▉                                                         | 160/559 [10:50<26:56,  4.05s/it]"
     ]
    },
    {
     "name": "stdout",
     "output_type": "stream",
     "text": [
      "160번째 시도입니다\n"
     ]
    },
    {
     "name": "stderr",
     "output_type": "stream",
     "text": [
      "\r\n",
      " 29%|███████████████████████                                                         | 161/559 [10:54<28:30,  4.30s/it]"
     ]
    },
    {
     "name": "stdout",
     "output_type": "stream",
     "text": [
      "161번째 시도입니다\n"
     ]
    },
    {
     "name": "stderr",
     "output_type": "stream",
     "text": [
      "\r\n",
      " 29%|███████████████████████▏                                                        | 162/559 [10:57<25:56,  3.92s/it]"
     ]
    },
    {
     "name": "stdout",
     "output_type": "stream",
     "text": [
      "162번째 시도입니다\n"
     ]
    },
    {
     "name": "stderr",
     "output_type": "stream",
     "text": [
      "\r\n",
      " 29%|███████████████████████▎                                                        | 163/559 [11:02<26:55,  4.08s/it]"
     ]
    },
    {
     "name": "stdout",
     "output_type": "stream",
     "text": [
      "163번째 시도입니다\n"
     ]
    },
    {
     "name": "stderr",
     "output_type": "stream",
     "text": [
      "\r\n",
      " 29%|███████████████████████▍                                                        | 164/559 [11:05<25:15,  3.84s/it]"
     ]
    },
    {
     "name": "stdout",
     "output_type": "stream",
     "text": [
      "164번째 시도입니다\n"
     ]
    },
    {
     "name": "stderr",
     "output_type": "stream",
     "text": [
      "\r\n",
      " 30%|███████████████████████▌                                                        | 165/559 [11:08<24:07,  3.67s/it]"
     ]
    },
    {
     "name": "stdout",
     "output_type": "stream",
     "text": [
      "165번째 시도입니다\n"
     ]
    },
    {
     "name": "stderr",
     "output_type": "stream",
     "text": [
      "\r\n",
      " 30%|███████████████████████▊                                                        | 166/559 [11:12<24:13,  3.70s/it]"
     ]
    },
    {
     "name": "stdout",
     "output_type": "stream",
     "text": [
      "166번째 시도입니다\n"
     ]
    },
    {
     "name": "stderr",
     "output_type": "stream",
     "text": [
      "\r\n",
      " 30%|███████████████████████▉                                                        | 167/559 [11:16<24:32,  3.76s/it]"
     ]
    },
    {
     "name": "stdout",
     "output_type": "stream",
     "text": [
      "167번째 시도입니다\n"
     ]
    },
    {
     "name": "stderr",
     "output_type": "stream",
     "text": [
      "\r\n",
      " 30%|████████████████████████                                                        | 168/559 [11:20<24:29,  3.76s/it]"
     ]
    },
    {
     "name": "stdout",
     "output_type": "stream",
     "text": [
      "168번째 시도입니다\n"
     ]
    },
    {
     "name": "stderr",
     "output_type": "stream",
     "text": [
      "\r\n",
      " 30%|████████████████████████▏                                                       | 169/559 [11:24<24:23,  3.75s/it]"
     ]
    },
    {
     "name": "stdout",
     "output_type": "stream",
     "text": [
      "169번째 시도입니다\n"
     ]
    },
    {
     "name": "stderr",
     "output_type": "stream",
     "text": [
      "\r\n",
      " 30%|████████████████████████▎                                                       | 170/559 [11:28<24:59,  3.86s/it]"
     ]
    },
    {
     "name": "stdout",
     "output_type": "stream",
     "text": [
      "170번째 시도입니다\n"
     ]
    },
    {
     "name": "stderr",
     "output_type": "stream",
     "text": [
      "\r\n",
      " 31%|████████████████████████▍                                                       | 171/559 [11:31<24:18,  3.76s/it]"
     ]
    },
    {
     "name": "stdout",
     "output_type": "stream",
     "text": [
      "171번째 시도입니다\n"
     ]
    },
    {
     "name": "stderr",
     "output_type": "stream",
     "text": [
      "\r\n",
      " 31%|████████████████████████▌                                                       | 172/559 [11:35<25:04,  3.89s/it]"
     ]
    },
    {
     "name": "stdout",
     "output_type": "stream",
     "text": [
      "172번째 시도입니다\n"
     ]
    },
    {
     "name": "stderr",
     "output_type": "stream",
     "text": [
      "\r\n",
      " 31%|████████████████████████▊                                                       | 173/559 [11:40<25:33,  3.97s/it]"
     ]
    },
    {
     "name": "stdout",
     "output_type": "stream",
     "text": [
      "173번째 시도입니다\n"
     ]
    },
    {
     "name": "stderr",
     "output_type": "stream",
     "text": [
      "\r\n",
      " 31%|████████████████████████▉                                                       | 174/559 [11:43<24:56,  3.89s/it]"
     ]
    },
    {
     "name": "stdout",
     "output_type": "stream",
     "text": [
      "174번째 시도입니다\n"
     ]
    },
    {
     "name": "stderr",
     "output_type": "stream",
     "text": [
      "\r\n",
      " 31%|█████████████████████████                                                       | 175/559 [11:48<26:07,  4.08s/it]"
     ]
    },
    {
     "name": "stdout",
     "output_type": "stream",
     "text": [
      "175번째 시도입니다\n"
     ]
    },
    {
     "name": "stderr",
     "output_type": "stream",
     "text": [
      "\r\n",
      " 31%|█████████████████████████▏                                                      | 176/559 [11:51<24:53,  3.90s/it]"
     ]
    },
    {
     "name": "stdout",
     "output_type": "stream",
     "text": [
      "176번째 시도입니다\n"
     ]
    },
    {
     "name": "stderr",
     "output_type": "stream",
     "text": [
      "\r\n",
      " 32%|█████████████████████████▎                                                      | 177/559 [11:55<25:01,  3.93s/it]"
     ]
    },
    {
     "name": "stdout",
     "output_type": "stream",
     "text": [
      "177번째 시도입니다\n"
     ]
    },
    {
     "name": "stderr",
     "output_type": "stream",
     "text": [
      "\r\n",
      " 32%|█████████████████████████▍                                                      | 178/559 [12:00<27:05,  4.27s/it]"
     ]
    },
    {
     "name": "stdout",
     "output_type": "stream",
     "text": [
      "178번째 시도입니다\n"
     ]
    },
    {
     "name": "stderr",
     "output_type": "stream",
     "text": [
      "\r\n",
      " 32%|█████████████████████████▌                                                      | 179/559 [12:04<25:13,  3.98s/it]"
     ]
    },
    {
     "name": "stdout",
     "output_type": "stream",
     "text": [
      "179번째 시도입니다\n"
     ]
    },
    {
     "name": "stderr",
     "output_type": "stream",
     "text": [
      "\r\n",
      " 32%|█████████████████████████▊                                                      | 180/559 [12:08<26:22,  4.17s/it]"
     ]
    },
    {
     "name": "stdout",
     "output_type": "stream",
     "text": [
      "180번째 시도입니다\n"
     ]
    },
    {
     "name": "stderr",
     "output_type": "stream",
     "text": [
      "\r\n",
      " 32%|█████████████████████████▉                                                      | 181/559 [12:12<25:22,  4.03s/it]"
     ]
    },
    {
     "name": "stdout",
     "output_type": "stream",
     "text": [
      "181번째 시도입니다\n"
     ]
    },
    {
     "name": "stderr",
     "output_type": "stream",
     "text": [
      "\r\n",
      " 33%|██████████████████████████                                                      | 182/559 [12:16<25:32,  4.07s/it]"
     ]
    },
    {
     "name": "stdout",
     "output_type": "stream",
     "text": [
      "182번째 시도입니다\n"
     ]
    },
    {
     "name": "stderr",
     "output_type": "stream",
     "text": [
      "\r\n",
      " 33%|██████████████████████████▏                                                     | 183/559 [12:21<27:18,  4.36s/it]"
     ]
    },
    {
     "name": "stdout",
     "output_type": "stream",
     "text": [
      "183번째 시도입니다\n"
     ]
    },
    {
     "name": "stderr",
     "output_type": "stream",
     "text": [
      "\r\n",
      " 33%|██████████████████████████▎                                                     | 184/559 [12:25<26:36,  4.26s/it]"
     ]
    },
    {
     "name": "stdout",
     "output_type": "stream",
     "text": [
      "184번째 시도입니다\n"
     ]
    },
    {
     "name": "stderr",
     "output_type": "stream",
     "text": [
      "\r\n",
      " 33%|██████████████████████████▍                                                     | 185/559 [12:30<28:17,  4.54s/it]"
     ]
    },
    {
     "name": "stdout",
     "output_type": "stream",
     "text": [
      "185번째 시도입니다\n"
     ]
    },
    {
     "name": "stderr",
     "output_type": "stream",
     "text": [
      "\r\n",
      " 33%|██████████████████████████▌                                                     | 186/559 [12:34<26:30,  4.26s/it]"
     ]
    },
    {
     "name": "stdout",
     "output_type": "stream",
     "text": [
      "186번째 시도입니다\n"
     ]
    },
    {
     "name": "stderr",
     "output_type": "stream",
     "text": [
      "\r\n",
      " 33%|██████████████████████████▊                                                     | 187/559 [12:38<26:04,  4.20s/it]"
     ]
    },
    {
     "name": "stdout",
     "output_type": "stream",
     "text": [
      "187번째 시도입니다\n"
     ]
    },
    {
     "name": "stderr",
     "output_type": "stream",
     "text": [
      "\r\n",
      " 34%|██████████████████████████▉                                                     | 188/559 [12:42<25:17,  4.09s/it]"
     ]
    },
    {
     "name": "stdout",
     "output_type": "stream",
     "text": [
      "188번째 시도입니다\n"
     ]
    },
    {
     "name": "stderr",
     "output_type": "stream",
     "text": [
      "\r\n",
      " 34%|███████████████████████████                                                     | 189/559 [12:45<24:01,  3.90s/it]"
     ]
    },
    {
     "name": "stdout",
     "output_type": "stream",
     "text": [
      "189번째 시도입니다\n"
     ]
    },
    {
     "name": "stderr",
     "output_type": "stream",
     "text": [
      "\r\n",
      " 34%|███████████████████████████▏                                                    | 190/559 [12:49<23:50,  3.88s/it]"
     ]
    },
    {
     "name": "stdout",
     "output_type": "stream",
     "text": [
      "190번째 시도입니다\n"
     ]
    },
    {
     "name": "stderr",
     "output_type": "stream",
     "text": [
      "\r\n",
      " 34%|███████████████████████████▎                                                    | 191/559 [12:53<22:48,  3.72s/it]"
     ]
    },
    {
     "name": "stdout",
     "output_type": "stream",
     "text": [
      "191번째 시도입니다\n"
     ]
    },
    {
     "name": "stderr",
     "output_type": "stream",
     "text": [
      "\r\n",
      " 34%|███████████████████████████▍                                                    | 192/559 [12:55<21:19,  3.49s/it]"
     ]
    },
    {
     "name": "stdout",
     "output_type": "stream",
     "text": [
      "192번째 시도입니다\n"
     ]
    },
    {
     "name": "stderr",
     "output_type": "stream",
     "text": [
      "\r\n",
      " 35%|███████████████████████████▌                                                    | 193/559 [12:59<21:51,  3.58s/it]"
     ]
    },
    {
     "name": "stdout",
     "output_type": "stream",
     "text": [
      "193번째 시도입니다\n"
     ]
    },
    {
     "name": "stderr",
     "output_type": "stream",
     "text": [
      "\r\n",
      " 35%|███████████████████████████▊                                                    | 194/559 [13:03<22:20,  3.67s/it]"
     ]
    },
    {
     "name": "stdout",
     "output_type": "stream",
     "text": [
      "194번째 시도입니다\n"
     ]
    },
    {
     "name": "stderr",
     "output_type": "stream",
     "text": [
      "\r\n",
      " 35%|███████████████████████████▉                                                    | 195/559 [13:08<24:07,  3.98s/it]"
     ]
    },
    {
     "name": "stdout",
     "output_type": "stream",
     "text": [
      "195번째 시도입니다\n"
     ]
    },
    {
     "name": "stderr",
     "output_type": "stream",
     "text": [
      "\r\n",
      " 35%|████████████████████████████                                                    | 196/559 [13:13<25:49,  4.27s/it]"
     ]
    },
    {
     "name": "stdout",
     "output_type": "stream",
     "text": [
      "196번째 시도입니다\n"
     ]
    },
    {
     "name": "stderr",
     "output_type": "stream",
     "text": [
      "\r\n",
      " 35%|████████████████████████████▏                                                   | 197/559 [13:18<27:57,  4.63s/it]"
     ]
    },
    {
     "name": "stdout",
     "output_type": "stream",
     "text": [
      "197번째 시도입니다\n"
     ]
    },
    {
     "name": "stderr",
     "output_type": "stream",
     "text": [
      "\r\n",
      " 35%|████████████████████████████▎                                                   | 198/559 [13:23<28:44,  4.78s/it]"
     ]
    },
    {
     "name": "stdout",
     "output_type": "stream",
     "text": [
      "198번째 시도입니다\n"
     ]
    },
    {
     "name": "stderr",
     "output_type": "stream",
     "text": [
      "\r\n",
      " 36%|████████████████████████████▍                                                   | 199/559 [13:26<25:32,  4.26s/it]"
     ]
    },
    {
     "name": "stdout",
     "output_type": "stream",
     "text": [
      "199번째 시도입니다\n"
     ]
    },
    {
     "name": "stderr",
     "output_type": "stream",
     "text": [
      "\r\n",
      " 36%|████████████████████████████▌                                                   | 200/559 [13:31<25:45,  4.31s/it]"
     ]
    },
    {
     "name": "stdout",
     "output_type": "stream",
     "text": [
      "200번째 시도입니다\n"
     ]
    },
    {
     "name": "stderr",
     "output_type": "stream",
     "text": [
      "\r\n",
      " 36%|████████████████████████████▊                                                   | 201/559 [13:35<24:33,  4.11s/it]"
     ]
    },
    {
     "name": "stdout",
     "output_type": "stream",
     "text": [
      "201번째 시도입니다\n"
     ]
    },
    {
     "name": "stderr",
     "output_type": "stream",
     "text": [
      "\r\n",
      " 36%|████████████████████████████▉                                                   | 202/559 [13:39<25:38,  4.31s/it]"
     ]
    },
    {
     "name": "stdout",
     "output_type": "stream",
     "text": [
      "202번째 시도입니다\n"
     ]
    },
    {
     "name": "stderr",
     "output_type": "stream",
     "text": [
      "\r\n",
      " 36%|█████████████████████████████                                                   | 203/559 [13:44<26:31,  4.47s/it]"
     ]
    },
    {
     "name": "stdout",
     "output_type": "stream",
     "text": [
      "203번째 시도입니다\n"
     ]
    },
    {
     "name": "stderr",
     "output_type": "stream",
     "text": [
      "\r\n",
      " 36%|█████████████████████████████▏                                                  | 204/559 [13:48<24:51,  4.20s/it]"
     ]
    },
    {
     "name": "stdout",
     "output_type": "stream",
     "text": [
      "204번째 시도입니다\n"
     ]
    },
    {
     "name": "stderr",
     "output_type": "stream",
     "text": [
      "\r\n",
      " 37%|█████████████████████████████▎                                                  | 205/559 [13:52<24:55,  4.22s/it]"
     ]
    },
    {
     "name": "stdout",
     "output_type": "stream",
     "text": [
      "205번째 시도입니다\n"
     ]
    },
    {
     "name": "stderr",
     "output_type": "stream",
     "text": [
      "\r\n",
      " 37%|█████████████████████████████▍                                                  | 206/559 [13:56<24:00,  4.08s/it]"
     ]
    },
    {
     "name": "stdout",
     "output_type": "stream",
     "text": [
      "206번째 시도입니다\n"
     ]
    },
    {
     "name": "stderr",
     "output_type": "stream",
     "text": [
      "\r\n",
      " 37%|█████████████████████████████▌                                                  | 207/559 [14:00<23:51,  4.07s/it]"
     ]
    },
    {
     "name": "stdout",
     "output_type": "stream",
     "text": [
      "207번째 시도입니다\n"
     ]
    },
    {
     "name": "stderr",
     "output_type": "stream",
     "text": [
      "\r\n",
      " 37%|█████████████████████████████▊                                                  | 208/559 [14:04<23:14,  3.97s/it]"
     ]
    },
    {
     "name": "stdout",
     "output_type": "stream",
     "text": [
      "208번째 시도입니다\n"
     ]
    },
    {
     "name": "stderr",
     "output_type": "stream",
     "text": [
      "\r\n",
      " 37%|█████████████████████████████▉                                                  | 209/559 [14:08<23:32,  4.04s/it]"
     ]
    },
    {
     "name": "stdout",
     "output_type": "stream",
     "text": [
      "209번째 시도입니다\n"
     ]
    },
    {
     "name": "stderr",
     "output_type": "stream",
     "text": [
      "\r\n",
      " 38%|██████████████████████████████                                                  | 210/559 [14:11<22:28,  3.86s/it]"
     ]
    },
    {
     "name": "stdout",
     "output_type": "stream",
     "text": [
      "210번째 시도입니다\n"
     ]
    },
    {
     "name": "stderr",
     "output_type": "stream",
     "text": [
      "\r\n",
      " 38%|██████████████████████████████▏                                                 | 211/559 [14:16<23:23,  4.03s/it]"
     ]
    },
    {
     "name": "stdout",
     "output_type": "stream",
     "text": [
      "211번째 시도입니다\n"
     ]
    },
    {
     "name": "stderr",
     "output_type": "stream",
     "text": [
      "\r\n",
      " 38%|██████████████████████████████▎                                                 | 212/559 [14:20<24:17,  4.20s/it]"
     ]
    },
    {
     "name": "stdout",
     "output_type": "stream",
     "text": [
      "212번째 시도입니다\n"
     ]
    },
    {
     "name": "stderr",
     "output_type": "stream",
     "text": [
      "\r\n",
      " 38%|██████████████████████████████▍                                                 | 213/559 [14:26<27:22,  4.75s/it]"
     ]
    },
    {
     "name": "stdout",
     "output_type": "stream",
     "text": [
      "213번째 시도입니다\n"
     ]
    },
    {
     "name": "stderr",
     "output_type": "stream",
     "text": [
      "\r\n",
      " 38%|██████████████████████████████▋                                                 | 214/559 [14:31<26:34,  4.62s/it]"
     ]
    },
    {
     "name": "stdout",
     "output_type": "stream",
     "text": [
      "214번째 시도입니다\n"
     ]
    },
    {
     "name": "stderr",
     "output_type": "stream",
     "text": [
      "\r\n",
      " 38%|██████████████████████████████▊                                                 | 215/559 [14:34<24:39,  4.30s/it]"
     ]
    },
    {
     "name": "stdout",
     "output_type": "stream",
     "text": [
      "215번째 시도입니다\n"
     ]
    },
    {
     "name": "stderr",
     "output_type": "stream",
     "text": [
      "\r\n",
      " 39%|██████████████████████████████▉                                                 | 216/559 [14:38<24:30,  4.29s/it]"
     ]
    },
    {
     "name": "stdout",
     "output_type": "stream",
     "text": [
      "216번째 시도입니다\n"
     ]
    },
    {
     "name": "stderr",
     "output_type": "stream",
     "text": [
      "\r\n",
      " 39%|███████████████████████████████                                                 | 217/559 [14:42<23:00,  4.04s/it]"
     ]
    },
    {
     "name": "stdout",
     "output_type": "stream",
     "text": [
      "217번째 시도입니다\n"
     ]
    },
    {
     "name": "stderr",
     "output_type": "stream",
     "text": [
      "\r\n",
      " 39%|███████████████████████████████▏                                                | 218/559 [14:46<22:41,  3.99s/it]"
     ]
    },
    {
     "name": "stdout",
     "output_type": "stream",
     "text": [
      "218번째 시도입니다\n"
     ]
    },
    {
     "name": "stderr",
     "output_type": "stream",
     "text": [
      "\r\n",
      " 39%|███████████████████████████████▎                                                | 219/559 [14:49<21:34,  3.81s/it]"
     ]
    },
    {
     "name": "stdout",
     "output_type": "stream",
     "text": [
      "219번째 시도입니다\n"
     ]
    },
    {
     "name": "stderr",
     "output_type": "stream",
     "text": [
      "\r\n",
      " 39%|███████████████████████████████▍                                                | 220/559 [14:53<22:18,  3.95s/it]"
     ]
    },
    {
     "name": "stdout",
     "output_type": "stream",
     "text": [
      "220번째 시도입니다\n"
     ]
    },
    {
     "name": "stderr",
     "output_type": "stream",
     "text": [
      "\r\n",
      " 40%|███████████████████████████████▋                                                | 221/559 [14:57<22:32,  4.00s/it]"
     ]
    },
    {
     "name": "stdout",
     "output_type": "stream",
     "text": [
      "221번째 시도입니다\n"
     ]
    },
    {
     "name": "stderr",
     "output_type": "stream",
     "text": [
      "\r\n",
      " 40%|███████████████████████████████▊                                                | 222/559 [15:02<22:46,  4.05s/it]"
     ]
    },
    {
     "name": "stdout",
     "output_type": "stream",
     "text": [
      "222번째 시도입니다\n"
     ]
    },
    {
     "name": "stderr",
     "output_type": "stream",
     "text": [
      "\r\n",
      " 40%|███████████████████████████████▉                                                | 223/559 [15:06<22:35,  4.03s/it]"
     ]
    },
    {
     "name": "stdout",
     "output_type": "stream",
     "text": [
      "223번째 시도입니다\n"
     ]
    },
    {
     "name": "stderr",
     "output_type": "stream",
     "text": [
      "\r\n",
      " 40%|████████████████████████████████                                                | 224/559 [15:10<22:59,  4.12s/it]"
     ]
    },
    {
     "name": "stdout",
     "output_type": "stream",
     "text": [
      "224번째 시도입니다\n"
     ]
    },
    {
     "name": "stderr",
     "output_type": "stream",
     "text": [
      "\r\n",
      " 40%|████████████████████████████████▏                                               | 225/559 [15:14<22:31,  4.05s/it]"
     ]
    },
    {
     "name": "stdout",
     "output_type": "stream",
     "text": [
      "225번째 시도입니다\n"
     ]
    },
    {
     "name": "stderr",
     "output_type": "stream",
     "text": [
      "\r\n",
      " 40%|████████████████████████████████▎                                               | 226/559 [15:18<22:02,  3.97s/it]"
     ]
    },
    {
     "name": "stdout",
     "output_type": "stream",
     "text": [
      "226번째 시도입니다\n"
     ]
    },
    {
     "name": "stderr",
     "output_type": "stream",
     "text": [
      "\r\n",
      " 41%|████████████████████████████████▍                                               | 227/559 [15:21<21:25,  3.87s/it]"
     ]
    },
    {
     "name": "stdout",
     "output_type": "stream",
     "text": [
      "227번째 시도입니다\n"
     ]
    },
    {
     "name": "stderr",
     "output_type": "stream",
     "text": [
      "\r\n",
      " 41%|████████████████████████████████▋                                               | 228/559 [15:25<21:00,  3.81s/it]"
     ]
    },
    {
     "name": "stdout",
     "output_type": "stream",
     "text": [
      "228번째 시도입니다\n"
     ]
    },
    {
     "name": "stderr",
     "output_type": "stream",
     "text": [
      "\r\n",
      " 41%|████████████████████████████████▊                                               | 229/559 [15:29<20:58,  3.81s/it]"
     ]
    },
    {
     "name": "stdout",
     "output_type": "stream",
     "text": [
      "229번째 시도입니다\n"
     ]
    },
    {
     "name": "stderr",
     "output_type": "stream",
     "text": [
      "\r\n",
      " 41%|████████████████████████████████▉                                               | 230/559 [15:33<21:10,  3.86s/it]"
     ]
    },
    {
     "name": "stdout",
     "output_type": "stream",
     "text": [
      "230번째 시도입니다\n"
     ]
    },
    {
     "name": "stderr",
     "output_type": "stream",
     "text": [
      "\r\n",
      " 41%|█████████████████████████████████                                               | 231/559 [15:36<20:36,  3.77s/it]"
     ]
    },
    {
     "name": "stdout",
     "output_type": "stream",
     "text": [
      "231번째 시도입니다\n"
     ]
    },
    {
     "name": "stderr",
     "output_type": "stream",
     "text": [
      "\r\n",
      " 42%|█████████████████████████████████▏                                              | 232/559 [15:40<19:56,  3.66s/it]"
     ]
    },
    {
     "name": "stdout",
     "output_type": "stream",
     "text": [
      "232번째 시도입니다\n"
     ]
    },
    {
     "name": "stderr",
     "output_type": "stream",
     "text": [
      "\r\n",
      " 42%|█████████████████████████████████▎                                              | 233/559 [15:44<20:59,  3.86s/it]"
     ]
    },
    {
     "name": "stdout",
     "output_type": "stream",
     "text": [
      "233번째 시도입니다\n"
     ]
    },
    {
     "name": "stderr",
     "output_type": "stream",
     "text": [
      "\r\n",
      " 42%|█████████████████████████████████▍                                              | 234/559 [15:49<22:03,  4.07s/it]"
     ]
    },
    {
     "name": "stdout",
     "output_type": "stream",
     "text": [
      "234번째 시도입니다\n"
     ]
    },
    {
     "name": "stderr",
     "output_type": "stream",
     "text": [
      "\r\n",
      " 42%|█████████████████████████████████▋                                              | 235/559 [15:53<22:49,  4.23s/it]"
     ]
    },
    {
     "name": "stdout",
     "output_type": "stream",
     "text": [
      "235번째 시도입니다\n"
     ]
    },
    {
     "name": "stderr",
     "output_type": "stream",
     "text": [
      "\r\n",
      " 42%|█████████████████████████████████▊                                              | 236/559 [15:58<23:00,  4.28s/it]"
     ]
    },
    {
     "name": "stdout",
     "output_type": "stream",
     "text": [
      "236번째 시도입니다\n"
     ]
    },
    {
     "name": "stderr",
     "output_type": "stream",
     "text": [
      "\r\n",
      " 42%|█████████████████████████████████▉                                              | 237/559 [16:01<22:18,  4.16s/it]"
     ]
    },
    {
     "name": "stdout",
     "output_type": "stream",
     "text": [
      "237번째 시도입니다\n"
     ]
    },
    {
     "name": "stderr",
     "output_type": "stream",
     "text": [
      "\r\n",
      " 43%|██████████████████████████████████                                              | 238/559 [16:06<22:49,  4.27s/it]"
     ]
    },
    {
     "name": "stdout",
     "output_type": "stream",
     "text": [
      "238번째 시도입니다\n"
     ]
    },
    {
     "name": "stderr",
     "output_type": "stream",
     "text": [
      "\r\n",
      " 43%|██████████████████████████████████▏                                             | 239/559 [16:09<21:27,  4.02s/it]"
     ]
    },
    {
     "name": "stdout",
     "output_type": "stream",
     "text": [
      "239번째 시도입니다\n"
     ]
    },
    {
     "name": "stderr",
     "output_type": "stream",
     "text": [
      "\r\n",
      " 43%|██████████████████████████████████▎                                             | 240/559 [16:13<21:23,  4.02s/it]"
     ]
    },
    {
     "name": "stdout",
     "output_type": "stream",
     "text": [
      "240번째 시도입니다\n"
     ]
    },
    {
     "name": "stderr",
     "output_type": "stream",
     "text": [
      "\r\n",
      " 43%|██████████████████████████████████▍                                             | 241/559 [16:16<19:36,  3.70s/it]"
     ]
    },
    {
     "name": "stdout",
     "output_type": "stream",
     "text": [
      "241번째 시도입니다\n"
     ]
    },
    {
     "name": "stderr",
     "output_type": "stream",
     "text": [
      "\r\n",
      " 43%|██████████████████████████████████▋                                             | 242/559 [16:21<20:20,  3.85s/it]"
     ]
    },
    {
     "name": "stdout",
     "output_type": "stream",
     "text": [
      "242번째 시도입니다\n"
     ]
    },
    {
     "name": "stderr",
     "output_type": "stream",
     "text": [
      "\r\n",
      " 43%|██████████████████████████████████▊                                             | 243/559 [16:22<16:41,  3.17s/it]"
     ]
    },
    {
     "name": "stdout",
     "output_type": "stream",
     "text": [
      "243번째 시도입니다\n"
     ]
    },
    {
     "name": "stderr",
     "output_type": "stream",
     "text": [
      "\r\n",
      " 44%|██████████████████████████████████▉                                             | 244/559 [16:25<16:34,  3.16s/it]"
     ]
    },
    {
     "name": "stdout",
     "output_type": "stream",
     "text": [
      "244번째 시도입니다\n"
     ]
    },
    {
     "name": "stderr",
     "output_type": "stream",
     "text": [
      "\r\n",
      " 44%|███████████████████████████████████                                             | 245/559 [16:31<19:54,  3.80s/it]"
     ]
    },
    {
     "name": "stdout",
     "output_type": "stream",
     "text": [
      "245번째 시도입니다\n"
     ]
    },
    {
     "name": "stderr",
     "output_type": "stream",
     "text": [
      "\r\n",
      " 44%|███████████████████████████████████▏                                            | 246/559 [16:36<22:09,  4.25s/it]"
     ]
    },
    {
     "name": "stdout",
     "output_type": "stream",
     "text": [
      "246번째 시도입니다\n"
     ]
    },
    {
     "name": "stderr",
     "output_type": "stream",
     "text": [
      "\r\n",
      " 44%|███████████████████████████████████▎                                            | 247/559 [16:41<22:51,  4.39s/it]"
     ]
    },
    {
     "name": "stdout",
     "output_type": "stream",
     "text": [
      "247번째 시도입니다\n"
     ]
    },
    {
     "name": "stderr",
     "output_type": "stream",
     "text": [
      "\r\n",
      " 44%|███████████████████████████████████▍                                            | 248/559 [16:45<23:18,  4.50s/it]"
     ]
    },
    {
     "name": "stdout",
     "output_type": "stream",
     "text": [
      "248번째 시도입니다\n"
     ]
    },
    {
     "name": "stderr",
     "output_type": "stream",
     "text": [
      "\r\n",
      " 45%|███████████████████████████████████▋                                            | 249/559 [16:50<23:28,  4.54s/it]"
     ]
    },
    {
     "name": "stdout",
     "output_type": "stream",
     "text": [
      "249번째 시도입니다\n"
     ]
    },
    {
     "name": "stderr",
     "output_type": "stream",
     "text": [
      "\r\n",
      " 45%|███████████████████████████████████▊                                            | 250/559 [16:55<24:46,  4.81s/it]"
     ]
    },
    {
     "name": "stdout",
     "output_type": "stream",
     "text": [
      "250번째 시도입니다\n"
     ]
    },
    {
     "name": "stderr",
     "output_type": "stream",
     "text": [
      "\r\n",
      " 45%|███████████████████████████████████▉                                            | 251/559 [16:59<23:14,  4.53s/it]"
     ]
    },
    {
     "name": "stdout",
     "output_type": "stream",
     "text": [
      "251번째 시도입니다\n"
     ]
    },
    {
     "name": "stderr",
     "output_type": "stream",
     "text": [
      "\r\n",
      " 45%|████████████████████████████████████                                            | 252/559 [17:04<23:48,  4.65s/it]"
     ]
    },
    {
     "name": "stdout",
     "output_type": "stream",
     "text": [
      "252번째 시도입니다\n"
     ]
    },
    {
     "name": "stderr",
     "output_type": "stream",
     "text": [
      "\r\n",
      " 45%|████████████████████████████████████▏                                           | 253/559 [17:09<23:07,  4.53s/it]"
     ]
    },
    {
     "name": "stdout",
     "output_type": "stream",
     "text": [
      "253번째 시도입니다\n"
     ]
    },
    {
     "name": "stderr",
     "output_type": "stream",
     "text": [
      "\r\n",
      " 45%|████████████████████████████████████▎                                           | 254/559 [17:12<21:39,  4.26s/it]"
     ]
    },
    {
     "name": "stdout",
     "output_type": "stream",
     "text": [
      "254번째 시도입니다\n"
     ]
    },
    {
     "name": "stderr",
     "output_type": "stream",
     "text": [
      "\r\n",
      " 46%|████████████████████████████████████▍                                           | 255/559 [17:16<21:24,  4.22s/it]"
     ]
    },
    {
     "name": "stdout",
     "output_type": "stream",
     "text": [
      "255번째 시도입니다\n"
     ]
    },
    {
     "name": "stderr",
     "output_type": "stream",
     "text": [
      "\r\n",
      " 46%|████████████████████████████████████▋                                           | 256/559 [17:20<19:54,  3.94s/it]"
     ]
    },
    {
     "name": "stdout",
     "output_type": "stream",
     "text": [
      "256번째 시도입니다\n"
     ]
    },
    {
     "name": "stderr",
     "output_type": "stream",
     "text": [
      "\r\n",
      " 46%|████████████████████████████████████▊                                           | 257/559 [17:24<20:05,  3.99s/it]"
     ]
    },
    {
     "name": "stdout",
     "output_type": "stream",
     "text": [
      "257번째 시도입니다\n"
     ]
    },
    {
     "name": "stderr",
     "output_type": "stream",
     "text": [
      "\r\n",
      " 46%|████████████████████████████████████▉                                           | 258/559 [17:28<20:28,  4.08s/it]"
     ]
    },
    {
     "name": "stdout",
     "output_type": "stream",
     "text": [
      "258번째 시도입니다\n"
     ]
    },
    {
     "name": "stderr",
     "output_type": "stream",
     "text": [
      "\r\n",
      " 46%|█████████████████████████████████████                                           | 259/559 [17:32<20:37,  4.12s/it]"
     ]
    },
    {
     "name": "stdout",
     "output_type": "stream",
     "text": [
      "259번째 시도입니다\n"
     ]
    },
    {
     "name": "stderr",
     "output_type": "stream",
     "text": [
      "\r\n",
      " 47%|█████████████████████████████████████▏                                          | 260/559 [17:37<20:54,  4.20s/it]"
     ]
    },
    {
     "name": "stdout",
     "output_type": "stream",
     "text": [
      "260번째 시도입니다\n"
     ]
    },
    {
     "name": "stderr",
     "output_type": "stream",
     "text": [
      "\r\n",
      " 47%|█████████████████████████████████████▎                                          | 261/559 [17:40<20:26,  4.12s/it]"
     ]
    },
    {
     "name": "stdout",
     "output_type": "stream",
     "text": [
      "261번째 시도입니다\n"
     ]
    },
    {
     "name": "stderr",
     "output_type": "stream",
     "text": [
      "\r\n",
      " 47%|█████████████████████████████████████▍                                          | 262/559 [17:46<22:17,  4.50s/it]"
     ]
    },
    {
     "name": "stdout",
     "output_type": "stream",
     "text": [
      "262번째 시도입니다\n"
     ]
    },
    {
     "name": "stderr",
     "output_type": "stream",
     "text": [
      "\r\n",
      " 47%|█████████████████████████████████████▋                                          | 263/559 [17:51<23:19,  4.73s/it]"
     ]
    },
    {
     "name": "stdout",
     "output_type": "stream",
     "text": [
      "263번째 시도입니다\n"
     ]
    },
    {
     "name": "stderr",
     "output_type": "stream",
     "text": [
      "\r\n",
      " 47%|█████████████████████████████████████▊                                          | 264/559 [17:56<23:04,  4.69s/it]"
     ]
    },
    {
     "name": "stdout",
     "output_type": "stream",
     "text": [
      "264번째 시도입니다\n"
     ]
    },
    {
     "name": "stderr",
     "output_type": "stream",
     "text": [
      "\r\n",
      " 47%|█████████████████████████████████████▉                                          | 265/559 [18:00<22:11,  4.53s/it]"
     ]
    },
    {
     "name": "stdout",
     "output_type": "stream",
     "text": [
      "265번째 시도입니다\n"
     ]
    },
    {
     "name": "stderr",
     "output_type": "stream",
     "text": [
      "\r\n",
      " 48%|██████████████████████████████████████                                          | 266/559 [18:04<21:31,  4.41s/it]"
     ]
    },
    {
     "name": "stdout",
     "output_type": "stream",
     "text": [
      "266번째 시도입니다\n"
     ]
    },
    {
     "name": "stderr",
     "output_type": "stream",
     "text": [
      "\r\n",
      " 48%|██████████████████████████████████████▏                                         | 267/559 [18:08<20:41,  4.25s/it]"
     ]
    },
    {
     "name": "stdout",
     "output_type": "stream",
     "text": [
      "267번째 시도입니다\n"
     ]
    },
    {
     "name": "stderr",
     "output_type": "stream",
     "text": [
      "\r\n",
      " 48%|██████████████████████████████████████▎                                         | 268/559 [18:12<20:25,  4.21s/it]"
     ]
    },
    {
     "name": "stdout",
     "output_type": "stream",
     "text": [
      "268번째 시도입니다\n"
     ]
    },
    {
     "name": "stderr",
     "output_type": "stream",
     "text": [
      "\r\n",
      " 48%|██████████████████████████████████████▍                                         | 269/559 [18:16<20:09,  4.17s/it]"
     ]
    },
    {
     "name": "stdout",
     "output_type": "stream",
     "text": [
      "269번째 시도입니다\n"
     ]
    },
    {
     "name": "stderr",
     "output_type": "stream",
     "text": [
      "\r\n",
      " 48%|██████████████████████████████████████▋                                         | 270/559 [18:21<21:17,  4.42s/it]"
     ]
    },
    {
     "name": "stdout",
     "output_type": "stream",
     "text": [
      "270번째 시도입니다\n"
     ]
    },
    {
     "name": "stderr",
     "output_type": "stream",
     "text": [
      "\r\n",
      " 48%|██████████████████████████████████████▊                                         | 271/559 [18:26<21:17,  4.43s/it]"
     ]
    },
    {
     "name": "stdout",
     "output_type": "stream",
     "text": [
      "271번째 시도입니다\n"
     ]
    },
    {
     "name": "stderr",
     "output_type": "stream",
     "text": [
      "\r\n",
      " 49%|██████████████████████████████████████▉                                         | 272/559 [18:29<19:44,  4.13s/it]"
     ]
    },
    {
     "name": "stdout",
     "output_type": "stream",
     "text": [
      "272번째 시도입니다\n"
     ]
    },
    {
     "name": "stderr",
     "output_type": "stream",
     "text": [
      "\r\n",
      " 49%|███████████████████████████████████████                                         | 273/559 [18:33<19:25,  4.08s/it]"
     ]
    },
    {
     "name": "stdout",
     "output_type": "stream",
     "text": [
      "273번째 시도입니다\n"
     ]
    },
    {
     "name": "stderr",
     "output_type": "stream",
     "text": [
      "\r\n",
      " 49%|███████████████████████████████████████▏                                        | 274/559 [18:39<22:40,  4.77s/it]"
     ]
    },
    {
     "name": "stdout",
     "output_type": "stream",
     "text": [
      "274번째 시도입니다\n"
     ]
    },
    {
     "name": "stderr",
     "output_type": "stream",
     "text": [
      "\r\n",
      " 49%|███████████████████████████████████████▎                                        | 275/559 [18:44<22:53,  4.83s/it]"
     ]
    },
    {
     "name": "stdout",
     "output_type": "stream",
     "text": [
      "275번째 시도입니다\n"
     ]
    },
    {
     "name": "stderr",
     "output_type": "stream",
     "text": [
      "\r\n",
      " 49%|███████████████████████████████████████▍                                        | 276/559 [18:48<21:42,  4.60s/it]"
     ]
    },
    {
     "name": "stdout",
     "output_type": "stream",
     "text": [
      "276번째 시도입니다\n"
     ]
    },
    {
     "name": "stderr",
     "output_type": "stream",
     "text": [
      "\r\n",
      " 50%|███████████████████████████████████████▋                                        | 277/559 [18:52<20:38,  4.39s/it]"
     ]
    },
    {
     "name": "stdout",
     "output_type": "stream",
     "text": [
      "277번째 시도입니다\n"
     ]
    },
    {
     "name": "stderr",
     "output_type": "stream",
     "text": [
      "\r\n",
      " 50%|███████████████████████████████████████▊                                        | 278/559 [18:56<19:17,  4.12s/it]"
     ]
    },
    {
     "name": "stdout",
     "output_type": "stream",
     "text": [
      "278번째 시도입니다\n"
     ]
    },
    {
     "name": "stderr",
     "output_type": "stream",
     "text": [
      "\r\n",
      " 50%|███████████████████████████████████████▉                                        | 279/559 [19:00<19:59,  4.28s/it]"
     ]
    },
    {
     "name": "stdout",
     "output_type": "stream",
     "text": [
      "279번째 시도입니다\n"
     ]
    },
    {
     "name": "stderr",
     "output_type": "stream",
     "text": [
      "\r\n",
      " 50%|████████████████████████████████████████                                        | 280/559 [19:04<18:52,  4.06s/it]"
     ]
    },
    {
     "name": "stdout",
     "output_type": "stream",
     "text": [
      "280번째 시도입니다\n"
     ]
    },
    {
     "name": "stderr",
     "output_type": "stream",
     "text": [
      "\r\n",
      " 50%|████████████████████████████████████████▏                                       | 281/559 [19:08<18:58,  4.09s/it]"
     ]
    },
    {
     "name": "stdout",
     "output_type": "stream",
     "text": [
      "281번째 시도입니다\n"
     ]
    },
    {
     "name": "stderr",
     "output_type": "stream",
     "text": [
      "\r\n",
      " 50%|████████████████████████████████████████▎                                       | 282/559 [19:11<17:49,  3.86s/it]"
     ]
    },
    {
     "name": "stdout",
     "output_type": "stream",
     "text": [
      "282번째 시도입니다\n"
     ]
    },
    {
     "name": "stderr",
     "output_type": "stream",
     "text": [
      "\r\n",
      " 51%|████████████████████████████████████████▌                                       | 283/559 [19:16<18:14,  3.96s/it]"
     ]
    },
    {
     "name": "stdout",
     "output_type": "stream",
     "text": [
      "283번째 시도입니다\n"
     ]
    },
    {
     "name": "stderr",
     "output_type": "stream",
     "text": [
      "\r\n",
      " 51%|████████████████████████████████████████▋                                       | 284/559 [19:19<16:48,  3.67s/it]"
     ]
    },
    {
     "name": "stdout",
     "output_type": "stream",
     "text": [
      "284번째 시도입니다\n"
     ]
    },
    {
     "name": "stderr",
     "output_type": "stream",
     "text": [
      "\r\n",
      " 51%|████████████████████████████████████████▊                                       | 285/559 [19:23<18:00,  3.94s/it]"
     ]
    },
    {
     "name": "stdout",
     "output_type": "stream",
     "text": [
      "285번째 시도입니다\n"
     ]
    },
    {
     "name": "stderr",
     "output_type": "stream",
     "text": [
      "\r\n",
      " 51%|████████████████████████████████████████▉                                       | 286/559 [19:27<17:57,  3.95s/it]"
     ]
    },
    {
     "name": "stdout",
     "output_type": "stream",
     "text": [
      "286번째 시도입니다\n"
     ]
    },
    {
     "name": "stderr",
     "output_type": "stream",
     "text": [
      "\r\n",
      " 51%|█████████████████████████████████████████                                       | 287/559 [19:32<19:08,  4.22s/it]"
     ]
    },
    {
     "name": "stdout",
     "output_type": "stream",
     "text": [
      "287번째 시도입니다\n"
     ]
    },
    {
     "name": "stderr",
     "output_type": "stream",
     "text": [
      "\r\n",
      " 52%|█████████████████████████████████████████▏                                      | 288/559 [19:35<17:55,  3.97s/it]"
     ]
    },
    {
     "name": "stdout",
     "output_type": "stream",
     "text": [
      "288번째 시도입니다\n"
     ]
    },
    {
     "name": "stderr",
     "output_type": "stream",
     "text": [
      "\r\n",
      " 52%|█████████████████████████████████████████▎                                      | 289/559 [19:40<19:15,  4.28s/it]"
     ]
    },
    {
     "name": "stdout",
     "output_type": "stream",
     "text": [
      "289번째 시도입니다\n"
     ]
    },
    {
     "name": "stderr",
     "output_type": "stream",
     "text": [
      "\r\n",
      " 52%|█████████████████████████████████████████▌                                      | 290/559 [19:45<18:59,  4.24s/it]"
     ]
    },
    {
     "name": "stdout",
     "output_type": "stream",
     "text": [
      "290번째 시도입니다\n"
     ]
    },
    {
     "name": "stderr",
     "output_type": "stream",
     "text": [
      "\r\n",
      " 52%|█████████████████████████████████████████▋                                      | 291/559 [19:49<18:49,  4.21s/it]"
     ]
    },
    {
     "name": "stdout",
     "output_type": "stream",
     "text": [
      "291번째 시도입니다\n"
     ]
    },
    {
     "name": "stderr",
     "output_type": "stream",
     "text": [
      "\r\n",
      " 52%|█████████████████████████████████████████▊                                      | 292/559 [19:52<18:04,  4.06s/it]"
     ]
    },
    {
     "name": "stdout",
     "output_type": "stream",
     "text": [
      "292번째 시도입니다\n"
     ]
    },
    {
     "name": "stderr",
     "output_type": "stream",
     "text": [
      "\r\n",
      " 52%|█████████████████████████████████████████▉                                      | 293/559 [19:56<17:22,  3.92s/it]"
     ]
    },
    {
     "name": "stdout",
     "output_type": "stream",
     "text": [
      "293번째 시도입니다\n"
     ]
    },
    {
     "name": "stderr",
     "output_type": "stream",
     "text": [
      "\r\n",
      " 53%|██████████████████████████████████████████                                      | 294/559 [20:01<18:17,  4.14s/it]"
     ]
    },
    {
     "name": "stdout",
     "output_type": "stream",
     "text": [
      "294번째 시도입니다\n"
     ]
    },
    {
     "name": "stderr",
     "output_type": "stream",
     "text": [
      "\r\n",
      " 53%|██████████████████████████████████████████▏                                     | 295/559 [20:05<17:59,  4.09s/it]"
     ]
    },
    {
     "name": "stdout",
     "output_type": "stream",
     "text": [
      "295번째 시도입니다\n"
     ]
    },
    {
     "name": "stderr",
     "output_type": "stream",
     "text": [
      "\r\n",
      " 53%|██████████████████████████████████████████▎                                     | 296/559 [20:09<18:29,  4.22s/it]"
     ]
    },
    {
     "name": "stdout",
     "output_type": "stream",
     "text": [
      "296번째 시도입니다\n"
     ]
    },
    {
     "name": "stderr",
     "output_type": "stream",
     "text": [
      "\r\n",
      " 53%|██████████████████████████████████████████▌                                     | 297/559 [20:13<17:25,  3.99s/it]"
     ]
    },
    {
     "name": "stdout",
     "output_type": "stream",
     "text": [
      "297번째 시도입니다\n"
     ]
    },
    {
     "name": "stderr",
     "output_type": "stream",
     "text": [
      "\r\n",
      " 53%|██████████████████████████████████████████▋                                     | 298/559 [20:17<18:01,  4.14s/it]"
     ]
    },
    {
     "name": "stdout",
     "output_type": "stream",
     "text": [
      "298번째 시도입니다\n"
     ]
    },
    {
     "name": "stderr",
     "output_type": "stream",
     "text": [
      "\r\n",
      " 53%|██████████████████████████████████████████▊                                     | 299/559 [20:22<18:37,  4.30s/it]"
     ]
    },
    {
     "name": "stdout",
     "output_type": "stream",
     "text": [
      "299번째 시도입니다\n"
     ]
    },
    {
     "name": "stderr",
     "output_type": "stream",
     "text": [
      "\r\n",
      " 54%|██████████████████████████████████████████▉                                     | 300/559 [20:25<17:28,  4.05s/it]"
     ]
    },
    {
     "name": "stdout",
     "output_type": "stream",
     "text": [
      "300번째 시도입니다\n"
     ]
    },
    {
     "name": "stderr",
     "output_type": "stream",
     "text": [
      "\r\n",
      " 54%|███████████████████████████████████████████                                     | 301/559 [20:29<17:30,  4.07s/it]"
     ]
    },
    {
     "name": "stdout",
     "output_type": "stream",
     "text": [
      "301번째 시도입니다\n"
     ]
    },
    {
     "name": "stderr",
     "output_type": "stream",
     "text": [
      "\r\n",
      " 54%|███████████████████████████████████████████▏                                    | 302/559 [20:33<16:47,  3.92s/it]"
     ]
    },
    {
     "name": "stdout",
     "output_type": "stream",
     "text": [
      "302번째 시도입니다\n"
     ]
    },
    {
     "name": "stderr",
     "output_type": "stream",
     "text": [
      "\r\n",
      " 54%|███████████████████████████████████████████▎                                    | 303/559 [20:37<17:07,  4.01s/it]"
     ]
    },
    {
     "name": "stdout",
     "output_type": "stream",
     "text": [
      "303번째 시도입니다\n"
     ]
    },
    {
     "name": "stderr",
     "output_type": "stream",
     "text": [
      "\r\n",
      " 54%|███████████████████████████████████████████▌                                    | 304/559 [20:40<16:07,  3.80s/it]"
     ]
    },
    {
     "name": "stdout",
     "output_type": "stream",
     "text": [
      "304번째 시도입니다\n"
     ]
    },
    {
     "name": "stderr",
     "output_type": "stream",
     "text": [
      "\r\n",
      " 55%|███████████████████████████████████████████▋                                    | 305/559 [20:44<15:40,  3.70s/it]"
     ]
    },
    {
     "name": "stdout",
     "output_type": "stream",
     "text": [
      "305번째 시도입니다\n"
     ]
    },
    {
     "name": "stderr",
     "output_type": "stream",
     "text": [
      "\r\n",
      " 55%|███████████████████████████████████████████▊                                    | 306/559 [20:48<16:12,  3.85s/it]"
     ]
    },
    {
     "name": "stdout",
     "output_type": "stream",
     "text": [
      "306번째 시도입니다\n"
     ]
    },
    {
     "name": "stderr",
     "output_type": "stream",
     "text": [
      "\r\n",
      " 55%|███████████████████████████████████████████▉                                    | 307/559 [20:52<15:40,  3.73s/it]"
     ]
    },
    {
     "name": "stdout",
     "output_type": "stream",
     "text": [
      "307번째 시도입니다\n"
     ]
    },
    {
     "name": "stderr",
     "output_type": "stream",
     "text": [
      "\r\n",
      " 55%|████████████████████████████████████████████                                    | 308/559 [20:56<17:03,  4.08s/it]"
     ]
    },
    {
     "name": "stdout",
     "output_type": "stream",
     "text": [
      "308번째 시도입니다\n"
     ]
    },
    {
     "name": "stderr",
     "output_type": "stream",
     "text": [
      "\r\n",
      " 55%|████████████████████████████████████████████▏                                   | 309/559 [21:01<17:18,  4.15s/it]"
     ]
    },
    {
     "name": "stdout",
     "output_type": "stream",
     "text": [
      "309번째 시도입니다\n"
     ]
    },
    {
     "name": "stderr",
     "output_type": "stream",
     "text": [
      "\r\n",
      " 55%|████████████████████████████████████████████▎                                   | 310/559 [21:05<17:06,  4.12s/it]"
     ]
    },
    {
     "name": "stdout",
     "output_type": "stream",
     "text": [
      "310번째 시도입니다\n"
     ]
    },
    {
     "name": "stderr",
     "output_type": "stream",
     "text": [
      "\r\n",
      " 56%|████████████████████████████████████████████▌                                   | 311/559 [21:08<16:26,  3.98s/it]"
     ]
    },
    {
     "name": "stdout",
     "output_type": "stream",
     "text": [
      "311번째 시도입니다\n"
     ]
    },
    {
     "name": "stderr",
     "output_type": "stream",
     "text": [
      "\r\n",
      " 56%|████████████████████████████████████████████▋                                   | 312/559 [21:12<16:07,  3.92s/it]"
     ]
    },
    {
     "name": "stdout",
     "output_type": "stream",
     "text": [
      "312번째 시도입니다\n"
     ]
    },
    {
     "name": "stderr",
     "output_type": "stream",
     "text": [
      "\r\n",
      " 56%|████████████████████████████████████████████▊                                   | 313/559 [21:16<16:07,  3.93s/it]"
     ]
    },
    {
     "name": "stdout",
     "output_type": "stream",
     "text": [
      "313번째 시도입니다\n"
     ]
    },
    {
     "name": "stderr",
     "output_type": "stream",
     "text": [
      "\r\n",
      " 56%|████████████████████████████████████████████▉                                   | 314/559 [21:20<16:07,  3.95s/it]"
     ]
    },
    {
     "name": "stdout",
     "output_type": "stream",
     "text": [
      "314번째 시도입니다\n"
     ]
    },
    {
     "name": "stderr",
     "output_type": "stream",
     "text": [
      "\r\n",
      " 56%|█████████████████████████████████████████████                                   | 315/559 [21:24<15:53,  3.91s/it]"
     ]
    },
    {
     "name": "stdout",
     "output_type": "stream",
     "text": [
      "315번째 시도입니다\n"
     ]
    },
    {
     "name": "stderr",
     "output_type": "stream",
     "text": [
      "\r\n",
      " 57%|█████████████████████████████████████████████▏                                  | 316/559 [21:28<16:05,  3.97s/it]"
     ]
    },
    {
     "name": "stdout",
     "output_type": "stream",
     "text": [
      "316번째 시도입니다\n"
     ]
    },
    {
     "name": "stderr",
     "output_type": "stream",
     "text": [
      "\r\n",
      " 57%|█████████████████████████████████████████████▎                                  | 317/559 [21:32<16:15,  4.03s/it]"
     ]
    },
    {
     "name": "stdout",
     "output_type": "stream",
     "text": [
      "317번째 시도입니다\n"
     ]
    },
    {
     "name": "stderr",
     "output_type": "stream",
     "text": [
      "\r\n",
      " 57%|█████████████████████████████████████████████▌                                  | 318/559 [21:36<15:17,  3.81s/it]"
     ]
    },
    {
     "name": "stdout",
     "output_type": "stream",
     "text": [
      "318번째 시도입니다\n"
     ]
    },
    {
     "name": "stderr",
     "output_type": "stream",
     "text": [
      "\r\n",
      " 57%|█████████████████████████████████████████████▋                                  | 319/559 [21:40<15:44,  3.93s/it]"
     ]
    },
    {
     "name": "stdout",
     "output_type": "stream",
     "text": [
      "319번째 시도입니다\n"
     ]
    },
    {
     "name": "stderr",
     "output_type": "stream",
     "text": [
      "\r\n",
      " 57%|█████████████████████████████████████████████▊                                  | 320/559 [21:43<14:50,  3.73s/it]"
     ]
    },
    {
     "name": "stdout",
     "output_type": "stream",
     "text": [
      "320번째 시도입니다\n"
     ]
    },
    {
     "name": "stderr",
     "output_type": "stream",
     "text": [
      "\r\n",
      " 57%|█████████████████████████████████████████████▉                                  | 321/559 [21:48<16:27,  4.15s/it]"
     ]
    },
    {
     "name": "stdout",
     "output_type": "stream",
     "text": [
      "321번째 시도입니다\n"
     ]
    },
    {
     "name": "stderr",
     "output_type": "stream",
     "text": [
      "\r\n",
      " 58%|██████████████████████████████████████████████                                  | 322/559 [21:52<15:48,  4.00s/it]"
     ]
    },
    {
     "name": "stdout",
     "output_type": "stream",
     "text": [
      "322번째 시도입니다\n"
     ]
    },
    {
     "name": "stderr",
     "output_type": "stream",
     "text": [
      "\r\n",
      " 58%|██████████████████████████████████████████████▏                                 | 323/559 [21:56<15:54,  4.05s/it]"
     ]
    },
    {
     "name": "stdout",
     "output_type": "stream",
     "text": [
      "323번째 시도입니다\n"
     ]
    },
    {
     "name": "stderr",
     "output_type": "stream",
     "text": [
      "\r\n",
      " 58%|██████████████████████████████████████████████▎                                 | 324/559 [22:00<15:22,  3.93s/it]"
     ]
    },
    {
     "name": "stdout",
     "output_type": "stream",
     "text": [
      "324번째 시도입니다\n"
     ]
    },
    {
     "name": "stderr",
     "output_type": "stream",
     "text": [
      "\r\n",
      " 58%|██████████████████████████████████████████████▌                                 | 325/559 [22:04<15:27,  3.96s/it]"
     ]
    },
    {
     "name": "stdout",
     "output_type": "stream",
     "text": [
      "325번째 시도입니다\n"
     ]
    },
    {
     "name": "stderr",
     "output_type": "stream",
     "text": [
      "\r\n",
      " 58%|██████████████████████████████████████████████▋                                 | 326/559 [22:07<14:54,  3.84s/it]"
     ]
    },
    {
     "name": "stdout",
     "output_type": "stream",
     "text": [
      "326번째 시도입니다\n"
     ]
    },
    {
     "name": "stderr",
     "output_type": "stream",
     "text": [
      "\r\n",
      " 58%|██████████████████████████████████████████████▊                                 | 327/559 [22:09<12:08,  3.14s/it]"
     ]
    },
    {
     "name": "stdout",
     "output_type": "stream",
     "text": [
      "327번째 시도입니다\n"
     ]
    },
    {
     "name": "stderr",
     "output_type": "stream",
     "text": [
      "\r\n",
      " 59%|██████████████████████████████████████████████▉                                 | 328/559 [22:13<13:18,  3.46s/it]"
     ]
    },
    {
     "name": "stdout",
     "output_type": "stream",
     "text": [
      "328번째 시도입니다\n"
     ]
    },
    {
     "name": "stderr",
     "output_type": "stream",
     "text": [
      "\r\n",
      " 59%|███████████████████████████████████████████████                                 | 329/559 [22:17<13:19,  3.48s/it]"
     ]
    },
    {
     "name": "stdout",
     "output_type": "stream",
     "text": [
      "329번째 시도입니다\n"
     ]
    },
    {
     "name": "stderr",
     "output_type": "stream",
     "text": [
      "\r\n",
      " 59%|███████████████████████████████████████████████▏                                | 330/559 [22:21<14:20,  3.76s/it]"
     ]
    },
    {
     "name": "stdout",
     "output_type": "stream",
     "text": [
      "330번째 시도입니다\n"
     ]
    },
    {
     "name": "stderr",
     "output_type": "stream",
     "text": [
      "\r\n",
      " 59%|███████████████████████████████████████████████▎                                | 331/559 [22:25<14:23,  3.79s/it]"
     ]
    },
    {
     "name": "stdout",
     "output_type": "stream",
     "text": [
      "331번째 시도입니다\n"
     ]
    },
    {
     "name": "stderr",
     "output_type": "stream",
     "text": [
      "\r\n",
      " 59%|███████████████████████████████████████████████▌                                | 332/559 [22:29<14:54,  3.94s/it]"
     ]
    },
    {
     "name": "stdout",
     "output_type": "stream",
     "text": [
      "332번째 시도입니다\n"
     ]
    },
    {
     "name": "stderr",
     "output_type": "stream",
     "text": [
      "\r\n",
      " 60%|███████████████████████████████████████████████▋                                | 333/559 [22:32<13:56,  3.70s/it]"
     ]
    },
    {
     "name": "stdout",
     "output_type": "stream",
     "text": [
      "333번째 시도입니다\n"
     ]
    },
    {
     "name": "stderr",
     "output_type": "stream",
     "text": [
      "\r\n",
      " 60%|███████████████████████████████████████████████▊                                | 334/559 [22:34<11:16,  3.01s/it]"
     ]
    },
    {
     "name": "stdout",
     "output_type": "stream",
     "text": [
      "334번째 시도입니다\n"
     ]
    },
    {
     "name": "stderr",
     "output_type": "stream",
     "text": [
      "\r\n",
      " 60%|███████████████████████████████████████████████▉                                | 335/559 [22:37<11:49,  3.17s/it]"
     ]
    },
    {
     "name": "stdout",
     "output_type": "stream",
     "text": [
      "335번째 시도입니다\n"
     ]
    },
    {
     "name": "stderr",
     "output_type": "stream",
     "text": [
      "\r\n",
      " 60%|████████████████████████████████████████████████                                | 336/559 [22:42<14:05,  3.79s/it]"
     ]
    },
    {
     "name": "stdout",
     "output_type": "stream",
     "text": [
      "336번째 시도입니다\n"
     ]
    },
    {
     "name": "stderr",
     "output_type": "stream",
     "text": [
      "\r\n",
      " 60%|████████████████████████████████████████████████▏                               | 337/559 [22:45<13:10,  3.56s/it]"
     ]
    },
    {
     "name": "stdout",
     "output_type": "stream",
     "text": [
      "337번째 시도입니다\n"
     ]
    },
    {
     "name": "stderr",
     "output_type": "stream",
     "text": [
      "\r\n",
      " 60%|████████████████████████████████████████████████▎                               | 338/559 [22:50<13:50,  3.76s/it]"
     ]
    },
    {
     "name": "stdout",
     "output_type": "stream",
     "text": [
      "338번째 시도입니다\n"
     ]
    },
    {
     "name": "stderr",
     "output_type": "stream",
     "text": [
      "\r\n",
      " 61%|████████████████████████████████████████████████▌                               | 339/559 [22:54<14:28,  3.95s/it]"
     ]
    },
    {
     "name": "stdout",
     "output_type": "stream",
     "text": [
      "339번째 시도입니다\n"
     ]
    },
    {
     "name": "stderr",
     "output_type": "stream",
     "text": [
      "\r\n",
      " 61%|████████████████████████████████████████████████▋                               | 340/559 [22:58<13:58,  3.83s/it]"
     ]
    },
    {
     "name": "stdout",
     "output_type": "stream",
     "text": [
      "340번째 시도입니다\n"
     ]
    },
    {
     "name": "stderr",
     "output_type": "stream",
     "text": [
      "\r\n",
      " 61%|████████████████████████████████████████████████▊                               | 341/559 [23:02<14:55,  4.11s/it]"
     ]
    },
    {
     "name": "stdout",
     "output_type": "stream",
     "text": [
      "341번째 시도입니다\n"
     ]
    },
    {
     "name": "stderr",
     "output_type": "stream",
     "text": [
      "\r\n",
      " 61%|████████████████████████████████████████████████▉                               | 342/559 [23:06<14:39,  4.05s/it]"
     ]
    },
    {
     "name": "stdout",
     "output_type": "stream",
     "text": [
      "342번째 시도입니다\n"
     ]
    },
    {
     "name": "stderr",
     "output_type": "stream",
     "text": [
      "\r\n",
      " 61%|█████████████████████████████████████████████████                               | 343/559 [23:10<14:18,  3.98s/it]"
     ]
    },
    {
     "name": "stdout",
     "output_type": "stream",
     "text": [
      "343번째 시도입니다\n"
     ]
    },
    {
     "name": "stderr",
     "output_type": "stream",
     "text": [
      "\r\n",
      " 62%|█████████████████████████████████████████████████▏                              | 344/559 [23:14<13:43,  3.83s/it]"
     ]
    },
    {
     "name": "stdout",
     "output_type": "stream",
     "text": [
      "344번째 시도입니다\n"
     ]
    },
    {
     "name": "stderr",
     "output_type": "stream",
     "text": [
      "\r\n",
      " 62%|█████████████████████████████████████████████████▎                              | 345/559 [23:18<14:06,  3.96s/it]"
     ]
    },
    {
     "name": "stdout",
     "output_type": "stream",
     "text": [
      "345번째 시도입니다\n"
     ]
    },
    {
     "name": "stderr",
     "output_type": "stream",
     "text": [
      "\r\n",
      " 62%|█████████████████████████████████████████████████▌                              | 346/559 [23:22<13:54,  3.92s/it]"
     ]
    },
    {
     "name": "stdout",
     "output_type": "stream",
     "text": [
      "346번째 시도입니다\n"
     ]
    },
    {
     "name": "stderr",
     "output_type": "stream",
     "text": [
      "\r\n",
      " 62%|█████████████████████████████████████████████████▋                              | 347/559 [23:25<13:34,  3.84s/it]"
     ]
    },
    {
     "name": "stdout",
     "output_type": "stream",
     "text": [
      "347번째 시도입니다\n"
     ]
    },
    {
     "name": "stderr",
     "output_type": "stream",
     "text": [
      "\r\n",
      " 62%|█████████████████████████████████████████████████▊                              | 348/559 [23:30<13:54,  3.95s/it]"
     ]
    },
    {
     "name": "stdout",
     "output_type": "stream",
     "text": [
      "348번째 시도입니다\n"
     ]
    },
    {
     "name": "stderr",
     "output_type": "stream",
     "text": [
      "\r\n",
      " 62%|█████████████████████████████████████████████████▉                              | 349/559 [23:35<14:59,  4.28s/it]"
     ]
    },
    {
     "name": "stdout",
     "output_type": "stream",
     "text": [
      "349번째 시도입니다\n"
     ]
    },
    {
     "name": "stderr",
     "output_type": "stream",
     "text": [
      "\r\n",
      " 63%|██████████████████████████████████████████████████                              | 350/559 [23:39<14:47,  4.25s/it]"
     ]
    },
    {
     "name": "stdout",
     "output_type": "stream",
     "text": [
      "350번째 시도입니다\n"
     ]
    },
    {
     "name": "stderr",
     "output_type": "stream",
     "text": [
      "\r\n",
      " 63%|██████████████████████████████████████████████████▏                             | 351/559 [23:42<13:53,  4.01s/it]"
     ]
    },
    {
     "name": "stdout",
     "output_type": "stream",
     "text": [
      "351번째 시도입니다\n"
     ]
    },
    {
     "name": "stderr",
     "output_type": "stream",
     "text": [
      "\r\n",
      " 63%|██████████████████████████████████████████████████▍                             | 352/559 [23:47<14:12,  4.12s/it]"
     ]
    },
    {
     "name": "stdout",
     "output_type": "stream",
     "text": [
      "352번째 시도입니다\n"
     ]
    },
    {
     "name": "stderr",
     "output_type": "stream",
     "text": [
      "\r\n",
      " 63%|██████████████████████████████████████████████████▌                             | 353/559 [23:51<14:43,  4.29s/it]"
     ]
    },
    {
     "name": "stdout",
     "output_type": "stream",
     "text": [
      "353번째 시도입니다\n"
     ]
    },
    {
     "name": "stderr",
     "output_type": "stream",
     "text": [
      "\r\n",
      " 63%|██████████████████████████████████████████████████▋                             | 354/559 [23:54<13:27,  3.94s/it]"
     ]
    },
    {
     "name": "stdout",
     "output_type": "stream",
     "text": [
      "354번째 시도입니다\n"
     ]
    },
    {
     "name": "stderr",
     "output_type": "stream",
     "text": [
      "\r\n",
      " 64%|██████████████████████████████████████████████████▊                             | 355/559 [24:02<16:51,  4.96s/it]"
     ]
    },
    {
     "name": "stdout",
     "output_type": "stream",
     "text": [
      "355번째 시도입니다\n"
     ]
    },
    {
     "name": "stderr",
     "output_type": "stream",
     "text": [
      "\r\n",
      " 64%|██████████████████████████████████████████████████▉                             | 356/559 [24:07<17:05,  5.05s/it]"
     ]
    },
    {
     "name": "stdout",
     "output_type": "stream",
     "text": [
      "356번째 시도입니다\n"
     ]
    },
    {
     "name": "stderr",
     "output_type": "stream",
     "text": [
      "\r\n",
      " 64%|███████████████████████████████████████████████████                             | 357/559 [24:11<15:32,  4.62s/it]"
     ]
    },
    {
     "name": "stdout",
     "output_type": "stream",
     "text": [
      "357번째 시도입니다\n"
     ]
    },
    {
     "name": "stderr",
     "output_type": "stream",
     "text": [
      "\r\n",
      " 64%|███████████████████████████████████████████████████▏                            | 358/559 [24:14<14:37,  4.36s/it]"
     ]
    },
    {
     "name": "stdout",
     "output_type": "stream",
     "text": [
      "358번째 시도입니다\n"
     ]
    },
    {
     "name": "stderr",
     "output_type": "stream",
     "text": [
      "\r\n",
      " 64%|███████████████████████████████████████████████████▍                            | 359/559 [24:18<13:47,  4.14s/it]"
     ]
    },
    {
     "name": "stdout",
     "output_type": "stream",
     "text": [
      "359번째 시도입니다\n"
     ]
    },
    {
     "name": "stderr",
     "output_type": "stream",
     "text": [
      "\r\n",
      " 64%|███████████████████████████████████████████████████▌                            | 360/559 [24:21<12:40,  3.82s/it]"
     ]
    },
    {
     "name": "stdout",
     "output_type": "stream",
     "text": [
      "360번째 시도입니다\n"
     ]
    },
    {
     "name": "stderr",
     "output_type": "stream",
     "text": [
      "\r\n",
      " 65%|███████████████████████████████████████████████████▋                            | 361/559 [24:24<11:50,  3.59s/it]"
     ]
    },
    {
     "name": "stdout",
     "output_type": "stream",
     "text": [
      "361번째 시도입니다\n"
     ]
    },
    {
     "name": "stderr",
     "output_type": "stream",
     "text": [
      "\r\n",
      " 65%|███████████████████████████████████████████████████▊                            | 362/559 [24:27<11:26,  3.49s/it]"
     ]
    },
    {
     "name": "stdout",
     "output_type": "stream",
     "text": [
      "362번째 시도입니다\n"
     ]
    },
    {
     "name": "stderr",
     "output_type": "stream",
     "text": [
      "\r\n",
      " 65%|███████████████████████████████████████████████████▉                            | 363/559 [24:31<11:45,  3.60s/it]"
     ]
    },
    {
     "name": "stdout",
     "output_type": "stream",
     "text": [
      "363번째 시도입니다\n"
     ]
    },
    {
     "name": "stderr",
     "output_type": "stream",
     "text": [
      "\r\n",
      " 65%|████████████████████████████████████████████████████                            | 364/559 [24:35<12:07,  3.73s/it]"
     ]
    },
    {
     "name": "stdout",
     "output_type": "stream",
     "text": [
      "364번째 시도입니다\n"
     ]
    },
    {
     "name": "stderr",
     "output_type": "stream",
     "text": [
      "\r\n",
      " 65%|████████████████████████████████████████████████████▏                           | 365/559 [24:40<12:40,  3.92s/it]"
     ]
    },
    {
     "name": "stdout",
     "output_type": "stream",
     "text": [
      "365번째 시도입니다\n"
     ]
    },
    {
     "name": "stderr",
     "output_type": "stream",
     "text": [
      "\r\n",
      " 65%|████████████████████████████████████████████████████▍                           | 366/559 [24:41<10:06,  3.15s/it]"
     ]
    },
    {
     "name": "stdout",
     "output_type": "stream",
     "text": [
      "366번째 시도입니다\n"
     ]
    },
    {
     "name": "stderr",
     "output_type": "stream",
     "text": [
      "\r\n",
      " 66%|████████████████████████████████████████████████████▌                           | 367/559 [24:45<11:07,  3.48s/it]"
     ]
    },
    {
     "name": "stdout",
     "output_type": "stream",
     "text": [
      "367번째 시도입니다\n"
     ]
    },
    {
     "name": "stderr",
     "output_type": "stream",
     "text": [
      "\r\n",
      " 66%|████████████████████████████████████████████████████▋                           | 368/559 [24:49<11:27,  3.60s/it]"
     ]
    },
    {
     "name": "stdout",
     "output_type": "stream",
     "text": [
      "368번째 시도입니다\n"
     ]
    },
    {
     "name": "stderr",
     "output_type": "stream",
     "text": [
      "\r\n",
      " 66%|████████████████████████████████████████████████████▊                           | 369/559 [24:53<11:17,  3.56s/it]"
     ]
    },
    {
     "name": "stdout",
     "output_type": "stream",
     "text": [
      "369번째 시도입니다\n"
     ]
    },
    {
     "name": "stderr",
     "output_type": "stream",
     "text": [
      "\r\n",
      " 66%|████████████████████████████████████████████████████▉                           | 370/559 [24:56<11:04,  3.52s/it]"
     ]
    },
    {
     "name": "stdout",
     "output_type": "stream",
     "text": [
      "370번째 시도입니다\n"
     ]
    },
    {
     "name": "stderr",
     "output_type": "stream",
     "text": [
      "\r\n",
      " 66%|█████████████████████████████████████████████████████                           | 371/559 [25:01<12:10,  3.89s/it]"
     ]
    },
    {
     "name": "stdout",
     "output_type": "stream",
     "text": [
      "371번째 시도입니다\n"
     ]
    },
    {
     "name": "stderr",
     "output_type": "stream",
     "text": [
      "\r\n",
      " 67%|█████████████████████████████████████████████████████▏                          | 372/559 [25:04<11:30,  3.69s/it]"
     ]
    },
    {
     "name": "stdout",
     "output_type": "stream",
     "text": [
      "372번째 시도입니다\n"
     ]
    },
    {
     "name": "stderr",
     "output_type": "stream",
     "text": [
      "\r\n",
      " 67%|█████████████████████████████████████████████████████▍                          | 373/559 [25:08<11:42,  3.78s/it]"
     ]
    },
    {
     "name": "stdout",
     "output_type": "stream",
     "text": [
      "373번째 시도입니다\n"
     ]
    },
    {
     "name": "stderr",
     "output_type": "stream",
     "text": [
      "\r\n",
      " 67%|█████████████████████████████████████████████████████▌                          | 374/559 [25:12<12:23,  4.02s/it]"
     ]
    },
    {
     "name": "stdout",
     "output_type": "stream",
     "text": [
      "374번째 시도입니다\n"
     ]
    },
    {
     "name": "stderr",
     "output_type": "stream",
     "text": [
      "\r\n",
      " 67%|█████████████████████████████████████████████████████▋                          | 375/559 [25:16<11:51,  3.87s/it]"
     ]
    },
    {
     "name": "stdout",
     "output_type": "stream",
     "text": [
      "375번째 시도입니다\n"
     ]
    },
    {
     "name": "stderr",
     "output_type": "stream",
     "text": [
      "\r\n",
      " 67%|█████████████████████████████████████████████████████▊                          | 376/559 [25:20<11:29,  3.77s/it]"
     ]
    },
    {
     "name": "stdout",
     "output_type": "stream",
     "text": [
      "376번째 시도입니다\n"
     ]
    },
    {
     "name": "stderr",
     "output_type": "stream",
     "text": [
      "\r\n",
      " 67%|█████████████████████████████████████████████████████▉                          | 377/559 [25:22<10:37,  3.50s/it]"
     ]
    },
    {
     "name": "stdout",
     "output_type": "stream",
     "text": [
      "377번째 시도입니다\n"
     ]
    },
    {
     "name": "stderr",
     "output_type": "stream",
     "text": [
      "\r\n",
      " 68%|██████████████████████████████████████████████████████                          | 378/559 [25:25<10:04,  3.34s/it]"
     ]
    },
    {
     "name": "stdout",
     "output_type": "stream",
     "text": [
      "378번째 시도입니다\n"
     ]
    },
    {
     "name": "stderr",
     "output_type": "stream",
     "text": [
      "\r\n",
      " 68%|██████████████████████████████████████████████████████▏                         | 379/559 [25:29<09:56,  3.31s/it]"
     ]
    },
    {
     "name": "stdout",
     "output_type": "stream",
     "text": [
      "379번째 시도입니다\n"
     ]
    },
    {
     "name": "stderr",
     "output_type": "stream",
     "text": [
      "\r\n",
      " 68%|██████████████████████████████████████████████████████▍                         | 380/559 [25:32<10:01,  3.36s/it]"
     ]
    },
    {
     "name": "stdout",
     "output_type": "stream",
     "text": [
      "380번째 시도입니다\n"
     ]
    },
    {
     "name": "stderr",
     "output_type": "stream",
     "text": [
      "\r\n",
      " 68%|██████████████████████████████████████████████████████▌                         | 381/559 [25:35<09:41,  3.27s/it]"
     ]
    },
    {
     "name": "stdout",
     "output_type": "stream",
     "text": [
      "381번째 시도입니다\n"
     ]
    },
    {
     "name": "stderr",
     "output_type": "stream",
     "text": [
      "\r\n",
      " 68%|██████████████████████████████████████████████████████▋                         | 382/559 [25:39<10:00,  3.39s/it]"
     ]
    },
    {
     "name": "stdout",
     "output_type": "stream",
     "text": [
      "382번째 시도입니다\n"
     ]
    },
    {
     "name": "stderr",
     "output_type": "stream",
     "text": [
      "\r\n",
      " 69%|██████████████████████████████████████████████████████▊                         | 383/559 [25:42<10:01,  3.42s/it]"
     ]
    },
    {
     "name": "stdout",
     "output_type": "stream",
     "text": [
      "383번째 시도입니다\n"
     ]
    },
    {
     "name": "stderr",
     "output_type": "stream",
     "text": [
      "\r\n",
      " 69%|██████████████████████████████████████████████████████▉                         | 384/559 [25:46<10:10,  3.49s/it]"
     ]
    },
    {
     "name": "stdout",
     "output_type": "stream",
     "text": [
      "384번째 시도입니다\n"
     ]
    },
    {
     "name": "stderr",
     "output_type": "stream",
     "text": [
      "\r\n",
      " 69%|███████████████████████████████████████████████████████                         | 385/559 [25:49<09:38,  3.33s/it]"
     ]
    },
    {
     "name": "stdout",
     "output_type": "stream",
     "text": [
      "385번째 시도입니다\n"
     ]
    },
    {
     "name": "stderr",
     "output_type": "stream",
     "text": [
      "\r\n",
      " 69%|███████████████████████████████████████████████████████▏                        | 386/559 [25:52<09:35,  3.32s/it]"
     ]
    },
    {
     "name": "stdout",
     "output_type": "stream",
     "text": [
      "386번째 시도입니다\n"
     ]
    },
    {
     "name": "stderr",
     "output_type": "stream",
     "text": [
      "\r\n",
      " 69%|███████████████████████████████████████████████████████▍                        | 387/559 [25:56<10:03,  3.51s/it]"
     ]
    },
    {
     "name": "stdout",
     "output_type": "stream",
     "text": [
      "387번째 시도입니다\n"
     ]
    },
    {
     "name": "stderr",
     "output_type": "stream",
     "text": [
      "\r\n",
      " 69%|███████████████████████████████████████████████████████▌                        | 388/559 [26:00<10:36,  3.72s/it]"
     ]
    },
    {
     "name": "stdout",
     "output_type": "stream",
     "text": [
      "388번째 시도입니다\n"
     ]
    },
    {
     "name": "stderr",
     "output_type": "stream",
     "text": [
      "\r\n",
      " 70%|███████████████████████████████████████████████████████▋                        | 389/559 [26:04<10:32,  3.72s/it]"
     ]
    },
    {
     "name": "stdout",
     "output_type": "stream",
     "text": [
      "389번째 시도입니다\n"
     ]
    },
    {
     "name": "stderr",
     "output_type": "stream",
     "text": [
      "\r\n",
      " 70%|███████████████████████████████████████████████████████▊                        | 390/559 [26:08<10:35,  3.76s/it]"
     ]
    },
    {
     "name": "stdout",
     "output_type": "stream",
     "text": [
      "390번째 시도입니다\n"
     ]
    },
    {
     "name": "stderr",
     "output_type": "stream",
     "text": [
      "\r\n",
      " 70%|███████████████████████████████████████████████████████▉                        | 391/559 [26:12<10:19,  3.69s/it]"
     ]
    },
    {
     "name": "stdout",
     "output_type": "stream",
     "text": [
      "391번째 시도입니다\n"
     ]
    },
    {
     "name": "stderr",
     "output_type": "stream",
     "text": [
      "\r\n",
      " 70%|████████████████████████████████████████████████████████                        | 392/559 [26:15<10:09,  3.65s/it]"
     ]
    },
    {
     "name": "stdout",
     "output_type": "stream",
     "text": [
      "392번째 시도입니다\n"
     ]
    },
    {
     "name": "stderr",
     "output_type": "stream",
     "text": [
      "\r\n",
      " 70%|████████████████████████████████████████████████████████▏                       | 393/559 [26:19<10:40,  3.86s/it]"
     ]
    },
    {
     "name": "stdout",
     "output_type": "stream",
     "text": [
      "393번째 시도입니다\n"
     ]
    },
    {
     "name": "stderr",
     "output_type": "stream",
     "text": [
      "\r\n",
      " 70%|████████████████████████████████████████████████████████▍                       | 394/559 [26:24<11:28,  4.17s/it]"
     ]
    },
    {
     "name": "stdout",
     "output_type": "stream",
     "text": [
      "394번째 시도입니다\n"
     ]
    },
    {
     "name": "stderr",
     "output_type": "stream",
     "text": [
      "\r\n",
      " 71%|████████████████████████████████████████████████████████▌                       | 395/559 [26:28<11:10,  4.09s/it]"
     ]
    },
    {
     "name": "stdout",
     "output_type": "stream",
     "text": [
      "395번째 시도입니다\n"
     ]
    },
    {
     "name": "stderr",
     "output_type": "stream",
     "text": [
      "\r\n",
      " 71%|████████████████████████████████████████████████████████▋                       | 396/559 [26:32<10:34,  3.89s/it]"
     ]
    },
    {
     "name": "stdout",
     "output_type": "stream",
     "text": [
      "396번째 시도입니다\n"
     ]
    },
    {
     "name": "stderr",
     "output_type": "stream",
     "text": [
      "\r\n",
      " 71%|████████████████████████████████████████████████████████▊                       | 397/559 [26:35<09:43,  3.60s/it]"
     ]
    },
    {
     "name": "stdout",
     "output_type": "stream",
     "text": [
      "397번째 시도입니다\n"
     ]
    },
    {
     "name": "stderr",
     "output_type": "stream",
     "text": [
      "\r\n",
      " 71%|████████████████████████████████████████████████████████▉                       | 398/559 [26:36<07:51,  2.93s/it]"
     ]
    },
    {
     "name": "stdout",
     "output_type": "stream",
     "text": [
      "398번째 시도입니다\n"
     ]
    },
    {
     "name": "stderr",
     "output_type": "stream",
     "text": [
      "\r\n",
      " 71%|█████████████████████████████████████████████████████████                       | 399/559 [26:40<08:45,  3.29s/it]"
     ]
    },
    {
     "name": "stdout",
     "output_type": "stream",
     "text": [
      "399번째 시도입니다\n"
     ]
    },
    {
     "name": "stderr",
     "output_type": "stream",
     "text": [
      "\r\n",
      " 72%|█████████████████████████████████████████████████████████▏                      | 400/559 [26:41<07:11,  2.72s/it]"
     ]
    },
    {
     "name": "stdout",
     "output_type": "stream",
     "text": [
      "400번째 시도입니다\n"
     ]
    },
    {
     "name": "stderr",
     "output_type": "stream",
     "text": [
      "\r\n",
      " 72%|█████████████████████████████████████████████████████████▍                      | 401/559 [26:47<09:44,  3.70s/it]"
     ]
    },
    {
     "name": "stdout",
     "output_type": "stream",
     "text": [
      "401번째 시도입니다\n"
     ]
    },
    {
     "name": "stderr",
     "output_type": "stream",
     "text": [
      "\r\n",
      " 72%|█████████████████████████████████████████████████████████▌                      | 402/559 [26:51<09:35,  3.66s/it]"
     ]
    },
    {
     "name": "stdout",
     "output_type": "stream",
     "text": [
      "402번째 시도입니다\n"
     ]
    },
    {
     "name": "stderr",
     "output_type": "stream",
     "text": [
      "\r\n",
      " 72%|█████████████████████████████████████████████████████████▋                      | 403/559 [26:54<08:51,  3.41s/it]"
     ]
    },
    {
     "name": "stdout",
     "output_type": "stream",
     "text": [
      "403번째 시도입니다\n"
     ]
    },
    {
     "name": "stderr",
     "output_type": "stream",
     "text": [
      "\r\n",
      " 72%|█████████████████████████████████████████████████████████▊                      | 404/559 [26:55<07:11,  2.79s/it]"
     ]
    },
    {
     "name": "stdout",
     "output_type": "stream",
     "text": [
      "404번째 시도입니다\n"
     ]
    },
    {
     "name": "stderr",
     "output_type": "stream",
     "text": [
      "\r\n",
      " 72%|█████████████████████████████████████████████████████████▉                      | 405/559 [26:59<08:03,  3.14s/it]"
     ]
    },
    {
     "name": "stdout",
     "output_type": "stream",
     "text": [
      "405번째 시도입니다\n"
     ]
    },
    {
     "name": "stderr",
     "output_type": "stream",
     "text": [
      "\r\n",
      " 73%|██████████████████████████████████████████████████████████                      | 406/559 [27:01<06:40,  2.62s/it]"
     ]
    },
    {
     "name": "stdout",
     "output_type": "stream",
     "text": [
      "406번째 시도입니다\n"
     ]
    },
    {
     "name": "stderr",
     "output_type": "stream",
     "text": [
      "\r\n",
      " 73%|██████████████████████████████████████████████████████████▏                     | 407/559 [27:04<06:58,  2.75s/it]"
     ]
    },
    {
     "name": "stdout",
     "output_type": "stream",
     "text": [
      "407번째 시도입니다\n"
     ]
    },
    {
     "name": "stderr",
     "output_type": "stream",
     "text": [
      "\r\n",
      " 73%|██████████████████████████████████████████████████████████▍                     | 408/559 [27:08<07:54,  3.14s/it]"
     ]
    },
    {
     "name": "stdout",
     "output_type": "stream",
     "text": [
      "408번째 시도입니다\n"
     ]
    },
    {
     "name": "stderr",
     "output_type": "stream",
     "text": [
      "\r\n",
      " 73%|██████████████████████████████████████████████████████████▌                     | 409/559 [27:11<07:52,  3.15s/it]"
     ]
    },
    {
     "name": "stdout",
     "output_type": "stream",
     "text": [
      "409번째 시도입니다\n"
     ]
    },
    {
     "name": "stderr",
     "output_type": "stream",
     "text": [
      "\r\n",
      " 73%|██████████████████████████████████████████████████████████▋                     | 410/559 [27:14<07:56,  3.19s/it]"
     ]
    },
    {
     "name": "stdout",
     "output_type": "stream",
     "text": [
      "410번째 시도입니다\n"
     ]
    },
    {
     "name": "stderr",
     "output_type": "stream",
     "text": [
      "\r\n",
      " 74%|██████████████████████████████████████████████████████████▊                     | 411/559 [27:17<07:33,  3.06s/it]"
     ]
    },
    {
     "name": "stdout",
     "output_type": "stream",
     "text": [
      "411번째 시도입니다\n"
     ]
    },
    {
     "name": "stderr",
     "output_type": "stream",
     "text": [
      "\r\n",
      " 74%|██████████████████████████████████████████████████████████▉                     | 412/559 [27:21<08:09,  3.33s/it]"
     ]
    },
    {
     "name": "stdout",
     "output_type": "stream",
     "text": [
      "412번째 시도입니다\n"
     ]
    },
    {
     "name": "stderr",
     "output_type": "stream",
     "text": [
      "\r\n",
      " 74%|███████████████████████████████████████████████████████████                     | 413/559 [27:22<06:42,  2.76s/it]"
     ]
    },
    {
     "name": "stdout",
     "output_type": "stream",
     "text": [
      "413번째 시도입니다\n"
     ]
    },
    {
     "name": "stderr",
     "output_type": "stream",
     "text": [
      "\r\n",
      " 74%|███████████████████████████████████████████████████████████▏                    | 414/559 [27:25<06:53,  2.85s/it]"
     ]
    },
    {
     "name": "stdout",
     "output_type": "stream",
     "text": [
      "414번째 시도입니다\n"
     ]
    },
    {
     "name": "stderr",
     "output_type": "stream",
     "text": [
      "\r\n",
      " 74%|███████████████████████████████████████████████████████████▍                    | 415/559 [27:29<07:27,  3.11s/it]"
     ]
    },
    {
     "name": "stdout",
     "output_type": "stream",
     "text": [
      "415번째 시도입니다\n"
     ]
    },
    {
     "name": "stderr",
     "output_type": "stream",
     "text": [
      "\r\n",
      " 74%|███████████████████████████████████████████████████████████▌                    | 416/559 [27:32<07:35,  3.19s/it]"
     ]
    },
    {
     "name": "stdout",
     "output_type": "stream",
     "text": [
      "416번째 시도입니다\n"
     ]
    },
    {
     "name": "stderr",
     "output_type": "stream",
     "text": [
      "\r\n",
      " 75%|███████████████████████████████████████████████████████████▋                    | 417/559 [27:36<07:54,  3.34s/it]"
     ]
    },
    {
     "name": "stdout",
     "output_type": "stream",
     "text": [
      "417번째 시도입니다\n"
     ]
    },
    {
     "name": "stderr",
     "output_type": "stream",
     "text": [
      "\r\n",
      " 75%|███████████████████████████████████████████████████████████▊                    | 418/559 [27:39<07:50,  3.33s/it]"
     ]
    },
    {
     "name": "stdout",
     "output_type": "stream",
     "text": [
      "418번째 시도입니다\n"
     ]
    },
    {
     "name": "stderr",
     "output_type": "stream",
     "text": [
      "\r\n",
      " 75%|███████████████████████████████████████████████████████████▉                    | 419/559 [27:43<08:07,  3.48s/it]"
     ]
    },
    {
     "name": "stdout",
     "output_type": "stream",
     "text": [
      "419번째 시도입니다\n"
     ]
    },
    {
     "name": "stderr",
     "output_type": "stream",
     "text": [
      "\r\n",
      " 75%|████████████████████████████████████████████████████████████                    | 420/559 [27:47<08:14,  3.56s/it]"
     ]
    },
    {
     "name": "stdout",
     "output_type": "stream",
     "text": [
      "420번째 시도입니다\n"
     ]
    },
    {
     "name": "stderr",
     "output_type": "stream",
     "text": [
      "\r\n",
      " 75%|████████████████████████████████████████████████████████████▎                   | 421/559 [27:51<08:15,  3.59s/it]"
     ]
    },
    {
     "name": "stdout",
     "output_type": "stream",
     "text": [
      "421번째 시도입니다\n"
     ]
    },
    {
     "name": "stderr",
     "output_type": "stream",
     "text": [
      "\r\n",
      " 75%|████████████████████████████████████████████████████████████▍                   | 422/559 [27:54<07:52,  3.45s/it]"
     ]
    },
    {
     "name": "stdout",
     "output_type": "stream",
     "text": [
      "422번째 시도입니다\n"
     ]
    },
    {
     "name": "stderr",
     "output_type": "stream",
     "text": [
      "\r\n",
      " 76%|████████████████████████████████████████████████████████████▌                   | 423/559 [27:57<07:35,  3.35s/it]"
     ]
    },
    {
     "name": "stdout",
     "output_type": "stream",
     "text": [
      "423번째 시도입니다\n"
     ]
    },
    {
     "name": "stderr",
     "output_type": "stream",
     "text": [
      "\r\n",
      " 76%|████████████████████████████████████████████████████████████▋                   | 424/559 [28:01<07:49,  3.48s/it]"
     ]
    },
    {
     "name": "stdout",
     "output_type": "stream",
     "text": [
      "424번째 시도입니다\n"
     ]
    },
    {
     "name": "stderr",
     "output_type": "stream",
     "text": [
      "\r\n",
      " 76%|████████████████████████████████████████████████████████████▊                   | 425/559 [28:04<07:44,  3.46s/it]"
     ]
    },
    {
     "name": "stdout",
     "output_type": "stream",
     "text": [
      "425번째 시도입니다\n"
     ]
    },
    {
     "name": "stderr",
     "output_type": "stream",
     "text": [
      "\r\n",
      " 76%|████████████████████████████████████████████████████████████▉                   | 426/559 [28:09<08:36,  3.88s/it]"
     ]
    },
    {
     "name": "stdout",
     "output_type": "stream",
     "text": [
      "426번째 시도입니다\n"
     ]
    },
    {
     "name": "stderr",
     "output_type": "stream",
     "text": [
      "\r\n",
      " 76%|█████████████████████████████████████████████████████████████                   | 427/559 [28:13<08:35,  3.91s/it]"
     ]
    },
    {
     "name": "stdout",
     "output_type": "stream",
     "text": [
      "427번째 시도입니다\n"
     ]
    },
    {
     "name": "stderr",
     "output_type": "stream",
     "text": [
      "\r\n",
      " 77%|█████████████████████████████████████████████████████████████▎                  | 428/559 [28:16<08:00,  3.67s/it]"
     ]
    },
    {
     "name": "stdout",
     "output_type": "stream",
     "text": [
      "428번째 시도입니다\n"
     ]
    },
    {
     "name": "stderr",
     "output_type": "stream",
     "text": [
      "\r\n",
      " 77%|█████████████████████████████████████████████████████████████▍                  | 429/559 [28:20<07:59,  3.69s/it]"
     ]
    },
    {
     "name": "stdout",
     "output_type": "stream",
     "text": [
      "429번째 시도입니다\n"
     ]
    },
    {
     "name": "stderr",
     "output_type": "stream",
     "text": [
      "\r\n",
      " 77%|█████████████████████████████████████████████████████████████▌                  | 430/559 [28:23<07:44,  3.60s/it]"
     ]
    },
    {
     "name": "stdout",
     "output_type": "stream",
     "text": [
      "430번째 시도입니다\n"
     ]
    },
    {
     "name": "stderr",
     "output_type": "stream",
     "text": [
      "\r\n",
      " 77%|█████████████████████████████████████████████████████████████▋                  | 431/559 [28:26<07:25,  3.48s/it]"
     ]
    },
    {
     "name": "stdout",
     "output_type": "stream",
     "text": [
      "431번째 시도입니다\n"
     ]
    },
    {
     "name": "stderr",
     "output_type": "stream",
     "text": [
      "\r\n",
      " 77%|█████████████████████████████████████████████████████████████▊                  | 432/559 [28:30<07:34,  3.58s/it]"
     ]
    },
    {
     "name": "stdout",
     "output_type": "stream",
     "text": [
      "432번째 시도입니다\n"
     ]
    },
    {
     "name": "stderr",
     "output_type": "stream",
     "text": [
      "\r\n",
      " 77%|█████████████████████████████████████████████████████████████▉                  | 433/559 [28:34<07:51,  3.74s/it]"
     ]
    },
    {
     "name": "stdout",
     "output_type": "stream",
     "text": [
      "433번째 시도입니다\n"
     ]
    },
    {
     "name": "stderr",
     "output_type": "stream",
     "text": [
      "\r\n",
      " 78%|██████████████████████████████████████████████████████████████                  | 434/559 [28:37<07:18,  3.51s/it]"
     ]
    },
    {
     "name": "stdout",
     "output_type": "stream",
     "text": [
      "434번째 시도입니다\n"
     ]
    },
    {
     "name": "stderr",
     "output_type": "stream",
     "text": [
      "\r\n",
      " 78%|██████████████████████████████████████████████████████████████▎                 | 435/559 [28:41<07:21,  3.56s/it]"
     ]
    },
    {
     "name": "stdout",
     "output_type": "stream",
     "text": [
      "435번째 시도입니다\n"
     ]
    },
    {
     "name": "stderr",
     "output_type": "stream",
     "text": [
      "\r\n",
      " 78%|██████████████████████████████████████████████████████████████▍                 | 436/559 [28:45<07:20,  3.58s/it]"
     ]
    },
    {
     "name": "stdout",
     "output_type": "stream",
     "text": [
      "436번째 시도입니다\n"
     ]
    },
    {
     "name": "stderr",
     "output_type": "stream",
     "text": [
      "\r\n",
      " 78%|██████████████████████████████████████████████████████████████▌                 | 437/559 [28:48<06:57,  3.42s/it]"
     ]
    },
    {
     "name": "stdout",
     "output_type": "stream",
     "text": [
      "437번째 시도입니다\n"
     ]
    },
    {
     "name": "stderr",
     "output_type": "stream",
     "text": [
      "\r\n",
      " 78%|██████████████████████████████████████████████████████████████▋                 | 438/559 [28:54<08:58,  4.45s/it]"
     ]
    },
    {
     "name": "stdout",
     "output_type": "stream",
     "text": [
      "438번째 시도입니다\n"
     ]
    },
    {
     "name": "stderr",
     "output_type": "stream",
     "text": [
      "\r\n",
      " 79%|██████████████████████████████████████████████████████████████▊                 | 439/559 [28:58<08:31,  4.27s/it]"
     ]
    },
    {
     "name": "stdout",
     "output_type": "stream",
     "text": [
      "439번째 시도입니다\n"
     ]
    },
    {
     "name": "stderr",
     "output_type": "stream",
     "text": [
      "\r\n",
      " 79%|██████████████████████████████████████████████████████████████▉                 | 440/559 [29:02<08:20,  4.21s/it]"
     ]
    },
    {
     "name": "stdout",
     "output_type": "stream",
     "text": [
      "440번째 시도입니다\n"
     ]
    },
    {
     "name": "stderr",
     "output_type": "stream",
     "text": [
      "\r\n",
      " 79%|███████████████████████████████████████████████████████████████                 | 441/559 [29:07<08:44,  4.44s/it]"
     ]
    },
    {
     "name": "stdout",
     "output_type": "stream",
     "text": [
      "441번째 시도입니다\n"
     ]
    },
    {
     "name": "stderr",
     "output_type": "stream",
     "text": [
      "\r\n",
      " 79%|███████████████████████████████████████████████████████████████▎                | 442/559 [29:11<07:57,  4.08s/it]"
     ]
    },
    {
     "name": "stdout",
     "output_type": "stream",
     "text": [
      "442번째 시도입니다\n"
     ]
    },
    {
     "name": "stderr",
     "output_type": "stream",
     "text": [
      "\r\n",
      " 79%|███████████████████████████████████████████████████████████████▍                | 443/559 [29:15<08:03,  4.17s/it]"
     ]
    },
    {
     "name": "stdout",
     "output_type": "stream",
     "text": [
      "443번째 시도입니다\n"
     ]
    },
    {
     "name": "stderr",
     "output_type": "stream",
     "text": [
      "\r\n",
      " 79%|███████████████████████████████████████████████████████████████▌                | 444/559 [29:21<08:58,  4.68s/it]"
     ]
    },
    {
     "name": "stdout",
     "output_type": "stream",
     "text": [
      "444번째 시도입니다\n"
     ]
    },
    {
     "name": "stderr",
     "output_type": "stream",
     "text": [
      "\r\n",
      " 80%|███████████████████████████████████████████████████████████████▋                | 445/559 [29:27<09:59,  5.26s/it]"
     ]
    },
    {
     "name": "stdout",
     "output_type": "stream",
     "text": [
      "445번째 시도입니다\n"
     ]
    },
    {
     "name": "stderr",
     "output_type": "stream",
     "text": [
      "\r\n",
      " 80%|███████████████████████████████████████████████████████████████▊                | 446/559 [29:30<08:38,  4.59s/it]"
     ]
    },
    {
     "name": "stdout",
     "output_type": "stream",
     "text": [
      "446번째 시도입니다\n"
     ]
    },
    {
     "name": "stderr",
     "output_type": "stream",
     "text": [
      "\r\n",
      " 80%|███████████████████████████████████████████████████████████████▉                | 447/559 [29:34<08:05,  4.34s/it]"
     ]
    },
    {
     "name": "stdout",
     "output_type": "stream",
     "text": [
      "447번째 시도입니다\n"
     ]
    },
    {
     "name": "stderr",
     "output_type": "stream",
     "text": [
      "\r\n",
      " 80%|████████████████████████████████████████████████████████████████                | 448/559 [29:38<07:57,  4.31s/it]"
     ]
    },
    {
     "name": "stdout",
     "output_type": "stream",
     "text": [
      "448번째 시도입니다\n"
     ]
    },
    {
     "name": "stderr",
     "output_type": "stream",
     "text": [
      "\r\n",
      " 80%|████████████████████████████████████████████████████████████████▎               | 449/559 [29:42<07:29,  4.08s/it]"
     ]
    },
    {
     "name": "stdout",
     "output_type": "stream",
     "text": [
      "449번째 시도입니다\n"
     ]
    },
    {
     "name": "stderr",
     "output_type": "stream",
     "text": [
      "\r\n",
      " 81%|████████████████████████████████████████████████████████████████▍               | 450/559 [29:45<06:54,  3.80s/it]"
     ]
    },
    {
     "name": "stdout",
     "output_type": "stream",
     "text": [
      "450번째 시도입니다\n"
     ]
    },
    {
     "name": "stderr",
     "output_type": "stream",
     "text": [
      "\r\n",
      " 81%|████████████████████████████████████████████████████████████████▌               | 451/559 [29:50<07:39,  4.26s/it]"
     ]
    },
    {
     "name": "stdout",
     "output_type": "stream",
     "text": [
      "451번째 시도입니다\n"
     ]
    },
    {
     "name": "stderr",
     "output_type": "stream",
     "text": [
      "\r\n",
      " 81%|████████████████████████████████████████████████████████████████▋               | 452/559 [29:55<07:55,  4.45s/it]"
     ]
    },
    {
     "name": "stdout",
     "output_type": "stream",
     "text": [
      "452번째 시도입니다\n"
     ]
    },
    {
     "name": "stderr",
     "output_type": "stream",
     "text": [
      "\r\n",
      " 81%|████████████████████████████████████████████████████████████████▊               | 453/559 [30:00<07:52,  4.46s/it]"
     ]
    },
    {
     "name": "stdout",
     "output_type": "stream",
     "text": [
      "453번째 시도입니다\n"
     ]
    },
    {
     "name": "stderr",
     "output_type": "stream",
     "text": [
      "\r\n",
      " 81%|████████████████████████████████████████████████████████████████▉               | 454/559 [30:03<07:11,  4.11s/it]"
     ]
    },
    {
     "name": "stdout",
     "output_type": "stream",
     "text": [
      "454번째 시도입니다\n"
     ]
    },
    {
     "name": "stderr",
     "output_type": "stream",
     "text": [
      "\r\n",
      " 81%|█████████████████████████████████████████████████████████████████               | 455/559 [30:08<07:40,  4.43s/it]"
     ]
    },
    {
     "name": "stdout",
     "output_type": "stream",
     "text": [
      "455번째 시도입니다\n"
     ]
    },
    {
     "name": "stderr",
     "output_type": "stream",
     "text": [
      "\r\n",
      " 82%|█████████████████████████████████████████████████████████████████▎              | 456/559 [30:12<07:26,  4.33s/it]"
     ]
    },
    {
     "name": "stdout",
     "output_type": "stream",
     "text": [
      "456번째 시도입니다\n"
     ]
    },
    {
     "name": "stderr",
     "output_type": "stream",
     "text": [
      "\r\n",
      " 82%|█████████████████████████████████████████████████████████████████▍              | 457/559 [30:16<06:49,  4.02s/it]"
     ]
    },
    {
     "name": "stdout",
     "output_type": "stream",
     "text": [
      "457번째 시도입니다\n"
     ]
    },
    {
     "name": "stderr",
     "output_type": "stream",
     "text": [
      "\r\n",
      " 82%|█████████████████████████████████████████████████████████████████▌              | 458/559 [30:20<07:04,  4.20s/it]"
     ]
    },
    {
     "name": "stdout",
     "output_type": "stream",
     "text": [
      "458번째 시도입니다\n"
     ]
    },
    {
     "name": "stderr",
     "output_type": "stream",
     "text": [
      "\r\n",
      " 82%|█████████████████████████████████████████████████████████████████▋              | 459/559 [30:25<07:02,  4.22s/it]"
     ]
    },
    {
     "name": "stdout",
     "output_type": "stream",
     "text": [
      "459번째 시도입니다\n"
     ]
    },
    {
     "name": "stderr",
     "output_type": "stream",
     "text": [
      "\r\n",
      " 82%|█████████████████████████████████████████████████████████████████▊              | 460/559 [30:29<06:52,  4.17s/it]"
     ]
    },
    {
     "name": "stdout",
     "output_type": "stream",
     "text": [
      "460번째 시도입니다\n"
     ]
    },
    {
     "name": "stderr",
     "output_type": "stream",
     "text": [
      "\r\n",
      " 82%|█████████████████████████████████████████████████████████████████▉              | 461/559 [30:32<06:33,  4.01s/it]"
     ]
    },
    {
     "name": "stdout",
     "output_type": "stream",
     "text": [
      "461번째 시도입니다\n"
     ]
    },
    {
     "name": "stderr",
     "output_type": "stream",
     "text": [
      "\r\n",
      " 83%|██████████████████████████████████████████████████████████████████              | 462/559 [30:37<06:55,  4.28s/it]"
     ]
    },
    {
     "name": "stdout",
     "output_type": "stream",
     "text": [
      "462번째 시도입니다\n"
     ]
    },
    {
     "name": "stderr",
     "output_type": "stream",
     "text": [
      "\r\n",
      " 83%|██████████████████████████████████████████████████████████████████▎             | 463/559 [30:41<06:29,  4.05s/it]"
     ]
    },
    {
     "name": "stdout",
     "output_type": "stream",
     "text": [
      "463번째 시도입니다\n"
     ]
    },
    {
     "name": "stderr",
     "output_type": "stream",
     "text": [
      "\r\n",
      " 83%|██████████████████████████████████████████████████████████████████▍             | 464/559 [30:44<06:09,  3.89s/it]"
     ]
    },
    {
     "name": "stdout",
     "output_type": "stream",
     "text": [
      "464번째 시도입니다\n"
     ]
    },
    {
     "name": "stderr",
     "output_type": "stream",
     "text": [
      "\r\n",
      " 83%|██████████████████████████████████████████████████████████████████▌             | 465/559 [30:49<06:37,  4.23s/it]"
     ]
    },
    {
     "name": "stdout",
     "output_type": "stream",
     "text": [
      "465번째 시도입니다\n"
     ]
    },
    {
     "name": "stderr",
     "output_type": "stream",
     "text": [
      "\r\n",
      " 83%|██████████████████████████████████████████████████████████████████▋             | 466/559 [30:53<06:17,  4.06s/it]"
     ]
    },
    {
     "name": "stdout",
     "output_type": "stream",
     "text": [
      "466번째 시도입니다\n"
     ]
    },
    {
     "name": "stderr",
     "output_type": "stream",
     "text": [
      "\r\n",
      " 84%|██████████████████████████████████████████████████████████████████▊             | 467/559 [30:58<06:34,  4.29s/it]"
     ]
    },
    {
     "name": "stdout",
     "output_type": "stream",
     "text": [
      "467번째 시도입니다\n"
     ]
    },
    {
     "name": "stderr",
     "output_type": "stream",
     "text": [
      "\r\n",
      " 84%|██████████████████████████████████████████████████████████████████▉             | 468/559 [31:02<06:27,  4.25s/it]"
     ]
    },
    {
     "name": "stdout",
     "output_type": "stream",
     "text": [
      "468번째 시도입니다\n"
     ]
    },
    {
     "name": "stderr",
     "output_type": "stream",
     "text": [
      "\r\n",
      " 84%|███████████████████████████████████████████████████████████████████             | 469/559 [31:06<06:20,  4.23s/it]"
     ]
    },
    {
     "name": "stdout",
     "output_type": "stream",
     "text": [
      "469번째 시도입니다\n"
     ]
    },
    {
     "name": "stderr",
     "output_type": "stream",
     "text": [
      "\r\n",
      " 84%|███████████████████████████████████████████████████████████████████▎            | 470/559 [31:11<06:30,  4.39s/it]"
     ]
    },
    {
     "name": "stdout",
     "output_type": "stream",
     "text": [
      "470번째 시도입니다\n"
     ]
    },
    {
     "name": "stderr",
     "output_type": "stream",
     "text": [
      "\r\n",
      " 84%|███████████████████████████████████████████████████████████████████▍            | 471/559 [31:16<06:41,  4.56s/it]"
     ]
    },
    {
     "name": "stdout",
     "output_type": "stream",
     "text": [
      "471번째 시도입니다\n"
     ]
    },
    {
     "name": "stderr",
     "output_type": "stream",
     "text": [
      "\r\n",
      " 84%|███████████████████████████████████████████████████████████████████▌            | 472/559 [31:19<06:12,  4.28s/it]"
     ]
    },
    {
     "name": "stdout",
     "output_type": "stream",
     "text": [
      "472번째 시도입니다\n"
     ]
    },
    {
     "name": "stderr",
     "output_type": "stream",
     "text": [
      "\r\n",
      " 85%|███████████████████████████████████████████████████████████████████▋            | 473/559 [31:24<06:07,  4.27s/it]"
     ]
    },
    {
     "name": "stdout",
     "output_type": "stream",
     "text": [
      "473번째 시도입니다\n"
     ]
    },
    {
     "name": "stderr",
     "output_type": "stream",
     "text": [
      "\r\n",
      " 85%|███████████████████████████████████████████████████████████████████▊            | 474/559 [31:28<06:01,  4.26s/it]"
     ]
    },
    {
     "name": "stdout",
     "output_type": "stream",
     "text": [
      "474번째 시도입니다\n"
     ]
    },
    {
     "name": "stderr",
     "output_type": "stream",
     "text": [
      "\r\n",
      " 85%|███████████████████████████████████████████████████████████████████▉            | 475/559 [31:32<05:54,  4.22s/it]"
     ]
    },
    {
     "name": "stdout",
     "output_type": "stream",
     "text": [
      "475번째 시도입니다\n"
     ]
    },
    {
     "name": "stderr",
     "output_type": "stream",
     "text": [
      "\r\n",
      " 85%|████████████████████████████████████████████████████████████████████            | 476/559 [31:36<05:31,  4.00s/it]"
     ]
    },
    {
     "name": "stdout",
     "output_type": "stream",
     "text": [
      "476번째 시도입니다\n"
     ]
    },
    {
     "name": "stderr",
     "output_type": "stream",
     "text": [
      "\r\n",
      " 85%|████████████████████████████████████████████████████████████████████▎           | 477/559 [31:39<05:24,  3.96s/it]"
     ]
    },
    {
     "name": "stdout",
     "output_type": "stream",
     "text": [
      "477번째 시도입니다\n"
     ]
    },
    {
     "name": "stderr",
     "output_type": "stream",
     "text": [
      "\r\n",
      " 86%|████████████████████████████████████████████████████████████████████▍           | 478/559 [31:44<05:33,  4.12s/it]"
     ]
    },
    {
     "name": "stdout",
     "output_type": "stream",
     "text": [
      "478번째 시도입니다\n"
     ]
    },
    {
     "name": "stderr",
     "output_type": "stream",
     "text": [
      "\r\n",
      " 86%|████████████████████████████████████████████████████████████████████▌           | 479/559 [31:48<05:18,  3.98s/it]"
     ]
    },
    {
     "name": "stdout",
     "output_type": "stream",
     "text": [
      "479번째 시도입니다\n"
     ]
    },
    {
     "name": "stderr",
     "output_type": "stream",
     "text": [
      "\r\n",
      " 86%|████████████████████████████████████████████████████████████████████▋           | 480/559 [31:52<05:19,  4.04s/it]"
     ]
    },
    {
     "name": "stdout",
     "output_type": "stream",
     "text": [
      "480번째 시도입니다\n"
     ]
    },
    {
     "name": "stderr",
     "output_type": "stream",
     "text": [
      "\r\n",
      " 86%|████████████████████████████████████████████████████████████████████▊           | 481/559 [31:57<05:39,  4.36s/it]"
     ]
    },
    {
     "name": "stdout",
     "output_type": "stream",
     "text": [
      "481번째 시도입니다\n"
     ]
    },
    {
     "name": "stderr",
     "output_type": "stream",
     "text": [
      "\r\n",
      " 86%|████████████████████████████████████████████████████████████████████▉           | 482/559 [31:59<04:40,  3.65s/it]"
     ]
    },
    {
     "name": "stdout",
     "output_type": "stream",
     "text": [
      "482번째 시도입니다\n"
     ]
    },
    {
     "name": "stderr",
     "output_type": "stream",
     "text": [
      "\r\n",
      " 86%|█████████████████████████████████████████████████████████████████████           | 483/559 [32:00<03:49,  3.01s/it]"
     ]
    },
    {
     "name": "stdout",
     "output_type": "stream",
     "text": [
      "483번째 시도입니다\n"
     ]
    },
    {
     "name": "stderr",
     "output_type": "stream",
     "text": [
      "\r\n",
      " 87%|█████████████████████████████████████████████████████████████████████▎          | 484/559 [32:06<04:38,  3.72s/it]"
     ]
    },
    {
     "name": "stdout",
     "output_type": "stream",
     "text": [
      "484번째 시도입니다\n"
     ]
    },
    {
     "name": "stderr",
     "output_type": "stream",
     "text": [
      "\r\n",
      " 87%|█████████████████████████████████████████████████████████████████████▍          | 485/559 [32:11<05:19,  4.32s/it]"
     ]
    },
    {
     "name": "stdout",
     "output_type": "stream",
     "text": [
      "485번째 시도입니다\n"
     ]
    },
    {
     "name": "stderr",
     "output_type": "stream",
     "text": [
      "\r\n",
      " 87%|█████████████████████████████████████████████████████████████████████▌          | 486/559 [32:16<05:21,  4.41s/it]"
     ]
    },
    {
     "name": "stdout",
     "output_type": "stream",
     "text": [
      "486번째 시도입니다\n"
     ]
    },
    {
     "name": "stderr",
     "output_type": "stream",
     "text": [
      "\r\n",
      " 87%|█████████████████████████████████████████████████████████████████████▋          | 487/559 [32:20<05:05,  4.24s/it]"
     ]
    },
    {
     "name": "stdout",
     "output_type": "stream",
     "text": [
      "487번째 시도입니다\n"
     ]
    },
    {
     "name": "stderr",
     "output_type": "stream",
     "text": [
      "\r\n",
      " 87%|█████████████████████████████████████████████████████████████████████▊          | 488/559 [32:24<05:00,  4.23s/it]"
     ]
    },
    {
     "name": "stdout",
     "output_type": "stream",
     "text": [
      "488번째 시도입니다\n"
     ]
    },
    {
     "name": "stderr",
     "output_type": "stream",
     "text": [
      "\r\n",
      " 87%|█████████████████████████████████████████████████████████████████████▉          | 489/559 [32:29<05:14,  4.49s/it]"
     ]
    },
    {
     "name": "stdout",
     "output_type": "stream",
     "text": [
      "489번째 시도입니다\n"
     ]
    },
    {
     "name": "stderr",
     "output_type": "stream",
     "text": [
      "\r\n",
      " 88%|██████████████████████████████████████████████████████████████████████▏         | 490/559 [32:34<05:22,  4.67s/it]"
     ]
    },
    {
     "name": "stdout",
     "output_type": "stream",
     "text": [
      "490번째 시도입니다\n"
     ]
    },
    {
     "name": "stderr",
     "output_type": "stream",
     "text": [
      "\r\n",
      " 88%|██████████████████████████████████████████████████████████████████████▎         | 491/559 [32:38<04:51,  4.28s/it]"
     ]
    },
    {
     "name": "stdout",
     "output_type": "stream",
     "text": [
      "491번째 시도입니다\n"
     ]
    },
    {
     "name": "stderr",
     "output_type": "stream",
     "text": [
      "\r\n",
      " 88%|██████████████████████████████████████████████████████████████████████▍         | 492/559 [32:42<04:50,  4.34s/it]"
     ]
    },
    {
     "name": "stdout",
     "output_type": "stream",
     "text": [
      "492번째 시도입니다\n"
     ]
    },
    {
     "name": "stderr",
     "output_type": "stream",
     "text": [
      "\r\n",
      " 88%|██████████████████████████████████████████████████████████████████████▌         | 493/559 [32:46<04:42,  4.28s/it]"
     ]
    },
    {
     "name": "stdout",
     "output_type": "stream",
     "text": [
      "493번째 시도입니다\n"
     ]
    },
    {
     "name": "stderr",
     "output_type": "stream",
     "text": [
      "\r\n",
      " 88%|██████████████████████████████████████████████████████████████████████▋         | 494/559 [32:50<04:32,  4.19s/it]"
     ]
    },
    {
     "name": "stdout",
     "output_type": "stream",
     "text": [
      "494번째 시도입니다\n"
     ]
    },
    {
     "name": "stderr",
     "output_type": "stream",
     "text": [
      "\r\n",
      " 89%|██████████████████████████████████████████████████████████████████████▊         | 495/559 [32:54<04:16,  4.01s/it]"
     ]
    },
    {
     "name": "stdout",
     "output_type": "stream",
     "text": [
      "495번째 시도입니다\n"
     ]
    },
    {
     "name": "stderr",
     "output_type": "stream",
     "text": [
      "\r\n",
      " 89%|██████████████████████████████████████████████████████████████████████▉         | 496/559 [32:58<04:23,  4.18s/it]"
     ]
    },
    {
     "name": "stdout",
     "output_type": "stream",
     "text": [
      "496번째 시도입니다\n"
     ]
    },
    {
     "name": "stderr",
     "output_type": "stream",
     "text": [
      "\r\n",
      " 89%|███████████████████████████████████████████████████████████████████████▏        | 497/559 [33:03<04:30,  4.36s/it]"
     ]
    },
    {
     "name": "stdout",
     "output_type": "stream",
     "text": [
      "497번째 시도입니다\n"
     ]
    },
    {
     "name": "stderr",
     "output_type": "stream",
     "text": [
      "\r\n",
      " 89%|███████████████████████████████████████████████████████████████████████▎        | 498/559 [33:08<04:31,  4.46s/it]"
     ]
    },
    {
     "name": "stdout",
     "output_type": "stream",
     "text": [
      "498번째 시도입니다\n"
     ]
    },
    {
     "name": "stderr",
     "output_type": "stream",
     "text": [
      "\r\n",
      " 89%|███████████████████████████████████████████████████████████████████████▍        | 499/559 [33:12<04:19,  4.32s/it]"
     ]
    },
    {
     "name": "stdout",
     "output_type": "stream",
     "text": [
      "499번째 시도입니다\n"
     ]
    },
    {
     "name": "stderr",
     "output_type": "stream",
     "text": [
      "\r\n",
      " 89%|███████████████████████████████████████████████████████████████████████▌        | 500/559 [33:15<04:00,  4.08s/it]"
     ]
    },
    {
     "name": "stdout",
     "output_type": "stream",
     "text": [
      "500번째 시도입니다\n"
     ]
    },
    {
     "name": "stderr",
     "output_type": "stream",
     "text": [
      "\r\n",
      " 90%|███████████████████████████████████████████████████████████████████████▋        | 501/559 [33:20<04:07,  4.26s/it]"
     ]
    },
    {
     "name": "stdout",
     "output_type": "stream",
     "text": [
      "501번째 시도입니다\n"
     ]
    },
    {
     "name": "stderr",
     "output_type": "stream",
     "text": [
      "\r\n",
      " 90%|███████████████████████████████████████████████████████████████████████▊        | 502/559 [33:25<04:05,  4.32s/it]"
     ]
    },
    {
     "name": "stdout",
     "output_type": "stream",
     "text": [
      "502번째 시도입니다\n"
     ]
    },
    {
     "name": "stderr",
     "output_type": "stream",
     "text": [
      "\r\n",
      " 90%|███████████████████████████████████████████████████████████████████████▉        | 503/559 [33:28<03:39,  3.92s/it]"
     ]
    },
    {
     "name": "stdout",
     "output_type": "stream",
     "text": [
      "503번째 시도입니다\n"
     ]
    },
    {
     "name": "stderr",
     "output_type": "stream",
     "text": [
      "\r\n",
      " 90%|████████████████████████████████████████████████████████████████████████▏       | 504/559 [33:31<03:23,  3.69s/it]"
     ]
    },
    {
     "name": "stdout",
     "output_type": "stream",
     "text": [
      "504번째 시도입니다\n"
     ]
    },
    {
     "name": "stderr",
     "output_type": "stream",
     "text": [
      "\r\n",
      " 90%|████████████████████████████████████████████████████████████████████████▎       | 505/559 [33:34<03:20,  3.72s/it]"
     ]
    },
    {
     "name": "stdout",
     "output_type": "stream",
     "text": [
      "505번째 시도입니다\n"
     ]
    },
    {
     "name": "stderr",
     "output_type": "stream",
     "text": [
      "\r\n",
      " 91%|████████████████████████████████████████████████████████████████████████▍       | 506/559 [33:39<03:22,  3.82s/it]"
     ]
    },
    {
     "name": "stdout",
     "output_type": "stream",
     "text": [
      "506번째 시도입니다\n"
     ]
    },
    {
     "name": "stderr",
     "output_type": "stream",
     "text": [
      "\r\n",
      " 91%|████████████████████████████████████████████████████████████████████████▌       | 507/559 [33:42<03:15,  3.75s/it]"
     ]
    },
    {
     "name": "stdout",
     "output_type": "stream",
     "text": [
      "507번째 시도입니다\n"
     ]
    },
    {
     "name": "stderr",
     "output_type": "stream",
     "text": [
      "\r\n",
      " 91%|████████████████████████████████████████████████████████████████████████▋       | 508/559 [33:47<03:22,  3.96s/it]"
     ]
    },
    {
     "name": "stdout",
     "output_type": "stream",
     "text": [
      "508번째 시도입니다\n"
     ]
    },
    {
     "name": "stderr",
     "output_type": "stream",
     "text": [
      "\r\n",
      " 91%|████████████████████████████████████████████████████████████████████████▊       | 509/559 [33:51<03:19,  3.98s/it]"
     ]
    },
    {
     "name": "stdout",
     "output_type": "stream",
     "text": [
      "509번째 시도입니다\n"
     ]
    },
    {
     "name": "stderr",
     "output_type": "stream",
     "text": [
      "\r\n",
      " 91%|████████████████████████████████████████████████████████████████████████▉       | 510/559 [33:54<03:05,  3.79s/it]"
     ]
    },
    {
     "name": "stdout",
     "output_type": "stream",
     "text": [
      "510번째 시도입니다\n"
     ]
    },
    {
     "name": "stderr",
     "output_type": "stream",
     "text": [
      "\r\n",
      " 91%|█████████████████████████████████████████████████████████████████████████▏      | 511/559 [33:58<03:00,  3.77s/it]"
     ]
    },
    {
     "name": "stdout",
     "output_type": "stream",
     "text": [
      "511번째 시도입니다\n"
     ]
    },
    {
     "name": "stderr",
     "output_type": "stream",
     "text": [
      "\r\n",
      " 92%|█████████████████████████████████████████████████████████████████████████▎      | 512/559 [34:02<03:01,  3.87s/it]"
     ]
    },
    {
     "name": "stdout",
     "output_type": "stream",
     "text": [
      "512번째 시도입니다\n"
     ]
    },
    {
     "name": "stderr",
     "output_type": "stream",
     "text": [
      "\r\n",
      " 92%|█████████████████████████████████████████████████████████████████████████▍      | 513/559 [34:06<02:58,  3.89s/it]"
     ]
    },
    {
     "name": "stdout",
     "output_type": "stream",
     "text": [
      "513번째 시도입니다\n"
     ]
    },
    {
     "name": "stderr",
     "output_type": "stream",
     "text": [
      "\r\n",
      " 92%|█████████████████████████████████████████████████████████████████████████▌      | 514/559 [34:09<02:48,  3.74s/it]"
     ]
    },
    {
     "name": "stdout",
     "output_type": "stream",
     "text": [
      "514번째 시도입니다\n"
     ]
    },
    {
     "name": "stderr",
     "output_type": "stream",
     "text": [
      "\r\n",
      " 92%|█████████████████████████████████████████████████████████████████████████▋      | 515/559 [34:13<02:44,  3.73s/it]"
     ]
    },
    {
     "name": "stdout",
     "output_type": "stream",
     "text": [
      "515번째 시도입니다\n"
     ]
    },
    {
     "name": "stderr",
     "output_type": "stream",
     "text": [
      "\r\n",
      " 92%|█████████████████████████████████████████████████████████████████████████▊      | 516/559 [34:17<02:44,  3.83s/it]"
     ]
    },
    {
     "name": "stdout",
     "output_type": "stream",
     "text": [
      "516번째 시도입니다\n"
     ]
    },
    {
     "name": "stderr",
     "output_type": "stream",
     "text": [
      "\r\n",
      " 92%|█████████████████████████████████████████████████████████████████████████▉      | 517/559 [34:21<02:41,  3.86s/it]"
     ]
    },
    {
     "name": "stdout",
     "output_type": "stream",
     "text": [
      "517번째 시도입니다\n"
     ]
    },
    {
     "name": "stderr",
     "output_type": "stream",
     "text": [
      "\r\n",
      " 93%|██████████████████████████████████████████████████████████████████████████▏     | 518/559 [34:25<02:38,  3.86s/it]"
     ]
    },
    {
     "name": "stdout",
     "output_type": "stream",
     "text": [
      "518번째 시도입니다\n"
     ]
    },
    {
     "name": "stderr",
     "output_type": "stream",
     "text": [
      "\r\n",
      " 93%|██████████████████████████████████████████████████████████████████████████▎     | 519/559 [34:29<02:44,  4.11s/it]"
     ]
    },
    {
     "name": "stdout",
     "output_type": "stream",
     "text": [
      "519번째 시도입니다\n"
     ]
    },
    {
     "name": "stderr",
     "output_type": "stream",
     "text": [
      "\r\n",
      " 93%|██████████████████████████████████████████████████████████████████████████▍     | 520/559 [34:33<02:33,  3.93s/it]"
     ]
    },
    {
     "name": "stdout",
     "output_type": "stream",
     "text": [
      "520번째 시도입니다\n"
     ]
    },
    {
     "name": "stderr",
     "output_type": "stream",
     "text": [
      "\r\n",
      " 93%|██████████████████████████████████████████████████████████████████████████▌     | 521/559 [34:37<02:35,  4.10s/it]"
     ]
    },
    {
     "name": "stdout",
     "output_type": "stream",
     "text": [
      "521번째 시도입니다\n"
     ]
    },
    {
     "name": "stderr",
     "output_type": "stream",
     "text": [
      "\r\n",
      " 93%|██████████████████████████████████████████████████████████████████████████▋     | 522/559 [34:41<02:29,  4.04s/it]"
     ]
    },
    {
     "name": "stdout",
     "output_type": "stream",
     "text": [
      "522번째 시도입니다\n"
     ]
    },
    {
     "name": "stderr",
     "output_type": "stream",
     "text": [
      "\r\n",
      " 94%|██████████████████████████████████████████████████████████████████████████▊     | 523/559 [34:46<02:29,  4.16s/it]"
     ]
    },
    {
     "name": "stdout",
     "output_type": "stream",
     "text": [
      "523번째 시도입니다\n"
     ]
    },
    {
     "name": "stderr",
     "output_type": "stream",
     "text": [
      "\r\n",
      " 94%|██████████████████████████████████████████████████████████████████████████▉     | 524/559 [34:50<02:27,  4.22s/it]"
     ]
    },
    {
     "name": "stdout",
     "output_type": "stream",
     "text": [
      "524번째 시도입니다\n"
     ]
    },
    {
     "name": "stderr",
     "output_type": "stream",
     "text": [
      "\r\n",
      " 94%|███████████████████████████████████████████████████████████████████████████▏    | 525/559 [34:55<02:30,  4.41s/it]"
     ]
    },
    {
     "name": "stdout",
     "output_type": "stream",
     "text": [
      "525번째 시도입니다\n"
     ]
    },
    {
     "name": "stderr",
     "output_type": "stream",
     "text": [
      "\r\n",
      " 94%|███████████████████████████████████████████████████████████████████████████▎    | 526/559 [34:59<02:27,  4.46s/it]"
     ]
    },
    {
     "name": "stdout",
     "output_type": "stream",
     "text": [
      "526번째 시도입니다\n"
     ]
    },
    {
     "name": "stderr",
     "output_type": "stream",
     "text": [
      "\r\n",
      " 94%|███████████████████████████████████████████████████████████████████████████▍    | 527/559 [35:03<02:17,  4.29s/it]"
     ]
    },
    {
     "name": "stdout",
     "output_type": "stream",
     "text": [
      "527번째 시도입니다\n"
     ]
    },
    {
     "name": "stderr",
     "output_type": "stream",
     "text": [
      "\r\n",
      " 94%|███████████████████████████████████████████████████████████████████████████▌    | 528/559 [35:08<02:11,  4.25s/it]"
     ]
    },
    {
     "name": "stdout",
     "output_type": "stream",
     "text": [
      "528번째 시도입니다\n"
     ]
    },
    {
     "name": "stderr",
     "output_type": "stream",
     "text": [
      "\r\n",
      " 95%|███████████████████████████████████████████████████████████████████████████▋    | 529/559 [35:12<02:08,  4.27s/it]"
     ]
    },
    {
     "name": "stdout",
     "output_type": "stream",
     "text": [
      "529번째 시도입니다\n"
     ]
    },
    {
     "name": "stderr",
     "output_type": "stream",
     "text": [
      "\r\n",
      " 95%|███████████████████████████████████████████████████████████████████████████▊    | 530/559 [35:17<02:13,  4.61s/it]"
     ]
    },
    {
     "name": "stdout",
     "output_type": "stream",
     "text": [
      "530번째 시도입니다\n"
     ]
    },
    {
     "name": "stderr",
     "output_type": "stream",
     "text": [
      "\r\n",
      " 95%|███████████████████████████████████████████████████████████████████████████▉    | 531/559 [35:21<02:03,  4.42s/it]"
     ]
    },
    {
     "name": "stdout",
     "output_type": "stream",
     "text": [
      "531번째 시도입니다\n"
     ]
    },
    {
     "name": "stderr",
     "output_type": "stream",
     "text": [
      "\r\n",
      " 95%|████████████████████████████████████████████████████████████████████████████▏   | 532/559 [35:25<01:54,  4.25s/it]"
     ]
    },
    {
     "name": "stdout",
     "output_type": "stream",
     "text": [
      "532번째 시도입니다\n"
     ]
    },
    {
     "name": "stderr",
     "output_type": "stream",
     "text": [
      "\r\n",
      " 95%|████████████████████████████████████████████████████████████████████████████▎   | 533/559 [35:29<01:51,  4.28s/it]"
     ]
    },
    {
     "name": "stdout",
     "output_type": "stream",
     "text": [
      "533번째 시도입니다\n"
     ]
    },
    {
     "name": "stderr",
     "output_type": "stream",
     "text": [
      "\r\n",
      " 96%|████████████████████████████████████████████████████████████████████████████▍   | 534/559 [35:33<01:44,  4.17s/it]"
     ]
    },
    {
     "name": "stdout",
     "output_type": "stream",
     "text": [
      "534번째 시도입니다\n"
     ]
    },
    {
     "name": "stderr",
     "output_type": "stream",
     "text": [
      "\r\n",
      " 96%|████████████████████████████████████████████████████████████████████████████▌   | 535/559 [35:38<01:42,  4.25s/it]"
     ]
    },
    {
     "name": "stdout",
     "output_type": "stream",
     "text": [
      "535번째 시도입니다\n"
     ]
    },
    {
     "name": "stderr",
     "output_type": "stream",
     "text": [
      "\r\n",
      " 96%|████████████████████████████████████████████████████████████████████████████▋   | 536/559 [35:43<01:42,  4.46s/it]"
     ]
    },
    {
     "name": "stdout",
     "output_type": "stream",
     "text": [
      "536번째 시도입니다\n"
     ]
    },
    {
     "name": "stderr",
     "output_type": "stream",
     "text": [
      "\r\n",
      " 96%|████████████████████████████████████████████████████████████████████████████▊   | 537/559 [35:47<01:37,  4.44s/it]"
     ]
    },
    {
     "name": "stdout",
     "output_type": "stream",
     "text": [
      "537번째 시도입니다\n"
     ]
    },
    {
     "name": "stderr",
     "output_type": "stream",
     "text": [
      "\r\n",
      " 96%|████████████████████████████████████████████████████████████████████████████▉   | 538/559 [35:51<01:30,  4.31s/it]"
     ]
    },
    {
     "name": "stdout",
     "output_type": "stream",
     "text": [
      "538번째 시도입니다\n"
     ]
    },
    {
     "name": "stderr",
     "output_type": "stream",
     "text": [
      "\r\n",
      " 96%|█████████████████████████████████████████████████████████████████████████████▏  | 539/559 [35:55<01:21,  4.09s/it]"
     ]
    },
    {
     "name": "stdout",
     "output_type": "stream",
     "text": [
      "539번째 시도입니다\n"
     ]
    },
    {
     "name": "stderr",
     "output_type": "stream",
     "text": [
      "\r\n",
      " 97%|█████████████████████████████████████████████████████████████████████████████▎  | 540/559 [35:59<01:20,  4.26s/it]"
     ]
    },
    {
     "name": "stdout",
     "output_type": "stream",
     "text": [
      "540번째 시도입니다\n"
     ]
    },
    {
     "name": "stderr",
     "output_type": "stream",
     "text": [
      "\r\n",
      " 97%|█████████████████████████████████████████████████████████████████████████████▍  | 541/559 [36:03<01:15,  4.17s/it]"
     ]
    },
    {
     "name": "stdout",
     "output_type": "stream",
     "text": [
      "541번째 시도입니다\n"
     ]
    },
    {
     "name": "stderr",
     "output_type": "stream",
     "text": [
      "\r\n",
      " 97%|█████████████████████████████████████████████████████████████████████████████▌  | 542/559 [36:08<01:15,  4.44s/it]"
     ]
    },
    {
     "name": "stdout",
     "output_type": "stream",
     "text": [
      "542번째 시도입니다\n"
     ]
    },
    {
     "name": "stderr",
     "output_type": "stream",
     "text": [
      "\r\n",
      " 97%|█████████████████████████████████████████████████████████████████████████████▋  | 543/559 [36:13<01:11,  4.46s/it]"
     ]
    },
    {
     "name": "stdout",
     "output_type": "stream",
     "text": [
      "543번째 시도입니다\n"
     ]
    },
    {
     "name": "stderr",
     "output_type": "stream",
     "text": [
      "\r\n",
      " 97%|█████████████████████████████████████████████████████████████████████████████▊  | 544/559 [36:18<01:09,  4.62s/it]"
     ]
    },
    {
     "name": "stdout",
     "output_type": "stream",
     "text": [
      "544번째 시도입니다\n"
     ]
    },
    {
     "name": "stderr",
     "output_type": "stream",
     "text": [
      "\r\n",
      " 97%|█████████████████████████████████████████████████████████████████████████████▉  | 545/559 [36:22<01:03,  4.51s/it]"
     ]
    },
    {
     "name": "stdout",
     "output_type": "stream",
     "text": [
      "545번째 시도입니다\n"
     ]
    },
    {
     "name": "stderr",
     "output_type": "stream",
     "text": [
      "\r\n",
      " 98%|██████████████████████████████████████████████████████████████████████████████▏ | 546/559 [36:27<00:58,  4.53s/it]"
     ]
    },
    {
     "name": "stdout",
     "output_type": "stream",
     "text": [
      "546번째 시도입니다\n"
     ]
    },
    {
     "name": "stderr",
     "output_type": "stream",
     "text": [
      "\r\n",
      " 98%|██████████████████████████████████████████████████████████████████████████████▎ | 547/559 [36:32<00:56,  4.69s/it]"
     ]
    },
    {
     "name": "stdout",
     "output_type": "stream",
     "text": [
      "547번째 시도입니다\n"
     ]
    },
    {
     "name": "stderr",
     "output_type": "stream",
     "text": [
      "\r\n",
      " 98%|██████████████████████████████████████████████████████████████████████████████▍ | 548/559 [36:36<00:51,  4.66s/it]"
     ]
    },
    {
     "name": "stdout",
     "output_type": "stream",
     "text": [
      "548번째 시도입니다\n"
     ]
    },
    {
     "name": "stderr",
     "output_type": "stream",
     "text": [
      "\r\n",
      " 98%|██████████████████████████████████████████████████████████████████████████████▌ | 549/559 [36:40<00:43,  4.34s/it]"
     ]
    },
    {
     "name": "stdout",
     "output_type": "stream",
     "text": [
      "549번째 시도입니다\n"
     ]
    },
    {
     "name": "stderr",
     "output_type": "stream",
     "text": [
      "\r\n",
      " 98%|██████████████████████████████████████████████████████████████████████████████▋ | 550/559 [36:45<00:39,  4.42s/it]"
     ]
    },
    {
     "name": "stdout",
     "output_type": "stream",
     "text": [
      "550번째 시도입니다\n"
     ]
    },
    {
     "name": "stderr",
     "output_type": "stream",
     "text": [
      "\r\n",
      " 99%|██████████████████████████████████████████████████████████████████████████████▊ | 551/559 [36:49<00:34,  4.36s/it]"
     ]
    },
    {
     "name": "stdout",
     "output_type": "stream",
     "text": [
      "551번째 시도입니다\n"
     ]
    },
    {
     "name": "stderr",
     "output_type": "stream",
     "text": [
      "\r\n",
      " 99%|██████████████████████████████████████████████████████████████████████████████▉ | 552/559 [36:52<00:28,  4.13s/it]"
     ]
    },
    {
     "name": "stdout",
     "output_type": "stream",
     "text": [
      "552번째 시도입니다\n"
     ]
    },
    {
     "name": "stderr",
     "output_type": "stream",
     "text": [
      "\r\n",
      " 99%|███████████████████████████████████████████████████████████████████████████████▏| 553/559 [36:56<00:24,  4.07s/it]"
     ]
    },
    {
     "name": "stdout",
     "output_type": "stream",
     "text": [
      "553번째 시도입니다\n"
     ]
    },
    {
     "name": "stderr",
     "output_type": "stream",
     "text": [
      "\r\n",
      " 99%|███████████████████████████████████████████████████████████████████████████████▎| 554/559 [37:02<00:22,  4.40s/it]"
     ]
    },
    {
     "name": "stdout",
     "output_type": "stream",
     "text": [
      "554번째 시도입니다\n"
     ]
    },
    {
     "name": "stderr",
     "output_type": "stream",
     "text": [
      "\r\n",
      " 99%|███████████████████████████████████████████████████████████████████████████████▍| 555/559 [37:05<00:16,  4.24s/it]"
     ]
    },
    {
     "name": "stdout",
     "output_type": "stream",
     "text": [
      "555번째 시도입니다\n"
     ]
    },
    {
     "name": "stderr",
     "output_type": "stream",
     "text": [
      "\r\n",
      " 99%|███████████████████████████████████████████████████████████████████████████████▌| 556/559 [37:09<00:12,  4.16s/it]"
     ]
    },
    {
     "name": "stdout",
     "output_type": "stream",
     "text": [
      "556번째 시도입니다\n"
     ]
    },
    {
     "name": "stderr",
     "output_type": "stream",
     "text": [
      "\r\n",
      "100%|███████████████████████████████████████████████████████████████████████████████▋| 557/559 [37:13<00:08,  4.14s/it]"
     ]
    },
    {
     "name": "stdout",
     "output_type": "stream",
     "text": [
      "557번째 시도입니다\n"
     ]
    },
    {
     "name": "stderr",
     "output_type": "stream",
     "text": [
      "\r\n",
      "100%|███████████████████████████████████████████████████████████████████████████████▊| 558/559 [37:17<00:03,  3.88s/it]"
     ]
    },
    {
     "name": "stdout",
     "output_type": "stream",
     "text": [
      "558번째 시도입니다\n"
     ]
    },
    {
     "name": "stderr",
     "output_type": "stream",
     "text": [
      "100%|████████████████████████████████████████████████████████████████████████████████| 559/559 [37:22<00:00,  4.01s/it]\n"
     ]
    }
   ],
   "source": [
    "# ID, Update day, Thumbnail, Title, Author, Content(Plot), Genre, Recommended Viewer Age, Like, Format (Cut or Scroll), First Updated Date\n",
    "idlist1 = [] \n",
    "daylist = [] \n",
    "imglist = [] \n",
    "titlelist = [] \n",
    "authorlist = [] \n",
    "contentlist = []\n",
    "genrelist = []\n",
    "agelist = [] \n",
    "likelist1 = []\n",
    "formlist = [] \n",
    "firstdate = [] \n",
    "\n",
    "# From the current page, get every information that classified class:title as page\n",
    "page = driver.find_elements(By.CLASS_NAME,'title')\n",
    "\n",
    "for i in tqdm(range(len(page))):\n",
    "    page = driver.find_elements(By.CLASS_NAME,'title')\n",
    "    \n",
    "    # Get ID and day from page\n",
    "    id = re.findall(r'\\d+', page[i].get_attribute('href'))[0]\n",
    "    day = page[i].get_attribute('href').split('=')[2]\n",
    "\n",
    "    # Enter the page\n",
    "    page[i].click()\n",
    "    time.sleep(0.5)\n",
    "    print(str(i)+'번째 시도입니다')\n",
    "\n",
    "    # Duplication processing (Get only day)\n",
    "    if (id in idlist1): \n",
    "        daylist[idlist1.index(id)] += ',' + day\n",
    "        driver.back()\n",
    "\n",
    "    else: \n",
    "        idlist1.append(id)\n",
    "        daylist.append(day)\n",
    "        \n",
    "        imgsrc = driver.find_element(By.CLASS_NAME,'thumb > a > img').get_attribute('src')\n",
    "        imglist.append(imgsrc)\n",
    "        \n",
    "        title = driver.find_element(By.CLASS_NAME,'title').text\n",
    "        titlelist.append(title)\n",
    "        \n",
    "        author = driver.find_element(By.CLASS_NAME,'wrt_nm').text\n",
    "        authorlist.append(author)\n",
    "        \n",
    "        content = driver.find_element(By.CLASS_NAME,'detail > p').text\n",
    "        contentlist.append(content)\n",
    "        \n",
    "        genre = driver.find_element(By.CLASS_NAME,'genre').text\n",
    "        genrelist.append(genre)\n",
    "        \n",
    "        age = driver.find_element(By.CLASS_NAME,'age').text\n",
    "        agelist.append(age)\n",
    "        \n",
    "        like = driver.find_element(By.CLASS_NAME,'u_cnt').text\n",
    "        likelist1.append(like)\n",
    "    \n",
    "        # Get the form cut-toon using the feature that cut-toon has 'ico_cut' path\n",
    "        try:\n",
    "            cuttoon = driver.find_element(By.CLASS_NAME, 'ico_cut').text\n",
    "            form = '컷툰'\n",
    "        except:\n",
    "            form = '스크롤'\n",
    "        formlist.append(form) \n",
    "        \n",
    "        # Add First Updated Day using enter the first episode function\n",
    "        driver.find_elements(By.CLASS_NAME,'first')[0].click()\n",
    "        time.sleep(0.5)\n",
    "        date = driver.find_elements(By.CLASS_NAME,'date')[0].text\n",
    "        firstdate.append(date)\n",
    "        \n",
    "        driver.back()\n",
    "        driver.back()"
   ]
  },
  {
   "cell_type": "code",
   "execution_count": 5,
   "id": "3a3c209e",
   "metadata": {},
   "outputs": [
    {
     "data": {
      "text/html": [
       "<div>\n",
       "<style scoped>\n",
       "    .dataframe tbody tr th:only-of-type {\n",
       "        vertical-align: middle;\n",
       "    }\n",
       "\n",
       "    .dataframe tbody tr th {\n",
       "        vertical-align: top;\n",
       "    }\n",
       "\n",
       "    .dataframe thead th {\n",
       "        text-align: right;\n",
       "    }\n",
       "</style>\n",
       "<table border=\"1\" class=\"dataframe\">\n",
       "  <thead>\n",
       "    <tr style=\"text-align: right;\">\n",
       "      <th></th>\n",
       "      <th>ID</th>\n",
       "      <th>Title</th>\n",
       "      <th>Author</th>\n",
       "      <th>Day</th>\n",
       "      <th>First Date</th>\n",
       "      <th>Web Like</th>\n",
       "      <th>Genre</th>\n",
       "      <th>Age</th>\n",
       "      <th>Form</th>\n",
       "      <th>Content</th>\n",
       "      <th>Imgsrc</th>\n",
       "    </tr>\n",
       "  </thead>\n",
       "  <tbody>\n",
       "    <tr>\n",
       "      <th>0</th>\n",
       "      <td>758037</td>\n",
       "      <td>참교육</td>\n",
       "      <td>채용택 / 한가람</td>\n",
       "      <td>mon</td>\n",
       "      <td>2020.11.01</td>\n",
       "      <td>20,274</td>\n",
       "      <td>스토리, 액션</td>\n",
       "      <td>15세 이용가</td>\n",
       "      <td>스크롤</td>\n",
       "      <td>무너진 교권을 지키기 위해 교권보호국 소속 나화진의 참교육이 시작된다!\\n&lt;부활남&gt;...</td>\n",
       "      <td>https://shared-comic.pstatic.net/thumb/webtoon...</td>\n",
       "    </tr>\n",
       "    <tr>\n",
       "      <th>1</th>\n",
       "      <td>183559</td>\n",
       "      <td>신의 탑</td>\n",
       "      <td>SIU</td>\n",
       "      <td>mon</td>\n",
       "      <td>2010.06.30</td>\n",
       "      <td>99,999+</td>\n",
       "      <td>스토리, 판타지</td>\n",
       "      <td>12세 이용가</td>\n",
       "      <td>스크롤</td>\n",
       "      <td>자신의 모든 것이었던 소녀를 쫓아 탑에 들어온 소년\\n그리고 그런 소년을 시험하는 탑</td>\n",
       "      <td>https://shared-comic.pstatic.net/thumb/webtoon...</td>\n",
       "    </tr>\n",
       "    <tr>\n",
       "      <th>2</th>\n",
       "      <td>648419</td>\n",
       "      <td>뷰티풀 군바리</td>\n",
       "      <td>설이 / 윤성원</td>\n",
       "      <td>mon</td>\n",
       "      <td>2015.02.15</td>\n",
       "      <td>99,999+</td>\n",
       "      <td>스토리, 드라마</td>\n",
       "      <td>15세 이용가</td>\n",
       "      <td>스크롤</td>\n",
       "      <td>'여자도 군대에 간다면?'본격 여자도 군대 가는 만화!</td>\n",
       "      <td>https://shared-comic.pstatic.net/thumb/webtoon...</td>\n",
       "    </tr>\n",
       "    <tr>\n",
       "      <th>3</th>\n",
       "      <td>783052</td>\n",
       "      <td>퀘스트지상주의</td>\n",
       "      <td>박태준 만화회사</td>\n",
       "      <td>mon</td>\n",
       "      <td>2021.10.24</td>\n",
       "      <td>1,376</td>\n",
       "      <td>스토리, 드라마</td>\n",
       "      <td>15세 이용가</td>\n",
       "      <td>스크롤</td>\n",
       "      <td>[외모지상주의], [싸움독학], [인생존망]과 세계관을 공유하는 작품!\\n공부, 싸...</td>\n",
       "      <td>https://shared-comic.pstatic.net/thumb/webtoon...</td>\n",
       "    </tr>\n",
       "    <tr>\n",
       "      <th>4</th>\n",
       "      <td>602910</td>\n",
       "      <td>윈드브레이커</td>\n",
       "      <td>조용석</td>\n",
       "      <td>mon</td>\n",
       "      <td>2013.12.08</td>\n",
       "      <td>99,999+</td>\n",
       "      <td>스토리, 스포츠</td>\n",
       "      <td>12세 이용가</td>\n",
       "      <td>스크롤</td>\n",
       "      <td>혼자서 자전거를 즐겨타던 모범생 조자현.\\n원치 않게 자전거 크루의 일에 자꾸 휘말...</td>\n",
       "      <td>https://shared-comic.pstatic.net/thumb/webtoon...</td>\n",
       "    </tr>\n",
       "    <tr>\n",
       "      <th>...</th>\n",
       "      <td>...</td>\n",
       "      <td>...</td>\n",
       "      <td>...</td>\n",
       "      <td>...</td>\n",
       "      <td>...</td>\n",
       "      <td>...</td>\n",
       "      <td>...</td>\n",
       "      <td>...</td>\n",
       "      <td>...</td>\n",
       "      <td>...</td>\n",
       "      <td>...</td>\n",
       "    </tr>\n",
       "    <tr>\n",
       "      <th>543</th>\n",
       "      <td>773524</td>\n",
       "      <td>거래하실래요?</td>\n",
       "      <td>99C / 백도</td>\n",
       "      <td>sun</td>\n",
       "      <td>2021.07.24</td>\n",
       "      <td>257</td>\n",
       "      <td>스토리, 로맨스</td>\n",
       "      <td>전체연령가</td>\n",
       "      <td>스크롤</td>\n",
       "      <td>새로운 사랑은 중고거래로 장만하세요(?!)\\n남친과 헤어진 후, 추억의 물건을 중고...</td>\n",
       "      <td>https://shared-comic.pstatic.net/thumb/webtoon...</td>\n",
       "    </tr>\n",
       "    <tr>\n",
       "      <th>544</th>\n",
       "      <td>785812</td>\n",
       "      <td>구해줘, 호구!</td>\n",
       "      <td>기천</td>\n",
       "      <td>sun</td>\n",
       "      <td>2021.12.11</td>\n",
       "      <td>166</td>\n",
       "      <td>스토리, 로맨스</td>\n",
       "      <td>전체연령가</td>\n",
       "      <td>스크롤</td>\n",
       "      <td>세상에서 착한 게 제일 싫은 준영은 '자타공인 청정호구' 산호가 자꾸 거슬린다.\\n...</td>\n",
       "      <td>https://shared-comic.pstatic.net/thumb/webtoon...</td>\n",
       "    </tr>\n",
       "    <tr>\n",
       "      <th>545</th>\n",
       "      <td>779354</td>\n",
       "      <td>패션쇼</td>\n",
       "      <td>로커8</td>\n",
       "      <td>sun</td>\n",
       "      <td>2021.08.28</td>\n",
       "      <td>165</td>\n",
       "      <td>스토리, 드라마</td>\n",
       "      <td>전체연령가</td>\n",
       "      <td>스크롤</td>\n",
       "      <td>세상에 찌든 수학교사, 남극에게는 사실 독특한 취미가 있다.\\n그런데, 그보다 더 ...</td>\n",
       "      <td>https://shared-comic.pstatic.net/thumb/webtoon...</td>\n",
       "    </tr>\n",
       "    <tr>\n",
       "      <th>546</th>\n",
       "      <td>776096</td>\n",
       "      <td>짝사랑의 유서</td>\n",
       "      <td>군밤</td>\n",
       "      <td>sun</td>\n",
       "      <td>2021.07.17</td>\n",
       "      <td>328</td>\n",
       "      <td>스토리, 로맨스</td>\n",
       "      <td>12세 이용가</td>\n",
       "      <td>스크롤</td>\n",
       "      <td>민결은 단골카페 사장님의 동생인 태은을 1년동안 짝사랑 하던 중, 태은에게서 편지 ...</td>\n",
       "      <td>https://shared-comic.pstatic.net/thumb/webtoon...</td>\n",
       "    </tr>\n",
       "    <tr>\n",
       "      <th>547</th>\n",
       "      <td>786973</td>\n",
       "      <td>DARK MOON: 달의 제단</td>\n",
       "      <td>HYBE</td>\n",
       "      <td>sun</td>\n",
       "      <td>2022.01.16</td>\n",
       "      <td>383</td>\n",
       "      <td>스토리, 판타지</td>\n",
       "      <td>12세 이용가</td>\n",
       "      <td>스크롤</td>\n",
       "      <td>누구도 사랑할 수 없는 뱀파이어와 한 명밖에 사랑할 수 없는 늑대인간.\\n리버필드 ...</td>\n",
       "      <td>https://shared-comic.pstatic.net/thumb/webtoon...</td>\n",
       "    </tr>\n",
       "  </tbody>\n",
       "</table>\n",
       "<p>548 rows × 11 columns</p>\n",
       "</div>"
      ],
      "text/plain": [
       "         ID             Title     Author  Day  First Date Web Like     Genre  \\\n",
       "0    758037               참교육  채용택 / 한가람  mon  2020.11.01   20,274   스토리, 액션   \n",
       "1    183559              신의 탑        SIU  mon  2010.06.30  99,999+  스토리, 판타지   \n",
       "2    648419           뷰티풀 군바리   설이 / 윤성원  mon  2015.02.15  99,999+  스토리, 드라마   \n",
       "3    783052           퀘스트지상주의   박태준 만화회사  mon  2021.10.24    1,376  스토리, 드라마   \n",
       "4    602910            윈드브레이커        조용석  mon  2013.12.08  99,999+  스토리, 스포츠   \n",
       "..      ...               ...        ...  ...         ...      ...       ...   \n",
       "543  773524           거래하실래요?   99C / 백도  sun  2021.07.24      257  스토리, 로맨스   \n",
       "544  785812          구해줘, 호구!         기천  sun  2021.12.11      166  스토리, 로맨스   \n",
       "545  779354               패션쇼        로커8  sun  2021.08.28      165  스토리, 드라마   \n",
       "546  776096           짝사랑의 유서         군밤  sun  2021.07.17      328  스토리, 로맨스   \n",
       "547  786973  DARK MOON: 달의 제단       HYBE  sun  2022.01.16      383  스토리, 판타지   \n",
       "\n",
       "         Age Form                                            Content  \\\n",
       "0    15세 이용가  스크롤  무너진 교권을 지키기 위해 교권보호국 소속 나화진의 참교육이 시작된다!\\n<부활남>...   \n",
       "1    12세 이용가  스크롤    자신의 모든 것이었던 소녀를 쫓아 탑에 들어온 소년\\n그리고 그런 소년을 시험하는 탑   \n",
       "2    15세 이용가  스크롤                     '여자도 군대에 간다면?'본격 여자도 군대 가는 만화!   \n",
       "3    15세 이용가  스크롤  [외모지상주의], [싸움독학], [인생존망]과 세계관을 공유하는 작품!\\n공부, 싸...   \n",
       "4    12세 이용가  스크롤  혼자서 자전거를 즐겨타던 모범생 조자현.\\n원치 않게 자전거 크루의 일에 자꾸 휘말...   \n",
       "..       ...  ...                                                ...   \n",
       "543    전체연령가  스크롤  새로운 사랑은 중고거래로 장만하세요(?!)\\n남친과 헤어진 후, 추억의 물건을 중고...   \n",
       "544    전체연령가  스크롤  세상에서 착한 게 제일 싫은 준영은 '자타공인 청정호구' 산호가 자꾸 거슬린다.\\n...   \n",
       "545    전체연령가  스크롤  세상에 찌든 수학교사, 남극에게는 사실 독특한 취미가 있다.\\n그런데, 그보다 더 ...   \n",
       "546  12세 이용가  스크롤  민결은 단골카페 사장님의 동생인 태은을 1년동안 짝사랑 하던 중, 태은에게서 편지 ...   \n",
       "547  12세 이용가  스크롤  누구도 사랑할 수 없는 뱀파이어와 한 명밖에 사랑할 수 없는 늑대인간.\\n리버필드 ...   \n",
       "\n",
       "                                                Imgsrc  \n",
       "0    https://shared-comic.pstatic.net/thumb/webtoon...  \n",
       "1    https://shared-comic.pstatic.net/thumb/webtoon...  \n",
       "2    https://shared-comic.pstatic.net/thumb/webtoon...  \n",
       "3    https://shared-comic.pstatic.net/thumb/webtoon...  \n",
       "4    https://shared-comic.pstatic.net/thumb/webtoon...  \n",
       "..                                                 ...  \n",
       "543  https://shared-comic.pstatic.net/thumb/webtoon...  \n",
       "544  https://shared-comic.pstatic.net/thumb/webtoon...  \n",
       "545  https://shared-comic.pstatic.net/thumb/webtoon...  \n",
       "546  https://shared-comic.pstatic.net/thumb/webtoon...  \n",
       "547  https://shared-comic.pstatic.net/thumb/webtoon...  \n",
       "\n",
       "[548 rows x 11 columns]"
      ]
     },
     "execution_count": 5,
     "metadata": {},
     "output_type": "execute_result"
    }
   ],
   "source": [
    "# Create and Visualize a dataframe\n",
    "cols = []\n",
    "df1 = pd.DataFrame(columns=cols)\n",
    "\n",
    "df1['ID'] = idlist1\n",
    "df1['Title'] = titlelist\n",
    "df1['Author'] = authorlist \n",
    "df1['Day'] = daylist\n",
    "df1['First Date'] = firstdate\n",
    "df1['Web Like'] = likelist1\n",
    "df1['Genre'] = genrelist\n",
    "df1['Age'] = agelist\n",
    "df1['Form'] = formlist\n",
    "df1['Content'] = contentlist\n",
    "df1['Imgsrc'] = imglist\n",
    "\n",
    "df1"
   ]
  },
  {
   "cell_type": "code",
   "execution_count": 6,
   "id": "0809e909",
   "metadata": {},
   "outputs": [
    {
     "data": {
      "text/html": [
       "<div>\n",
       "<style scoped>\n",
       "    .dataframe tbody tr th:only-of-type {\n",
       "        vertical-align: middle;\n",
       "    }\n",
       "\n",
       "    .dataframe tbody tr th {\n",
       "        vertical-align: top;\n",
       "    }\n",
       "\n",
       "    .dataframe thead th {\n",
       "        text-align: right;\n",
       "    }\n",
       "</style>\n",
       "<table border=\"1\" class=\"dataframe\">\n",
       "  <thead>\n",
       "    <tr style=\"text-align: right;\">\n",
       "      <th></th>\n",
       "      <th>ID</th>\n",
       "      <th>Title</th>\n",
       "      <th>Author</th>\n",
       "      <th>Day</th>\n",
       "      <th>First Date</th>\n",
       "      <th>Web Like</th>\n",
       "      <th>Genre</th>\n",
       "      <th>Age</th>\n",
       "      <th>Form</th>\n",
       "      <th>Content</th>\n",
       "      <th>Imgsrc</th>\n",
       "    </tr>\n",
       "  </thead>\n",
       "  <tbody>\n",
       "    <tr>\n",
       "      <th>161</th>\n",
       "      <td>796218</td>\n",
       "      <td>2022 스크롤금지</td>\n",
       "      <td>웹툰 작가</td>\n",
       "      <td>wed,sat,sun</td>\n",
       "      <td>2022.06.14</td>\n",
       "      <td>494</td>\n",
       "      <td>스토리, 스릴러</td>\n",
       "      <td>15세 이용가</td>\n",
       "      <td>스크롤</td>\n",
       "      <td>2022 네이버웹툰 릴레이 공포 단편선. 무더위를 날려줄 서늘한 공포특집이 돌아왔다...</td>\n",
       "      <td>https://shared-comic.pstatic.net/thumb/webtoon...</td>\n",
       "    </tr>\n",
       "  </tbody>\n",
       "</table>\n",
       "</div>"
      ],
      "text/plain": [
       "         ID       Title Author          Day  First Date Web Like     Genre  \\\n",
       "161  796218  2022 스크롤금지  웹툰 작가  wed,sat,sun  2022.06.14      494  스토리, 스릴러   \n",
       "\n",
       "         Age Form                                            Content  \\\n",
       "161  15세 이용가  스크롤  2022 네이버웹툰 릴레이 공포 단편선. 무더위를 날려줄 서늘한 공포특집이 돌아왔다...   \n",
       "\n",
       "                                                Imgsrc  \n",
       "161  https://shared-comic.pstatic.net/thumb/webtoon...  "
      ]
     },
     "execution_count": 6,
     "metadata": {},
     "output_type": "execute_result"
    }
   ],
   "source": [
    "# Visualize the toon that upload more than twice a week\n",
    "df1[df1['ID']=='796218']"
   ]
  },
  {
   "cell_type": "code",
   "execution_count": 7,
   "id": "fc5ccbfa",
   "metadata": {},
   "outputs": [
    {
     "data": {
      "text/html": [
       "<div>\n",
       "<style scoped>\n",
       "    .dataframe tbody tr th:only-of-type {\n",
       "        vertical-align: middle;\n",
       "    }\n",
       "\n",
       "    .dataframe tbody tr th {\n",
       "        vertical-align: top;\n",
       "    }\n",
       "\n",
       "    .dataframe thead th {\n",
       "        text-align: right;\n",
       "    }\n",
       "</style>\n",
       "<table border=\"1\" class=\"dataframe\">\n",
       "  <thead>\n",
       "    <tr style=\"text-align: right;\">\n",
       "      <th></th>\n",
       "      <th>ID</th>\n",
       "      <th>Title</th>\n",
       "      <th>Author</th>\n",
       "      <th>Day</th>\n",
       "      <th>First Date</th>\n",
       "      <th>Web Like</th>\n",
       "      <th>Genre</th>\n",
       "      <th>Age</th>\n",
       "      <th>Form</th>\n",
       "      <th>Content</th>\n",
       "      <th>Imgsrc</th>\n",
       "    </tr>\n",
       "  </thead>\n",
       "  <tbody>\n",
       "    <tr>\n",
       "      <th>1</th>\n",
       "      <td>183559</td>\n",
       "      <td>신의 탑</td>\n",
       "      <td>SIU</td>\n",
       "      <td>mon</td>\n",
       "      <td>2010.06.30</td>\n",
       "      <td>99,999+</td>\n",
       "      <td>스토리, 판타지</td>\n",
       "      <td>12세 이용가</td>\n",
       "      <td>스크롤</td>\n",
       "      <td>자신의 모든 것이었던 소녀를 쫓아 탑에 들어온 소년\\n그리고 그런 소년을 시험하는 탑</td>\n",
       "      <td>https://shared-comic.pstatic.net/thumb/webtoon...</td>\n",
       "    </tr>\n",
       "    <tr>\n",
       "      <th>2</th>\n",
       "      <td>648419</td>\n",
       "      <td>뷰티풀 군바리</td>\n",
       "      <td>설이 / 윤성원</td>\n",
       "      <td>mon</td>\n",
       "      <td>2015.02.15</td>\n",
       "      <td>99,999+</td>\n",
       "      <td>스토리, 드라마</td>\n",
       "      <td>15세 이용가</td>\n",
       "      <td>스크롤</td>\n",
       "      <td>'여자도 군대에 간다면?'본격 여자도 군대 가는 만화!</td>\n",
       "      <td>https://shared-comic.pstatic.net/thumb/webtoon...</td>\n",
       "    </tr>\n",
       "    <tr>\n",
       "      <th>4</th>\n",
       "      <td>602910</td>\n",
       "      <td>윈드브레이커</td>\n",
       "      <td>조용석</td>\n",
       "      <td>mon</td>\n",
       "      <td>2013.12.08</td>\n",
       "      <td>99,999+</td>\n",
       "      <td>스토리, 스포츠</td>\n",
       "      <td>12세 이용가</td>\n",
       "      <td>스크롤</td>\n",
       "      <td>혼자서 자전거를 즐겨타던 모범생 조자현.\\n원치 않게 자전거 크루의 일에 자꾸 휘말...</td>\n",
       "      <td>https://shared-comic.pstatic.net/thumb/webtoon...</td>\n",
       "    </tr>\n",
       "    <tr>\n",
       "      <th>7</th>\n",
       "      <td>654774</td>\n",
       "      <td>소녀의 세계</td>\n",
       "      <td>모랑지</td>\n",
       "      <td>mon</td>\n",
       "      <td>2015.05.17</td>\n",
       "      <td>99,999+</td>\n",
       "      <td>스토리, 드라마</td>\n",
       "      <td>전체연령가</td>\n",
       "      <td>스크롤</td>\n",
       "      <td>완벽해 보이지만 사실 외로웠던 백조들과 맘씨 착한 오리가 만나\\n여러 갈등을 함께 ...</td>\n",
       "      <td>https://shared-comic.pstatic.net/thumb/webtoon...</td>\n",
       "    </tr>\n",
       "    <tr>\n",
       "      <th>8</th>\n",
       "      <td>733074</td>\n",
       "      <td>백수세끼</td>\n",
       "      <td>치즈</td>\n",
       "      <td>mon</td>\n",
       "      <td>2019.09.01</td>\n",
       "      <td>99,999+</td>\n",
       "      <td>스토리, 드라마</td>\n",
       "      <td>전체연령가</td>\n",
       "      <td>스크롤</td>\n",
       "      <td>백수 시절 내 곁을 지켜줬던 그녀... 돌아와 주면 안 되겠니?\\n음식 메뉴마다 담...</td>\n",
       "      <td>https://shared-comic.pstatic.net/thumb/webtoon...</td>\n",
       "    </tr>\n",
       "    <tr>\n",
       "      <th>29</th>\n",
       "      <td>687915</td>\n",
       "      <td>꿈의 기업</td>\n",
       "      <td>문지현</td>\n",
       "      <td>mon</td>\n",
       "      <td>2016.11.13</td>\n",
       "      <td>99,999+</td>\n",
       "      <td>스토리, 스릴러</td>\n",
       "      <td>12세 이용가</td>\n",
       "      <td>스크롤</td>\n",
       "      <td>문명을 지배하는 거대기업과 거대기업을 움직이는 인공지능. 그 인공지능이 꿈을 꾸기 ...</td>\n",
       "      <td>https://shared-comic.pstatic.net/thumb/webtoon...</td>\n",
       "    </tr>\n",
       "    <tr>\n",
       "      <th>33</th>\n",
       "      <td>730174</td>\n",
       "      <td>칼가는 소녀</td>\n",
       "      <td>오리</td>\n",
       "      <td>mon</td>\n",
       "      <td>2019.06.30</td>\n",
       "      <td>99,999+</td>\n",
       "      <td>에피소드, 드라마</td>\n",
       "      <td>12세 이용가</td>\n",
       "      <td>스크롤</td>\n",
       "      <td>치사율 100%의 인싸 희귀병 소녀 '사랑'\\n누구보다 차분하고 두려움 없는 같은 ...</td>\n",
       "      <td>https://shared-comic.pstatic.net/thumb/webtoon...</td>\n",
       "    </tr>\n",
       "    <tr>\n",
       "      <th>81</th>\n",
       "      <td>703846</td>\n",
       "      <td>여신강림</td>\n",
       "      <td>야옹이</td>\n",
       "      <td>tue</td>\n",
       "      <td>2018.04.02</td>\n",
       "      <td>99,999+</td>\n",
       "      <td>스토리, 로맨스</td>\n",
       "      <td>12세 이용가</td>\n",
       "      <td>스크롤</td>\n",
       "      <td>네웹 대표 글로벌 인기작! 주경, 수호, 서준. 세 청춘의 두근두근 눈호강 로맨스~...</td>\n",
       "      <td>https://shared-comic.pstatic.net/thumb/webtoon...</td>\n",
       "    </tr>\n",
       "    <tr>\n",
       "      <th>87</th>\n",
       "      <td>738174</td>\n",
       "      <td>중증외상센터 : 골든 아워</td>\n",
       "      <td>홍비치라 / 한산이가</td>\n",
       "      <td>tue</td>\n",
       "      <td>2019.12.16</td>\n",
       "      <td>99,999+</td>\n",
       "      <td>스토리, 드라마</td>\n",
       "      <td>15세 이용가</td>\n",
       "      <td>스크롤</td>\n",
       "      <td>살 수 있는 환자들이 죽어 가고 있다. 이제 더는 그런 일이 없도록 하겠다.\\n사명...</td>\n",
       "      <td>https://shared-comic.pstatic.net/thumb/webtoon...</td>\n",
       "    </tr>\n",
       "    <tr>\n",
       "      <th>89</th>\n",
       "      <td>711422</td>\n",
       "      <td>삼국지톡</td>\n",
       "      <td>무적핑크 / 이리</td>\n",
       "      <td>tue,fri</td>\n",
       "      <td>2018.05.10</td>\n",
       "      <td>99,999+</td>\n",
       "      <td>에피소드, 무협/사극</td>\n",
       "      <td>12세 이용가</td>\n",
       "      <td>컷툰</td>\n",
       "      <td>\"유비, 조조, 손권 등 영웅들이 활약하던 후한, 그 난세에 핸드폰이 있었다면?\\n...</td>\n",
       "      <td>https://shared-comic.pstatic.net/thumb/webtoon...</td>\n",
       "    </tr>\n",
       "    <tr>\n",
       "      <th>92</th>\n",
       "      <td>721433</td>\n",
       "      <td>집이 없어</td>\n",
       "      <td>와난</td>\n",
       "      <td>tue</td>\n",
       "      <td>2018.12.31</td>\n",
       "      <td>99,999+</td>\n",
       "      <td>스토리, 드라마</td>\n",
       "      <td>전체연령가</td>\n",
       "      <td>스크롤</td>\n",
       "      <td>집을 버리고 뛰쳐나간 고해준, 집 없이 텐트 생활하는 문제아 백은영.\\n악연으로 만...</td>\n",
       "      <td>https://shared-comic.pstatic.net/thumb/webtoon...</td>\n",
       "    </tr>\n",
       "    <tr>\n",
       "      <th>93</th>\n",
       "      <td>702608</td>\n",
       "      <td>랜덤채팅의 그녀!</td>\n",
       "      <td>박은혁</td>\n",
       "      <td>tue</td>\n",
       "      <td>2017.11.13</td>\n",
       "      <td>99,999+</td>\n",
       "      <td>스토리, 드라마</td>\n",
       "      <td>15세 이용가</td>\n",
       "      <td>스크롤</td>\n",
       "      <td>랜덤채팅만 하던 준우에게 온 기적!\\n과연 그녀(들)에게 다가갈수 있을까?!\\n(읽...</td>\n",
       "      <td>https://shared-comic.pstatic.net/thumb/webtoon...</td>\n",
       "    </tr>\n",
       "    <tr>\n",
       "      <th>99</th>\n",
       "      <td>698918</td>\n",
       "      <td>원주민 공포만화</td>\n",
       "      <td>원주민</td>\n",
       "      <td>tue</td>\n",
       "      <td>2017.07.24</td>\n",
       "      <td>99,999+</td>\n",
       "      <td>스토리, 스릴러</td>\n",
       "      <td>15세 이용가</td>\n",
       "      <td>스크롤</td>\n",
       "      <td>끝날 때까지 끝난 것이 아니다!\\n마지막까지 방심할 수 없는 다양한 에피소드.\\n당...</td>\n",
       "      <td>https://shared-comic.pstatic.net/thumb/webtoon...</td>\n",
       "    </tr>\n",
       "    <tr>\n",
       "      <th>100</th>\n",
       "      <td>400739</td>\n",
       "      <td>에이머</td>\n",
       "      <td>구동인</td>\n",
       "      <td>tue</td>\n",
       "      <td>2011.11.01</td>\n",
       "      <td>99,999+</td>\n",
       "      <td>스토리, 판타지</td>\n",
       "      <td>전체연령가</td>\n",
       "      <td>스크롤</td>\n",
       "      <td>작은 우연은 역사를 만든다.\\n지구를 침공한 이성인 팜킨 일당과, 그들을 막아선 초...</td>\n",
       "      <td>https://shared-comic.pstatic.net/thumb/webtoon...</td>\n",
       "    </tr>\n",
       "    <tr>\n",
       "      <th>101</th>\n",
       "      <td>616239</td>\n",
       "      <td>윌유메리미</td>\n",
       "      <td>마인드C</td>\n",
       "      <td>tue,sat</td>\n",
       "      <td>2014.03.03</td>\n",
       "      <td>99,999+</td>\n",
       "      <td>에피소드, 일상</td>\n",
       "      <td>전체연령가</td>\n",
       "      <td>스크롤</td>\n",
       "      <td>외모는 상남자, 마음은 감성소녀 윌.외모는 청순녀, 마음은 터프가이 메리!\\n서울 ...</td>\n",
       "      <td>https://shared-comic.pstatic.net/thumb/webtoon...</td>\n",
       "    </tr>\n",
       "    <tr>\n",
       "      <th>110</th>\n",
       "      <td>740034</td>\n",
       "      <td>견우와 선녀</td>\n",
       "      <td>안수민</td>\n",
       "      <td>tue</td>\n",
       "      <td>2020.02.03</td>\n",
       "      <td>99,999+</td>\n",
       "      <td>스토리, 드라마</td>\n",
       "      <td>전체연령가</td>\n",
       "      <td>스크롤</td>\n",
       "      <td>죽음이 가까워진 사람들은 '거꾸로' 걸어들어 온다\\n그리고 그게 하필 내 이상형이라니!?</td>\n",
       "      <td>https://shared-comic.pstatic.net/thumb/webtoon...</td>\n",
       "    </tr>\n",
       "    <tr>\n",
       "      <th>114</th>\n",
       "      <td>741449</td>\n",
       "      <td>용왕님의 셰프가 되었습니다</td>\n",
       "      <td>옥 / 카라쿨 / 문백경</td>\n",
       "      <td>tue</td>\n",
       "      <td>2020.02.24</td>\n",
       "      <td>99,999+</td>\n",
       "      <td>스토리, 판타지</td>\n",
       "      <td>전체연령가</td>\n",
       "      <td>스크롤</td>\n",
       "      <td>인당수에 몸을 던진 심청! 귀차니즘 드래곤의 던전에서 깨어나다?\\n사연 많은 귀염뽀...</td>\n",
       "      <td>https://shared-comic.pstatic.net/thumb/webtoon...</td>\n",
       "    </tr>\n",
       "    <tr>\n",
       "      <th>117</th>\n",
       "      <td>654138</td>\n",
       "      <td>은주의 방 2~3부</td>\n",
       "      <td>노란구미</td>\n",
       "      <td>tue</td>\n",
       "      <td>2015.05.22</td>\n",
       "      <td>99,999+</td>\n",
       "      <td>스토리, 드라마</td>\n",
       "      <td>전체연령가</td>\n",
       "      <td>스크롤</td>\n",
       "      <td>인테리어, 그것은 삶을 바꿔주는 마법이다!\\n반복되는 야근과 업무 스트레스로 회사를...</td>\n",
       "      <td>https://shared-comic.pstatic.net/thumb/webtoon...</td>\n",
       "    </tr>\n",
       "    <tr>\n",
       "      <th>118</th>\n",
       "      <td>676695</td>\n",
       "      <td>제로게임</td>\n",
       "      <td>즐바센</td>\n",
       "      <td>tue</td>\n",
       "      <td>2016.04.04</td>\n",
       "      <td>99,999+</td>\n",
       "      <td>스토리, 판타지</td>\n",
       "      <td>12세 이용가</td>\n",
       "      <td>스크롤</td>\n",
       "      <td>죽음을 선택한 사람들의 인생 재건설 서바이벌!\\n2015 대학만화 최강자전 수상작</td>\n",
       "      <td>https://shared-comic.pstatic.net/thumb/webtoon...</td>\n",
       "    </tr>\n",
       "    <tr>\n",
       "      <th>163</th>\n",
       "      <td>747269</td>\n",
       "      <td>전지적 독자 시점</td>\n",
       "      <td>UMI / 슬리피-C / 싱숑</td>\n",
       "      <td>wed</td>\n",
       "      <td>2020.05.26</td>\n",
       "      <td>99,999+</td>\n",
       "      <td>스토리, 판타지</td>\n",
       "      <td>15세 이용가</td>\n",
       "      <td>스크롤</td>\n",
       "      <td>'이건 내가 아는 그 전개다'\\n한순간에 세계가 멸망하고, 새로운 세상이 펼쳐졌다....</td>\n",
       "      <td>https://shared-comic.pstatic.net/thumb/webtoon...</td>\n",
       "    </tr>\n",
       "    <tr>\n",
       "      <th>165</th>\n",
       "      <td>670143</td>\n",
       "      <td>헬퍼 2 : 킬베로스</td>\n",
       "      <td>삭</td>\n",
       "      <td>wed</td>\n",
       "      <td>2016.01.12</td>\n",
       "      <td>99,999+</td>\n",
       "      <td>스토리, 액션</td>\n",
       "      <td>18세 이용가</td>\n",
       "      <td>스크롤</td>\n",
       "      <td>역시는 역시 역시군.\\n킬베로스 트라이브의 대장 장광남이 펼치는 스트릿 액션 만화.</td>\n",
       "      <td>https://shared-comic.pstatic.net/thumb/webtoon...</td>\n",
       "    </tr>\n",
       "    <tr>\n",
       "      <th>167</th>\n",
       "      <td>749639</td>\n",
       "      <td>남주의 첫날밤을 가져버렸다</td>\n",
       "      <td>티바 / MSG / 황도톨</td>\n",
       "      <td>wed</td>\n",
       "      <td>2020.07.07</td>\n",
       "      <td>99,999+</td>\n",
       "      <td>스토리, 로맨스</td>\n",
       "      <td>15세 이용가</td>\n",
       "      <td>스크롤</td>\n",
       "      <td>소설 속 엑스트라인 백작 영애 리플리로 빙의 된 여주인공.\\n이왕 이렇게 된 거 전...</td>\n",
       "      <td>https://shared-comic.pstatic.net/thumb/webtoon...</td>\n",
       "    </tr>\n",
       "    <tr>\n",
       "      <th>169</th>\n",
       "      <td>717481</td>\n",
       "      <td>일렉시드</td>\n",
       "      <td>손제호 / 제나</td>\n",
       "      <td>wed</td>\n",
       "      <td>2018.10.02</td>\n",
       "      <td>99,999+</td>\n",
       "      <td>스토리, 액션</td>\n",
       "      <td>12세 이용가</td>\n",
       "      <td>스크롤</td>\n",
       "      <td>&lt;노블레스&gt; 손제호 작가와 &lt;소녀더와일즈&gt; 제나 작가가 만났다!\\n고양이 몸에 깃든...</td>\n",
       "      <td>https://shared-comic.pstatic.net/thumb/webtoon...</td>\n",
       "    </tr>\n",
       "    <tr>\n",
       "      <th>175</th>\n",
       "      <td>667573</td>\n",
       "      <td>연놈</td>\n",
       "      <td>상하</td>\n",
       "      <td>wed</td>\n",
       "      <td>2015.12.08</td>\n",
       "      <td>99,999+</td>\n",
       "      <td>스토리, 드라마</td>\n",
       "      <td>12세 이용가</td>\n",
       "      <td>스크롤</td>\n",
       "      <td>중2 여름, 가지 말라는 말도 좋아했다는 말도 하지 못한 채 보낸 그녀가 3년 만에...</td>\n",
       "      <td>https://shared-comic.pstatic.net/thumb/webtoon...</td>\n",
       "    </tr>\n",
       "    <tr>\n",
       "      <th>180</th>\n",
       "      <td>710747</td>\n",
       "      <td>세상은 돈과 권력</td>\n",
       "      <td>한동우 / 이도희</td>\n",
       "      <td>wed</td>\n",
       "      <td>2018.05.01</td>\n",
       "      <td>99,999+</td>\n",
       "      <td>에피소드, 드라마</td>\n",
       "      <td>15세 이용가</td>\n",
       "      <td>스크롤</td>\n",
       "      <td>재벌 3세가 일반 고등학교에 들어오면서, 선생들과 학생들은 거대 자본에 굴복해 권력...</td>\n",
       "      <td>https://shared-comic.pstatic.net/thumb/webtoon...</td>\n",
       "    </tr>\n",
       "    <tr>\n",
       "      <th>191</th>\n",
       "      <td>671421</td>\n",
       "      <td>언덕 위의 제임스</td>\n",
       "      <td>쿠당탕</td>\n",
       "      <td>wed</td>\n",
       "      <td>2016.01.19</td>\n",
       "      <td>99,999+</td>\n",
       "      <td>에피소드, 개그</td>\n",
       "      <td>전체연령가</td>\n",
       "      <td>스크롤</td>\n",
       "      <td>제임스들이 펼치는 코믹 막장 에피소드!\\n지금 전세계의 제임스들이 몰려온다</td>\n",
       "      <td>https://shared-comic.pstatic.net/thumb/webtoon...</td>\n",
       "    </tr>\n",
       "    <tr>\n",
       "      <th>192</th>\n",
       "      <td>725829</td>\n",
       "      <td>아도나이</td>\n",
       "      <td>주동근</td>\n",
       "      <td>wed</td>\n",
       "      <td>2019.03.19</td>\n",
       "      <td>99,999+</td>\n",
       "      <td>스토리, 스릴러</td>\n",
       "      <td>15세 이용가</td>\n",
       "      <td>스크롤</td>\n",
       "      <td>경신일보 유미건 기자는 어느 날 의문의 제보 메일을 받게 된다. 그녀는 알 수 없는...</td>\n",
       "      <td>https://shared-comic.pstatic.net/thumb/webtoon...</td>\n",
       "    </tr>\n",
       "    <tr>\n",
       "      <th>240</th>\n",
       "      <td>748105</td>\n",
       "      <td>독립일기</td>\n",
       "      <td>자까</td>\n",
       "      <td>thu,sun</td>\n",
       "      <td>2020.06.13</td>\n",
       "      <td>99,999+</td>\n",
       "      <td>에피소드, 일상</td>\n",
       "      <td>전체연령가</td>\n",
       "      <td>컷툰</td>\n",
       "      <td>처음으로 나만의 집이 생긴다면?\\n자까 작가의 나혼자 사는 이야기</td>\n",
       "      <td>https://shared-comic.pstatic.net/thumb/webtoon...</td>\n",
       "    </tr>\n",
       "    <tr>\n",
       "      <th>242</th>\n",
       "      <td>570503</td>\n",
       "      <td>연애혁명</td>\n",
       "      <td>232</td>\n",
       "      <td>thu</td>\n",
       "      <td>2013.09.04</td>\n",
       "      <td>99,999+</td>\n",
       "      <td>스토리, 드라마</td>\n",
       "      <td>15세 이용가</td>\n",
       "      <td>스크롤</td>\n",
       "      <td>평범하면서 금사빠인 고등학생 순정남 공주영은\\n까칠하고 차가운 여학생 왕자림을 보고...</td>\n",
       "      <td>https://shared-comic.pstatic.net/thumb/webtoon...</td>\n",
       "    </tr>\n",
       "    <tr>\n",
       "      <th>254</th>\n",
       "      <td>131385</td>\n",
       "      <td>쿠베라</td>\n",
       "      <td>카레곰</td>\n",
       "      <td>thu</td>\n",
       "      <td>2010.02.07</td>\n",
       "      <td>99,999+</td>\n",
       "      <td>스토리, 판타지</td>\n",
       "      <td>전체연령가</td>\n",
       "      <td>스크롤</td>\n",
       "      <td>신의 이름을 가진 소녀 쿠베라 리즈. 15세 생일에 외출에서 돌아오다가 초토화되어버...</td>\n",
       "      <td>https://shared-comic.pstatic.net/thumb/webtoon...</td>\n",
       "    </tr>\n",
       "    <tr>\n",
       "      <th>257</th>\n",
       "      <td>710761</td>\n",
       "      <td>하드캐리</td>\n",
       "      <td>조양</td>\n",
       "      <td>thu</td>\n",
       "      <td>2018.05.16</td>\n",
       "      <td>99,999+</td>\n",
       "      <td>스토리, 드라마</td>\n",
       "      <td>전체연령가</td>\n",
       "      <td>스크롤</td>\n",
       "      <td>성격은 소심하지만 게임 실력 하나는 천상계 최고인 '도윤'과\\n공부, 인성, 외모,...</td>\n",
       "      <td>https://shared-comic.pstatic.net/thumb/webtoon...</td>\n",
       "    </tr>\n",
       "    <tr>\n",
       "      <th>259</th>\n",
       "      <td>570506</td>\n",
       "      <td>최강전설 강해효</td>\n",
       "      <td>최병열</td>\n",
       "      <td>thu</td>\n",
       "      <td>2013.07.10</td>\n",
       "      <td>99,999+</td>\n",
       "      <td>스토리, 액션</td>\n",
       "      <td>15세 이용가</td>\n",
       "      <td>스크롤</td>\n",
       "      <td>맹수같이 거친 문제아 학생들만 모여있는 최강고등학교!!\\n\\n그곳에서 변화가 시작되었다.</td>\n",
       "      <td>https://shared-comic.pstatic.net/thumb/webtoon...</td>\n",
       "    </tr>\n",
       "    <tr>\n",
       "      <th>264</th>\n",
       "      <td>701700</td>\n",
       "      <td>트롤트랩</td>\n",
       "      <td>유비</td>\n",
       "      <td>thu</td>\n",
       "      <td>2017.10.11</td>\n",
       "      <td>99,999+</td>\n",
       "      <td>스토리, 판타지</td>\n",
       "      <td>12세 이용가</td>\n",
       "      <td>스크롤</td>\n",
       "      <td>트롤을 잡아, 인류를 지켜라!\\n정체불명 헌터 하태와 알바헌터 지현의 통쾌한 판타지 액션</td>\n",
       "      <td>https://shared-comic.pstatic.net/thumb/webtoon...</td>\n",
       "    </tr>\n",
       "    <tr>\n",
       "      <th>307</th>\n",
       "      <td>729086</td>\n",
       "      <td>이계 무슨 황비</td>\n",
       "      <td>전현서 / GUA</td>\n",
       "      <td>thu</td>\n",
       "      <td>2019.05.29</td>\n",
       "      <td>99,999+</td>\n",
       "      <td>스토리, 로맨스</td>\n",
       "      <td>12세 이용가</td>\n",
       "      <td>스크롤</td>\n",
       "      <td>\"안녕하세요, 고객님. 상담원 진예롬입니다. 네? 이세계에서 전화 주셨다구요?\"\\n...</td>\n",
       "      <td>https://shared-comic.pstatic.net/thumb/webtoon...</td>\n",
       "    </tr>\n",
       "    <tr>\n",
       "      <th>322</th>\n",
       "      <td>641253</td>\n",
       "      <td>외모지상주의</td>\n",
       "      <td>박태준</td>\n",
       "      <td>fri</td>\n",
       "      <td>2014.11.20</td>\n",
       "      <td>99,999+</td>\n",
       "      <td>스토리, 드라마</td>\n",
       "      <td>15세 이용가</td>\n",
       "      <td>스크롤</td>\n",
       "      <td>못생기고 뚱뚱하다고 괴롭힘을 당하며 루저 인생만 살아온 내가 잘생겨졌다는 이유로 인...</td>\n",
       "      <td>https://shared-comic.pstatic.net/thumb/webtoon...</td>\n",
       "    </tr>\n",
       "    <tr>\n",
       "      <th>324</th>\n",
       "      <td>318995</td>\n",
       "      <td>갓 오브 하이스쿨</td>\n",
       "      <td>박용제</td>\n",
       "      <td>fri</td>\n",
       "      <td>2011.04.08</td>\n",
       "      <td>99,999+</td>\n",
       "      <td>스토리, 판타지</td>\n",
       "      <td>12세 이용가</td>\n",
       "      <td>스크롤</td>\n",
       "      <td>전국, 전세계 고등학생 중 가장 쎈 녀석을 뽑는 대회가 열린다.\\n허구 100% 막...</td>\n",
       "      <td>https://shared-comic.pstatic.net/thumb/webtoon...</td>\n",
       "    </tr>\n",
       "    <tr>\n",
       "      <th>329</th>\n",
       "      <td>725586</td>\n",
       "      <td>1초</td>\n",
       "      <td>시니 / 광운</td>\n",
       "      <td>fri</td>\n",
       "      <td>2019.03.14</td>\n",
       "      <td>99,999+</td>\n",
       "      <td>스토리, 드라마</td>\n",
       "      <td>전체연령가</td>\n",
       "      <td>스크롤</td>\n",
       "      <td>구조율 100%의 전설적인 소방관.\\n그의 특별한 능력은 긴장하는 순간, 미래가 보...</td>\n",
       "      <td>https://shared-comic.pstatic.net/thumb/webtoon...</td>\n",
       "    </tr>\n",
       "    <tr>\n",
       "      <th>330</th>\n",
       "      <td>712362</td>\n",
       "      <td>개를 낳았다</td>\n",
       "      <td>이선</td>\n",
       "      <td>fri</td>\n",
       "      <td>2018.06.07</td>\n",
       "      <td>99,999+</td>\n",
       "      <td>스토리, 드라마</td>\n",
       "      <td>전체연령가</td>\n",
       "      <td>스크롤</td>\n",
       "      <td>사랑스러운 너와의 첫 만남부터 이별까지.\\n처음으로 반려견을 키우게 된 다나와 모든...</td>\n",
       "      <td>https://shared-comic.pstatic.net/thumb/webtoon...</td>\n",
       "    </tr>\n",
       "    <tr>\n",
       "      <th>331</th>\n",
       "      <td>735661</td>\n",
       "      <td>재혼 황후</td>\n",
       "      <td>히어리 / 숨풀 / 알파타르트</td>\n",
       "      <td>fri</td>\n",
       "      <td>2019.10.24</td>\n",
       "      <td>99,999+</td>\n",
       "      <td>스토리, 로맨스</td>\n",
       "      <td>15세 이용가</td>\n",
       "      <td>스크롤</td>\n",
       "      <td>동대제국의 완벽한 황후였던 나비에.\\n황제인 남편이 정부를 황후로 만들려는 것을 알...</td>\n",
       "      <td>https://shared-comic.pstatic.net/thumb/webtoon...</td>\n",
       "    </tr>\n",
       "    <tr>\n",
       "      <th>343</th>\n",
       "      <td>748534</td>\n",
       "      <td>구남친이 내게 반했다</td>\n",
       "      <td>희똑 / 강하다</td>\n",
       "      <td>fri</td>\n",
       "      <td>2020.06.25</td>\n",
       "      <td>99,999+</td>\n",
       "      <td>스토리, 로맨스</td>\n",
       "      <td>전체연령가</td>\n",
       "      <td>스크롤</td>\n",
       "      <td>10년을 잊지 못한 첫사랑 구남친과 원수 같은 구남친을 한 오피스에서 만나버렸다.\\...</td>\n",
       "      <td>https://shared-comic.pstatic.net/thumb/webtoon...</td>\n",
       "    </tr>\n",
       "    <tr>\n",
       "      <th>356</th>\n",
       "      <td>552960</td>\n",
       "      <td>더 게이머</td>\n",
       "      <td>성상영 / 상아</td>\n",
       "      <td>fri</td>\n",
       "      <td>2013.09.05</td>\n",
       "      <td>99,999+</td>\n",
       "      <td>스토리, 판타지</td>\n",
       "      <td>전체연령가</td>\n",
       "      <td>스크롤</td>\n",
       "      <td>이유도 모른 채 현실이 게임처럼 뒤바뀐다면 어떻게 될까?\\n레벨이 오르고, 스테이터...</td>\n",
       "      <td>https://shared-comic.pstatic.net/thumb/webtoon...</td>\n",
       "    </tr>\n",
       "    <tr>\n",
       "      <th>361</th>\n",
       "      <td>685460</td>\n",
       "      <td>골든 체인지</td>\n",
       "      <td>브림스</td>\n",
       "      <td>fri</td>\n",
       "      <td>2016.10.06</td>\n",
       "      <td>99,999+</td>\n",
       "      <td>스토리, 판타지</td>\n",
       "      <td>전체연령가</td>\n",
       "      <td>스크롤</td>\n",
       "      <td>세상에서 가장 불운한 소녀 강유와 소녀의 불운을 막아주는 수상한 산신령 우암이 펼치...</td>\n",
       "      <td>https://shared-comic.pstatic.net/thumb/webtoon...</td>\n",
       "    </tr>\n",
       "    <tr>\n",
       "      <th>376</th>\n",
       "      <td>524520</td>\n",
       "      <td>트럼프</td>\n",
       "      <td>이채은</td>\n",
       "      <td>fri</td>\n",
       "      <td>2012.12.28</td>\n",
       "      <td>99,999+</td>\n",
       "      <td>스토리, 판타지</td>\n",
       "      <td>전체연령가</td>\n",
       "      <td>스크롤</td>\n",
       "      <td>사형 위기에 직면한 수배범 아버지와 세상 누구보다 존경하는 단장님 사이,\\n소년의 ...</td>\n",
       "      <td>https://shared-comic.pstatic.net/thumb/webtoon...</td>\n",
       "    </tr>\n",
       "    <tr>\n",
       "      <th>393</th>\n",
       "      <td>650305</td>\n",
       "      <td>호랑이형님</td>\n",
       "      <td>이상규</td>\n",
       "      <td>sat</td>\n",
       "      <td>2015.03.20</td>\n",
       "      <td>99,999+</td>\n",
       "      <td>스토리, 판타지</td>\n",
       "      <td>15세 이용가</td>\n",
       "      <td>스크롤</td>\n",
       "      <td>신비한 힘을 가진 아이를 이용하여 세상을 지배하려는 반인반수 흰눈썹!\\n\\n그리고 ...</td>\n",
       "      <td>https://shared-comic.pstatic.net/thumb/webtoon...</td>\n",
       "    </tr>\n",
       "    <tr>\n",
       "      <th>395</th>\n",
       "      <td>727188</td>\n",
       "      <td>취사병 전설이 되다</td>\n",
       "      <td>제이로빈 / 이진수</td>\n",
       "      <td>sat</td>\n",
       "      <td>2019.04.19</td>\n",
       "      <td>99,999+</td>\n",
       "      <td>스토리, 판타지</td>\n",
       "      <td>전체연령가</td>\n",
       "      <td>스크롤</td>\n",
       "      <td>대한민국 대표 흙수저, 강성재.\\n불안하기만 한 군생활에 한줄기 빛처럼 다가온 전설...</td>\n",
       "      <td>https://shared-comic.pstatic.net/thumb/webtoon...</td>\n",
       "    </tr>\n",
       "    <tr>\n",
       "      <th>396</th>\n",
       "      <td>597447</td>\n",
       "      <td>프리드로우</td>\n",
       "      <td>전선욱</td>\n",
       "      <td>sat</td>\n",
       "      <td>2013.11.01</td>\n",
       "      <td>99,999+</td>\n",
       "      <td>스토리, 드라마</td>\n",
       "      <td>15세 이용가</td>\n",
       "      <td>스크롤</td>\n",
       "      <td>한태성을 중심으로 벌어지는\\n\\n다양한 청춘들의 스펙타클한 학원 시트콤 드라마</td>\n",
       "      <td>https://shared-comic.pstatic.net/thumb/webtoon...</td>\n",
       "    </tr>\n",
       "    <tr>\n",
       "      <th>399</th>\n",
       "      <td>721948</td>\n",
       "      <td>스터디그룹</td>\n",
       "      <td>신형욱 / 유승연</td>\n",
       "      <td>sat</td>\n",
       "      <td>2019.01.04</td>\n",
       "      <td>99,999+</td>\n",
       "      <td>스토리, 액션</td>\n",
       "      <td>15세 이용가</td>\n",
       "      <td>스크롤</td>\n",
       "      <td>우등생을 꿈꾸는 최강 소년의 고교액션활극.\\n공부를 잘 하고 싶지만 애석하게도 싸움...</td>\n",
       "      <td>https://shared-comic.pstatic.net/thumb/webtoon...</td>\n",
       "    </tr>\n",
       "    <tr>\n",
       "      <th>400</th>\n",
       "      <td>724815</td>\n",
       "      <td>아홉수 우리들</td>\n",
       "      <td>수박양</td>\n",
       "      <td>sat</td>\n",
       "      <td>2019.03.01</td>\n",
       "      <td>99,999+</td>\n",
       "      <td>스토리, 로맨스</td>\n",
       "      <td>전체연령가</td>\n",
       "      <td>스크롤</td>\n",
       "      <td>연애, 직장, 시험 어느 하나 뜻대로 되지 않는 29살 봉우리, 차우리, 김우리.\\...</td>\n",
       "      <td>https://shared-comic.pstatic.net/thumb/webtoon...</td>\n",
       "    </tr>\n",
       "    <tr>\n",
       "      <th>401</th>\n",
       "      <td>730694</td>\n",
       "      <td>초인의 시대</td>\n",
       "      <td>섭이</td>\n",
       "      <td>sat</td>\n",
       "      <td>2019.07.12</td>\n",
       "      <td>99,999+</td>\n",
       "      <td>스토리, 액션</td>\n",
       "      <td>15세 이용가</td>\n",
       "      <td>스크롤</td>\n",
       "      <td>지구에 근원 모를 괴물들이 출현하고\\n그들을 제압하는 '초인'들 또한 등장한다.\\n...</td>\n",
       "      <td>https://shared-comic.pstatic.net/thumb/webtoon...</td>\n",
       "    </tr>\n",
       "    <tr>\n",
       "      <th>402</th>\n",
       "      <td>64997</td>\n",
       "      <td>나이트런</td>\n",
       "      <td>김성민</td>\n",
       "      <td>sat</td>\n",
       "      <td>2009.04.21</td>\n",
       "      <td>99,999+</td>\n",
       "      <td>스토리, 판타지</td>\n",
       "      <td>15세 이용가</td>\n",
       "      <td>스크롤</td>\n",
       "      <td>우주력 430년. 성간이동이 가능해져 별과 별을 이동하는 시대\\n인간은 괴수와 싸우...</td>\n",
       "      <td>https://shared-comic.pstatic.net/thumb/webtoon...</td>\n",
       "    </tr>\n",
       "    <tr>\n",
       "      <th>424</th>\n",
       "      <td>703839</td>\n",
       "      <td>홍시는 날 좋아해!</td>\n",
       "      <td>강하다 / 웃는해</td>\n",
       "      <td>sat</td>\n",
       "      <td>2017.12.08</td>\n",
       "      <td>99,999+</td>\n",
       "      <td>에피소드, 로맨스</td>\n",
       "      <td>전체연령가</td>\n",
       "      <td>스크롤</td>\n",
       "      <td>스무 살 고3 홍시호가 전학 왔어요! 방긋방긋 웃는 모습 뒤에는 어떤 비밀이...?...</td>\n",
       "      <td>https://shared-comic.pstatic.net/thumb/webtoon...</td>\n",
       "    </tr>\n",
       "    <tr>\n",
       "      <th>429</th>\n",
       "      <td>750582</td>\n",
       "      <td>광해의 연인</td>\n",
       "      <td>러시 / 유오디아</td>\n",
       "      <td>sat</td>\n",
       "      <td>2020.07.17</td>\n",
       "      <td>99,999+</td>\n",
       "      <td>스토리, 로맨스</td>\n",
       "      <td>15세 이용가</td>\n",
       "      <td>스크롤</td>\n",
       "      <td>“내가 그랬지, 널 기억하겠다고.”\\n2020년 대한민국. 집안 대대로 시간 여행자...</td>\n",
       "      <td>https://shared-comic.pstatic.net/thumb/webtoon...</td>\n",
       "    </tr>\n",
       "    <tr>\n",
       "      <th>450</th>\n",
       "      <td>746834</td>\n",
       "      <td>청춘 블라썸</td>\n",
       "      <td>홍덕 / NEMONE</td>\n",
       "      <td>sat</td>\n",
       "      <td>2020.06.26</td>\n",
       "      <td>99,999+</td>\n",
       "      <td>옴니버스, 로맨스</td>\n",
       "      <td>전체연령가</td>\n",
       "      <td>스크롤</td>\n",
       "      <td>“푸르지 않아도 괜찮아!”\\n이제 막 청춘을 시작하고 있는 아이들.\\n그리고 마냥 ...</td>\n",
       "      <td>https://shared-comic.pstatic.net/thumb/webtoon...</td>\n",
       "    </tr>\n",
       "    <tr>\n",
       "      <th>472</th>\n",
       "      <td>736277</td>\n",
       "      <td>싸움독학</td>\n",
       "      <td>박태준 만화회사 / 김정현 스튜디오</td>\n",
       "      <td>sun</td>\n",
       "      <td>2019.11.16</td>\n",
       "      <td>99,999+</td>\n",
       "      <td>스토리, 액션</td>\n",
       "      <td>15세 이용가</td>\n",
       "      <td>스크롤</td>\n",
       "      <td>힘없고 가진거 하나 없이 맞고만 살던 나였는데...\\n우연히 비밀의 뉴튜브를 발견하...</td>\n",
       "      <td>https://shared-comic.pstatic.net/thumb/webtoon...</td>\n",
       "    </tr>\n",
       "    <tr>\n",
       "      <th>475</th>\n",
       "      <td>710751</td>\n",
       "      <td>약한영웅</td>\n",
       "      <td>서패스 / 김진석</td>\n",
       "      <td>sun</td>\n",
       "      <td>2018.05.05</td>\n",
       "      <td>99,999+</td>\n",
       "      <td>에피소드, 액션</td>\n",
       "      <td>15세 이용가</td>\n",
       "      <td>스크롤</td>\n",
       "      <td>“비겁하다…? 애초에 동등한 시작이 아닌데...\\n체급도 쪽수도 안 맞잖아- 이 X...</td>\n",
       "      <td>https://shared-comic.pstatic.net/thumb/webtoon...</td>\n",
       "    </tr>\n",
       "    <tr>\n",
       "      <th>476</th>\n",
       "      <td>746858</td>\n",
       "      <td>이번 생도 잘 부탁해</td>\n",
       "      <td>이혜</td>\n",
       "      <td>sun</td>\n",
       "      <td>2020.06.06</td>\n",
       "      <td>99,999+</td>\n",
       "      <td>스토리, 로맨스</td>\n",
       "      <td>전체연령가</td>\n",
       "      <td>스크롤</td>\n",
       "      <td>전생을 기억하는 삶은 어떨까? 매번 전생을 기억하는 무료한 삶을 살던 18회차 인생...</td>\n",
       "      <td>https://shared-comic.pstatic.net/thumb/webtoon...</td>\n",
       "    </tr>\n",
       "    <tr>\n",
       "      <th>483</th>\n",
       "      <td>743838</td>\n",
       "      <td>소녀재판</td>\n",
       "      <td>루즌아 / 보로콤</td>\n",
       "      <td>sun</td>\n",
       "      <td>2020.04.04</td>\n",
       "      <td>99,999+</td>\n",
       "      <td>스토리, 드라마</td>\n",
       "      <td>15세 이용가</td>\n",
       "      <td>스크롤</td>\n",
       "      <td>학교에서 아무것도 아니었던 소녀의 예측불허 재판이 시작된다!\\n평범한 박가을은 소위...</td>\n",
       "      <td>https://shared-comic.pstatic.net/thumb/webtoon...</td>\n",
       "    </tr>\n",
       "    <tr>\n",
       "      <th>486</th>\n",
       "      <td>695796</td>\n",
       "      <td>내일</td>\n",
       "      <td>라마</td>\n",
       "      <td>sun</td>\n",
       "      <td>2017.05.20</td>\n",
       "      <td>99,999+</td>\n",
       "      <td>옴니버스, 드라마</td>\n",
       "      <td>전체연령가</td>\n",
       "      <td>스크롤</td>\n",
       "      <td>다 되는데 취업만은 안되는 취준생 최준웅(27세,남)\\n우연한 사고로 저승독점기업 ...</td>\n",
       "      <td>https://shared-comic.pstatic.net/thumb/webtoon...</td>\n",
       "    </tr>\n",
       "    <tr>\n",
       "      <th>488</th>\n",
       "      <td>730657</td>\n",
       "      <td>오로지 너를 이기고 싶어</td>\n",
       "      <td>아마도지 / 사삭</td>\n",
       "      <td>sun</td>\n",
       "      <td>2019.07.06</td>\n",
       "      <td>99,999+</td>\n",
       "      <td>에피소드, 로맨스</td>\n",
       "      <td>전체연령가</td>\n",
       "      <td>스크롤</td>\n",
       "      <td>태어나서 단 한번도 패배해본 적 없는 남주 '이기고'\\n그런 이기고를 처음으로 패배...</td>\n",
       "      <td>https://shared-comic.pstatic.net/thumb/webtoon...</td>\n",
       "    </tr>\n",
       "    <tr>\n",
       "      <th>494</th>\n",
       "      <td>655746</td>\n",
       "      <td>마법스크롤 상인 지오</td>\n",
       "      <td>엄재경 / 호패</td>\n",
       "      <td>sun</td>\n",
       "      <td>2015.06.06</td>\n",
       "      <td>99,999+</td>\n",
       "      <td>스토리, 판타지</td>\n",
       "      <td>12세 이용가</td>\n",
       "      <td>스크롤</td>\n",
       "      <td>마법사인 듯, 마법사 아닌\\n마법사 같은 너! 오지오!</td>\n",
       "      <td>https://shared-comic.pstatic.net/thumb/webtoon...</td>\n",
       "    </tr>\n",
       "  </tbody>\n",
       "</table>\n",
       "</div>"
      ],
      "text/plain": [
       "         ID           Title               Author      Day  First Date  \\\n",
       "1    183559            신의 탑                  SIU      mon  2010.06.30   \n",
       "2    648419         뷰티풀 군바리             설이 / 윤성원      mon  2015.02.15   \n",
       "4    602910          윈드브레이커                  조용석      mon  2013.12.08   \n",
       "7    654774          소녀의 세계                  모랑지      mon  2015.05.17   \n",
       "8    733074            백수세끼                   치즈      mon  2019.09.01   \n",
       "29   687915           꿈의 기업                  문지현      mon  2016.11.13   \n",
       "33   730174          칼가는 소녀                   오리      mon  2019.06.30   \n",
       "81   703846            여신강림                  야옹이      tue  2018.04.02   \n",
       "87   738174  중증외상센터 : 골든 아워          홍비치라 / 한산이가      tue  2019.12.16   \n",
       "89   711422            삼국지톡            무적핑크 / 이리  tue,fri  2018.05.10   \n",
       "92   721433           집이 없어                   와난      tue  2018.12.31   \n",
       "93   702608       랜덤채팅의 그녀!                  박은혁      tue  2017.11.13   \n",
       "99   698918        원주민 공포만화                  원주민      tue  2017.07.24   \n",
       "100  400739             에이머                  구동인      tue  2011.11.01   \n",
       "101  616239           윌유메리미                 마인드C  tue,sat  2014.03.03   \n",
       "110  740034          견우와 선녀                  안수민      tue  2020.02.03   \n",
       "114  741449  용왕님의 셰프가 되었습니다        옥 / 카라쿨 / 문백경      tue  2020.02.24   \n",
       "117  654138      은주의 방 2~3부                 노란구미      tue  2015.05.22   \n",
       "118  676695            제로게임                  즐바센      tue  2016.04.04   \n",
       "163  747269       전지적 독자 시점     UMI / 슬리피-C / 싱숑      wed  2020.05.26   \n",
       "165  670143     헬퍼 2 : 킬베로스                    삭      wed  2016.01.12   \n",
       "167  749639  남주의 첫날밤을 가져버렸다       티바 / MSG / 황도톨      wed  2020.07.07   \n",
       "169  717481            일렉시드             손제호 / 제나      wed  2018.10.02   \n",
       "175  667573              연놈                   상하      wed  2015.12.08   \n",
       "180  710747       세상은 돈과 권력            한동우 / 이도희      wed  2018.05.01   \n",
       "191  671421       언덕 위의 제임스                  쿠당탕      wed  2016.01.19   \n",
       "192  725829            아도나이                  주동근      wed  2019.03.19   \n",
       "240  748105            독립일기                   자까  thu,sun  2020.06.13   \n",
       "242  570503            연애혁명                  232      thu  2013.09.04   \n",
       "254  131385             쿠베라                  카레곰      thu  2010.02.07   \n",
       "257  710761            하드캐리                   조양      thu  2018.05.16   \n",
       "259  570506        최강전설 강해효                  최병열      thu  2013.07.10   \n",
       "264  701700            트롤트랩                   유비      thu  2017.10.11   \n",
       "307  729086        이계 무슨 황비            전현서 / GUA      thu  2019.05.29   \n",
       "322  641253          외모지상주의                  박태준      fri  2014.11.20   \n",
       "324  318995       갓 오브 하이스쿨                  박용제      fri  2011.04.08   \n",
       "329  725586              1초              시니 / 광운      fri  2019.03.14   \n",
       "330  712362          개를 낳았다                   이선      fri  2018.06.07   \n",
       "331  735661           재혼 황후     히어리 / 숨풀 / 알파타르트      fri  2019.10.24   \n",
       "343  748534     구남친이 내게 반했다             희똑 / 강하다      fri  2020.06.25   \n",
       "356  552960           더 게이머             성상영 / 상아      fri  2013.09.05   \n",
       "361  685460          골든 체인지                  브림스      fri  2016.10.06   \n",
       "376  524520             트럼프                  이채은      fri  2012.12.28   \n",
       "393  650305           호랑이형님                  이상규      sat  2015.03.20   \n",
       "395  727188      취사병 전설이 되다           제이로빈 / 이진수      sat  2019.04.19   \n",
       "396  597447           프리드로우                  전선욱      sat  2013.11.01   \n",
       "399  721948           스터디그룹            신형욱 / 유승연      sat  2019.01.04   \n",
       "400  724815         아홉수 우리들                  수박양      sat  2019.03.01   \n",
       "401  730694          초인의 시대                   섭이      sat  2019.07.12   \n",
       "402   64997            나이트런                  김성민      sat  2009.04.21   \n",
       "424  703839      홍시는 날 좋아해!            강하다 / 웃는해      sat  2017.12.08   \n",
       "429  750582          광해의 연인            러시 / 유오디아      sat  2020.07.17   \n",
       "450  746834          청춘 블라썸          홍덕 / NEMONE      sat  2020.06.26   \n",
       "472  736277            싸움독학  박태준 만화회사 / 김정현 스튜디오      sun  2019.11.16   \n",
       "475  710751            약한영웅            서패스 / 김진석      sun  2018.05.05   \n",
       "476  746858     이번 생도 잘 부탁해                   이혜      sun  2020.06.06   \n",
       "483  743838            소녀재판            루즌아 / 보로콤      sun  2020.04.04   \n",
       "486  695796              내일                   라마      sun  2017.05.20   \n",
       "488  730657   오로지 너를 이기고 싶어            아마도지 / 사삭      sun  2019.07.06   \n",
       "494  655746     마법스크롤 상인 지오             엄재경 / 호패      sun  2015.06.06   \n",
       "\n",
       "    Web Like        Genre      Age Form  \\\n",
       "1    99,999+     스토리, 판타지  12세 이용가  스크롤   \n",
       "2    99,999+     스토리, 드라마  15세 이용가  스크롤   \n",
       "4    99,999+     스토리, 스포츠  12세 이용가  스크롤   \n",
       "7    99,999+     스토리, 드라마    전체연령가  스크롤   \n",
       "8    99,999+     스토리, 드라마    전체연령가  스크롤   \n",
       "29   99,999+     스토리, 스릴러  12세 이용가  스크롤   \n",
       "33   99,999+    에피소드, 드라마  12세 이용가  스크롤   \n",
       "81   99,999+     스토리, 로맨스  12세 이용가  스크롤   \n",
       "87   99,999+     스토리, 드라마  15세 이용가  스크롤   \n",
       "89   99,999+  에피소드, 무협/사극  12세 이용가   컷툰   \n",
       "92   99,999+     스토리, 드라마    전체연령가  스크롤   \n",
       "93   99,999+     스토리, 드라마  15세 이용가  스크롤   \n",
       "99   99,999+     스토리, 스릴러  15세 이용가  스크롤   \n",
       "100  99,999+     스토리, 판타지    전체연령가  스크롤   \n",
       "101  99,999+     에피소드, 일상    전체연령가  스크롤   \n",
       "110  99,999+     스토리, 드라마    전체연령가  스크롤   \n",
       "114  99,999+     스토리, 판타지    전체연령가  스크롤   \n",
       "117  99,999+     스토리, 드라마    전체연령가  스크롤   \n",
       "118  99,999+     스토리, 판타지  12세 이용가  스크롤   \n",
       "163  99,999+     스토리, 판타지  15세 이용가  스크롤   \n",
       "165  99,999+      스토리, 액션  18세 이용가  스크롤   \n",
       "167  99,999+     스토리, 로맨스  15세 이용가  스크롤   \n",
       "169  99,999+      스토리, 액션  12세 이용가  스크롤   \n",
       "175  99,999+     스토리, 드라마  12세 이용가  스크롤   \n",
       "180  99,999+    에피소드, 드라마  15세 이용가  스크롤   \n",
       "191  99,999+     에피소드, 개그    전체연령가  스크롤   \n",
       "192  99,999+     스토리, 스릴러  15세 이용가  스크롤   \n",
       "240  99,999+     에피소드, 일상    전체연령가   컷툰   \n",
       "242  99,999+     스토리, 드라마  15세 이용가  스크롤   \n",
       "254  99,999+     스토리, 판타지    전체연령가  스크롤   \n",
       "257  99,999+     스토리, 드라마    전체연령가  스크롤   \n",
       "259  99,999+      스토리, 액션  15세 이용가  스크롤   \n",
       "264  99,999+     스토리, 판타지  12세 이용가  스크롤   \n",
       "307  99,999+     스토리, 로맨스  12세 이용가  스크롤   \n",
       "322  99,999+     스토리, 드라마  15세 이용가  스크롤   \n",
       "324  99,999+     스토리, 판타지  12세 이용가  스크롤   \n",
       "329  99,999+     스토리, 드라마    전체연령가  스크롤   \n",
       "330  99,999+     스토리, 드라마    전체연령가  스크롤   \n",
       "331  99,999+     스토리, 로맨스  15세 이용가  스크롤   \n",
       "343  99,999+     스토리, 로맨스    전체연령가  스크롤   \n",
       "356  99,999+     스토리, 판타지    전체연령가  스크롤   \n",
       "361  99,999+     스토리, 판타지    전체연령가  스크롤   \n",
       "376  99,999+     스토리, 판타지    전체연령가  스크롤   \n",
       "393  99,999+     스토리, 판타지  15세 이용가  스크롤   \n",
       "395  99,999+     스토리, 판타지    전체연령가  스크롤   \n",
       "396  99,999+     스토리, 드라마  15세 이용가  스크롤   \n",
       "399  99,999+      스토리, 액션  15세 이용가  스크롤   \n",
       "400  99,999+     스토리, 로맨스    전체연령가  스크롤   \n",
       "401  99,999+      스토리, 액션  15세 이용가  스크롤   \n",
       "402  99,999+     스토리, 판타지  15세 이용가  스크롤   \n",
       "424  99,999+    에피소드, 로맨스    전체연령가  스크롤   \n",
       "429  99,999+     스토리, 로맨스  15세 이용가  스크롤   \n",
       "450  99,999+    옴니버스, 로맨스    전체연령가  스크롤   \n",
       "472  99,999+      스토리, 액션  15세 이용가  스크롤   \n",
       "475  99,999+     에피소드, 액션  15세 이용가  스크롤   \n",
       "476  99,999+     스토리, 로맨스    전체연령가  스크롤   \n",
       "483  99,999+     스토리, 드라마  15세 이용가  스크롤   \n",
       "486  99,999+    옴니버스, 드라마    전체연령가  스크롤   \n",
       "488  99,999+    에피소드, 로맨스    전체연령가  스크롤   \n",
       "494  99,999+     스토리, 판타지  12세 이용가  스크롤   \n",
       "\n",
       "                                               Content  \\\n",
       "1      자신의 모든 것이었던 소녀를 쫓아 탑에 들어온 소년\\n그리고 그런 소년을 시험하는 탑   \n",
       "2                       '여자도 군대에 간다면?'본격 여자도 군대 가는 만화!   \n",
       "4    혼자서 자전거를 즐겨타던 모범생 조자현.\\n원치 않게 자전거 크루의 일에 자꾸 휘말...   \n",
       "7    완벽해 보이지만 사실 외로웠던 백조들과 맘씨 착한 오리가 만나\\n여러 갈등을 함께 ...   \n",
       "8    백수 시절 내 곁을 지켜줬던 그녀... 돌아와 주면 안 되겠니?\\n음식 메뉴마다 담...   \n",
       "29   문명을 지배하는 거대기업과 거대기업을 움직이는 인공지능. 그 인공지능이 꿈을 꾸기 ...   \n",
       "33   치사율 100%의 인싸 희귀병 소녀 '사랑'\\n누구보다 차분하고 두려움 없는 같은 ...   \n",
       "81   네웹 대표 글로벌 인기작! 주경, 수호, 서준. 세 청춘의 두근두근 눈호강 로맨스~...   \n",
       "87   살 수 있는 환자들이 죽어 가고 있다. 이제 더는 그런 일이 없도록 하겠다.\\n사명...   \n",
       "89   \"유비, 조조, 손권 등 영웅들이 활약하던 후한, 그 난세에 핸드폰이 있었다면?\\n...   \n",
       "92   집을 버리고 뛰쳐나간 고해준, 집 없이 텐트 생활하는 문제아 백은영.\\n악연으로 만...   \n",
       "93   랜덤채팅만 하던 준우에게 온 기적!\\n과연 그녀(들)에게 다가갈수 있을까?!\\n(읽...   \n",
       "99   끝날 때까지 끝난 것이 아니다!\\n마지막까지 방심할 수 없는 다양한 에피소드.\\n당...   \n",
       "100  작은 우연은 역사를 만든다.\\n지구를 침공한 이성인 팜킨 일당과, 그들을 막아선 초...   \n",
       "101  외모는 상남자, 마음은 감성소녀 윌.외모는 청순녀, 마음은 터프가이 메리!\\n서울 ...   \n",
       "110  죽음이 가까워진 사람들은 '거꾸로' 걸어들어 온다\\n그리고 그게 하필 내 이상형이라니!?   \n",
       "114  인당수에 몸을 던진 심청! 귀차니즘 드래곤의 던전에서 깨어나다?\\n사연 많은 귀염뽀...   \n",
       "117  인테리어, 그것은 삶을 바꿔주는 마법이다!\\n반복되는 야근과 업무 스트레스로 회사를...   \n",
       "118      죽음을 선택한 사람들의 인생 재건설 서바이벌!\\n2015 대학만화 최강자전 수상작   \n",
       "163  '이건 내가 아는 그 전개다'\\n한순간에 세계가 멸망하고, 새로운 세상이 펼쳐졌다....   \n",
       "165     역시는 역시 역시군.\\n킬베로스 트라이브의 대장 장광남이 펼치는 스트릿 액션 만화.   \n",
       "167  소설 속 엑스트라인 백작 영애 리플리로 빙의 된 여주인공.\\n이왕 이렇게 된 거 전...   \n",
       "169  <노블레스> 손제호 작가와 <소녀더와일즈> 제나 작가가 만났다!\\n고양이 몸에 깃든...   \n",
       "175  중2 여름, 가지 말라는 말도 좋아했다는 말도 하지 못한 채 보낸 그녀가 3년 만에...   \n",
       "180  재벌 3세가 일반 고등학교에 들어오면서, 선생들과 학생들은 거대 자본에 굴복해 권력...   \n",
       "191          제임스들이 펼치는 코믹 막장 에피소드!\\n지금 전세계의 제임스들이 몰려온다   \n",
       "192  경신일보 유미건 기자는 어느 날 의문의 제보 메일을 받게 된다. 그녀는 알 수 없는...   \n",
       "240               처음으로 나만의 집이 생긴다면?\\n자까 작가의 나혼자 사는 이야기   \n",
       "242  평범하면서 금사빠인 고등학생 순정남 공주영은\\n까칠하고 차가운 여학생 왕자림을 보고...   \n",
       "254  신의 이름을 가진 소녀 쿠베라 리즈. 15세 생일에 외출에서 돌아오다가 초토화되어버...   \n",
       "257  성격은 소심하지만 게임 실력 하나는 천상계 최고인 '도윤'과\\n공부, 인성, 외모,...   \n",
       "259  맹수같이 거친 문제아 학생들만 모여있는 최강고등학교!!\\n\\n그곳에서 변화가 시작되었다.   \n",
       "264  트롤을 잡아, 인류를 지켜라!\\n정체불명 헌터 하태와 알바헌터 지현의 통쾌한 판타지 액션   \n",
       "307  \"안녕하세요, 고객님. 상담원 진예롬입니다. 네? 이세계에서 전화 주셨다구요?\"\\n...   \n",
       "322  못생기고 뚱뚱하다고 괴롭힘을 당하며 루저 인생만 살아온 내가 잘생겨졌다는 이유로 인...   \n",
       "324  전국, 전세계 고등학생 중 가장 쎈 녀석을 뽑는 대회가 열린다.\\n허구 100% 막...   \n",
       "329  구조율 100%의 전설적인 소방관.\\n그의 특별한 능력은 긴장하는 순간, 미래가 보...   \n",
       "330  사랑스러운 너와의 첫 만남부터 이별까지.\\n처음으로 반려견을 키우게 된 다나와 모든...   \n",
       "331  동대제국의 완벽한 황후였던 나비에.\\n황제인 남편이 정부를 황후로 만들려는 것을 알...   \n",
       "343  10년을 잊지 못한 첫사랑 구남친과 원수 같은 구남친을 한 오피스에서 만나버렸다.\\...   \n",
       "356  이유도 모른 채 현실이 게임처럼 뒤바뀐다면 어떻게 될까?\\n레벨이 오르고, 스테이터...   \n",
       "361  세상에서 가장 불운한 소녀 강유와 소녀의 불운을 막아주는 수상한 산신령 우암이 펼치...   \n",
       "376  사형 위기에 직면한 수배범 아버지와 세상 누구보다 존경하는 단장님 사이,\\n소년의 ...   \n",
       "393  신비한 힘을 가진 아이를 이용하여 세상을 지배하려는 반인반수 흰눈썹!\\n\\n그리고 ...   \n",
       "395  대한민국 대표 흙수저, 강성재.\\n불안하기만 한 군생활에 한줄기 빛처럼 다가온 전설...   \n",
       "396        한태성을 중심으로 벌어지는\\n\\n다양한 청춘들의 스펙타클한 학원 시트콤 드라마   \n",
       "399  우등생을 꿈꾸는 최강 소년의 고교액션활극.\\n공부를 잘 하고 싶지만 애석하게도 싸움...   \n",
       "400  연애, 직장, 시험 어느 하나 뜻대로 되지 않는 29살 봉우리, 차우리, 김우리.\\...   \n",
       "401  지구에 근원 모를 괴물들이 출현하고\\n그들을 제압하는 '초인'들 또한 등장한다.\\n...   \n",
       "402  우주력 430년. 성간이동이 가능해져 별과 별을 이동하는 시대\\n인간은 괴수와 싸우...   \n",
       "424  스무 살 고3 홍시호가 전학 왔어요! 방긋방긋 웃는 모습 뒤에는 어떤 비밀이...?...   \n",
       "429  “내가 그랬지, 널 기억하겠다고.”\\n2020년 대한민국. 집안 대대로 시간 여행자...   \n",
       "450  “푸르지 않아도 괜찮아!”\\n이제 막 청춘을 시작하고 있는 아이들.\\n그리고 마냥 ...   \n",
       "472  힘없고 가진거 하나 없이 맞고만 살던 나였는데...\\n우연히 비밀의 뉴튜브를 발견하...   \n",
       "475  “비겁하다…? 애초에 동등한 시작이 아닌데...\\n체급도 쪽수도 안 맞잖아- 이 X...   \n",
       "476  전생을 기억하는 삶은 어떨까? 매번 전생을 기억하는 무료한 삶을 살던 18회차 인생...   \n",
       "483  학교에서 아무것도 아니었던 소녀의 예측불허 재판이 시작된다!\\n평범한 박가을은 소위...   \n",
       "486  다 되는데 취업만은 안되는 취준생 최준웅(27세,남)\\n우연한 사고로 저승독점기업 ...   \n",
       "488  태어나서 단 한번도 패배해본 적 없는 남주 '이기고'\\n그런 이기고를 처음으로 패배...   \n",
       "494                     마법사인 듯, 마법사 아닌\\n마법사 같은 너! 오지오!   \n",
       "\n",
       "                                                Imgsrc  \n",
       "1    https://shared-comic.pstatic.net/thumb/webtoon...  \n",
       "2    https://shared-comic.pstatic.net/thumb/webtoon...  \n",
       "4    https://shared-comic.pstatic.net/thumb/webtoon...  \n",
       "7    https://shared-comic.pstatic.net/thumb/webtoon...  \n",
       "8    https://shared-comic.pstatic.net/thumb/webtoon...  \n",
       "29   https://shared-comic.pstatic.net/thumb/webtoon...  \n",
       "33   https://shared-comic.pstatic.net/thumb/webtoon...  \n",
       "81   https://shared-comic.pstatic.net/thumb/webtoon...  \n",
       "87   https://shared-comic.pstatic.net/thumb/webtoon...  \n",
       "89   https://shared-comic.pstatic.net/thumb/webtoon...  \n",
       "92   https://shared-comic.pstatic.net/thumb/webtoon...  \n",
       "93   https://shared-comic.pstatic.net/thumb/webtoon...  \n",
       "99   https://shared-comic.pstatic.net/thumb/webtoon...  \n",
       "100  https://shared-comic.pstatic.net/thumb/webtoon...  \n",
       "101  https://shared-comic.pstatic.net/thumb/webtoon...  \n",
       "110  https://shared-comic.pstatic.net/thumb/webtoon...  \n",
       "114  https://shared-comic.pstatic.net/thumb/webtoon...  \n",
       "117  https://shared-comic.pstatic.net/thumb/webtoon...  \n",
       "118  https://shared-comic.pstatic.net/thumb/webtoon...  \n",
       "163  https://shared-comic.pstatic.net/thumb/webtoon...  \n",
       "165  https://shared-comic.pstatic.net/thumb/webtoon...  \n",
       "167  https://shared-comic.pstatic.net/thumb/webtoon...  \n",
       "169  https://shared-comic.pstatic.net/thumb/webtoon...  \n",
       "175  https://shared-comic.pstatic.net/thumb/webtoon...  \n",
       "180  https://shared-comic.pstatic.net/thumb/webtoon...  \n",
       "191  https://shared-comic.pstatic.net/thumb/webtoon...  \n",
       "192  https://shared-comic.pstatic.net/thumb/webtoon...  \n",
       "240  https://shared-comic.pstatic.net/thumb/webtoon...  \n",
       "242  https://shared-comic.pstatic.net/thumb/webtoon...  \n",
       "254  https://shared-comic.pstatic.net/thumb/webtoon...  \n",
       "257  https://shared-comic.pstatic.net/thumb/webtoon...  \n",
       "259  https://shared-comic.pstatic.net/thumb/webtoon...  \n",
       "264  https://shared-comic.pstatic.net/thumb/webtoon...  \n",
       "307  https://shared-comic.pstatic.net/thumb/webtoon...  \n",
       "322  https://shared-comic.pstatic.net/thumb/webtoon...  \n",
       "324  https://shared-comic.pstatic.net/thumb/webtoon...  \n",
       "329  https://shared-comic.pstatic.net/thumb/webtoon...  \n",
       "330  https://shared-comic.pstatic.net/thumb/webtoon...  \n",
       "331  https://shared-comic.pstatic.net/thumb/webtoon...  \n",
       "343  https://shared-comic.pstatic.net/thumb/webtoon...  \n",
       "356  https://shared-comic.pstatic.net/thumb/webtoon...  \n",
       "361  https://shared-comic.pstatic.net/thumb/webtoon...  \n",
       "376  https://shared-comic.pstatic.net/thumb/webtoon...  \n",
       "393  https://shared-comic.pstatic.net/thumb/webtoon...  \n",
       "395  https://shared-comic.pstatic.net/thumb/webtoon...  \n",
       "396  https://shared-comic.pstatic.net/thumb/webtoon...  \n",
       "399  https://shared-comic.pstatic.net/thumb/webtoon...  \n",
       "400  https://shared-comic.pstatic.net/thumb/webtoon...  \n",
       "401  https://shared-comic.pstatic.net/thumb/webtoon...  \n",
       "402  https://shared-comic.pstatic.net/thumb/webtoon...  \n",
       "424  https://shared-comic.pstatic.net/thumb/webtoon...  \n",
       "429  https://shared-comic.pstatic.net/thumb/webtoon...  \n",
       "450  https://shared-comic.pstatic.net/thumb/webtoon...  \n",
       "472  https://shared-comic.pstatic.net/thumb/webtoon...  \n",
       "475  https://shared-comic.pstatic.net/thumb/webtoon...  \n",
       "476  https://shared-comic.pstatic.net/thumb/webtoon...  \n",
       "483  https://shared-comic.pstatic.net/thumb/webtoon...  \n",
       "486  https://shared-comic.pstatic.net/thumb/webtoon...  \n",
       "488  https://shared-comic.pstatic.net/thumb/webtoon...  \n",
       "494  https://shared-comic.pstatic.net/thumb/webtoon...  "
      ]
     },
     "execution_count": 7,
     "metadata": {},
     "output_type": "execute_result"
    }
   ],
   "source": [
    "# If Like is more than 99,999+, it is no more counted\n",
    "df1[df1['Web Like']=='99,999+']"
   ]
  },
  {
   "cell_type": "code",
   "execution_count": 8,
   "id": "28a0306c",
   "metadata": {},
   "outputs": [
    {
     "data": {
      "text/plain": [
       "60"
      ]
     },
     "execution_count": 8,
     "metadata": {},
     "output_type": "execute_result"
    }
   ],
   "source": [
    "# Visualize Like +99,999\n",
    "len(df1[df1['Web Like']=='99,999+'])"
   ]
  },
  {
   "cell_type": "markdown",
   "id": "bef909ea",
   "metadata": {},
   "source": [
    "# 3. Get Rating\n",
    "The star rating is out of 5 and float type.\\\n",
    "Here, rating is collected from the daily update page. And the rating datafram will be concated according to ID."
   ]
  },
  {
   "cell_type": "code",
   "execution_count": 9,
   "id": "2862c68f",
   "metadata": {},
   "outputs": [],
   "source": [
    "days = ['mon','tue','wed','thu','fri','sat','sun']"
   ]
  },
  {
   "cell_type": "code",
   "execution_count": 10,
   "id": "03844db9",
   "metadata": {},
   "outputs": [
    {
     "name": "stderr",
     "output_type": "stream",
     "text": [
      "100%|████████████████████████████████████████████████████████████████████████████████████| 7/7 [00:35<00:00,  5.03s/it]\n"
     ]
    }
   ],
   "source": [
    "idlist2 = [] # ID\n",
    "starlist = [] # Rating\n",
    "\n",
    "for day in tqdm(days):\n",
    "    daypage = 'https://comic.naver.com/webtoon/weekdayList?week='+day\n",
    "    driver.get(daypage)\n",
    "    time.sleep(0.5)\n",
    "    \n",
    "    stars = driver.find_elements(By.CLASS_NAME, 'rating_type')\n",
    "    ids = driver.find_elements(By.CLASS_NAME, 'img_list > li > dl > dt > a')\n",
    "    \n",
    "    for i in range(len(stars)):\n",
    "        idnum = re.findall('\\d+', ids[i].get_attribute('href'))\n",
    "        starnum = re.findall('\\d+.\\d+', stars[i].text)\n",
    "        \n",
    "        # Duplicate Processing\n",
    "        if (idnum[0] in idlist2):\n",
    "                pass\n",
    "            \n",
    "        else:\n",
    "            idlist2.append(idnum[0])\n",
    "            starlist.append(starnum[0])\n",
    "\n"
   ]
  },
  {
   "cell_type": "code",
   "execution_count": null,
   "id": "ac7f6ade",
   "metadata": {},
   "outputs": [
    {
     "data": {
      "text/html": [
       "<div>\n",
       "<style scoped>\n",
       "    .dataframe tbody tr th:only-of-type {\n",
       "        vertical-align: middle;\n",
       "    }\n",
       "\n",
       "    .dataframe tbody tr th {\n",
       "        vertical-align: top;\n",
       "    }\n",
       "\n",
       "    .dataframe thead th {\n",
       "        text-align: right;\n",
       "    }\n",
       "</style>\n",
       "<table border=\"1\" class=\"dataframe\">\n",
       "  <thead>\n",
       "    <tr style=\"text-align: right;\">\n",
       "      <th></th>\n",
       "      <th>ID</th>\n",
       "      <th>Star</th>\n",
       "    </tr>\n",
       "  </thead>\n",
       "  <tbody>\n",
       "    <tr>\n",
       "      <th>0</th>\n",
       "      <td>758037</td>\n",
       "      <td>9.86</td>\n",
       "    </tr>\n",
       "    <tr>\n",
       "      <th>1</th>\n",
       "      <td>183559</td>\n",
       "      <td>9.89</td>\n",
       "    </tr>\n",
       "    <tr>\n",
       "      <th>2</th>\n",
       "      <td>648419</td>\n",
       "      <td>9.80</td>\n",
       "    </tr>\n",
       "    <tr>\n",
       "      <th>3</th>\n",
       "      <td>783052</td>\n",
       "      <td>9.78</td>\n",
       "    </tr>\n",
       "    <tr>\n",
       "      <th>4</th>\n",
       "      <td>602910</td>\n",
       "      <td>9.84</td>\n",
       "    </tr>\n",
       "    <tr>\n",
       "      <th>...</th>\n",
       "      <td>...</td>\n",
       "      <td>...</td>\n",
       "    </tr>\n",
       "    <tr>\n",
       "      <th>543</th>\n",
       "      <td>773524</td>\n",
       "      <td>9.90</td>\n",
       "    </tr>\n",
       "    <tr>\n",
       "      <th>544</th>\n",
       "      <td>785812</td>\n",
       "      <td>9.92</td>\n",
       "    </tr>\n",
       "    <tr>\n",
       "      <th>545</th>\n",
       "      <td>779354</td>\n",
       "      <td>9.81</td>\n",
       "    </tr>\n",
       "    <tr>\n",
       "      <th>546</th>\n",
       "      <td>776096</td>\n",
       "      <td>9.80</td>\n",
       "    </tr>\n",
       "    <tr>\n",
       "      <th>547</th>\n",
       "      <td>786973</td>\n",
       "      <td>9.45</td>\n",
       "    </tr>\n",
       "  </tbody>\n",
       "</table>\n",
       "<p>548 rows × 2 columns</p>\n",
       "</div>"
      ],
      "text/plain": [
       "         ID  Star\n",
       "0    758037  9.86\n",
       "1    183559  9.89\n",
       "2    648419  9.80\n",
       "3    783052  9.78\n",
       "4    602910  9.84\n",
       "..      ...   ...\n",
       "543  773524  9.90\n",
       "544  785812  9.92\n",
       "545  779354  9.81\n",
       "546  776096  9.80\n",
       "547  786973  9.45\n",
       "\n",
       "[548 rows x 2 columns]"
      ]
     },
     "execution_count": 11,
     "metadata": {},
     "output_type": "execute_result"
    }
   ],
   "source": [
    "# Create and Visualize the dataframe\n",
    "cols = []\n",
    "df2 = pd.DataFrame(columns=cols)\n",
    "df2['ID'] = idlist2\n",
    "df2['Star'] = starlist\n",
    "df2"
   ]
  },
  {
   "cell_type": "markdown",
   "id": "ec89d4ca",
   "metadata": {},
   "source": [
    "# 4. Get Like from the mobile page\n",
    "Like show the interest, and act like cheering or book-mark.\\\n",
    "This information is only seen at the mobile page and different from Like at web page, thus enter the mobile url to get Like.\\\n",
    "Same as Rating, Like is concated with the previous dataframe according to ID."
   ]
  },
  {
   "cell_type": "code",
   "execution_count": 12,
   "id": "d1844521",
   "metadata": {},
   "outputs": [
    {
     "name": "stderr",
     "output_type": "stream",
     "text": [
      "100%|████████████████████████████████████████████████████████████████████████████████████| 7/7 [00:39<00:00,  5.59s/it]\n"
     ]
    }
   ],
   "source": [
    "idlist3 = [] # ID\n",
    "likelist2 = [] # Like\n",
    "\n",
    "for day in tqdm(days):\n",
    "    URL = 'https://m.comic.naver.com/webtoon/weekday?week=' + day\n",
    "    driver.get(URL)\n",
    "    \n",
    "    ids = driver.find_elements(By.CLASS_NAME, 'list_toon > li > a')\n",
    "    likes = driver.find_elements(By.CLASS_NAME,'count_num')\n",
    "    \n",
    "    for i in range(len(ids)):\n",
    "        idnum = re.findall('\\d+', ids[i].get_attribute('href')) \n",
    "        likenum = likes[i].text\n",
    "        \n",
    "        if (idnum[0] in idlist3):\n",
    "            pass\n",
    "        \n",
    "        else:\n",
    "            idlist3.append(idnum[0])\n",
    "            likelist2.append(likenum)"
   ]
  },
  {
   "cell_type": "code",
   "execution_count": 13,
   "id": "b355601f",
   "metadata": {},
   "outputs": [
    {
     "data": {
      "text/html": [
       "<div>\n",
       "<style scoped>\n",
       "    .dataframe tbody tr th:only-of-type {\n",
       "        vertical-align: middle;\n",
       "    }\n",
       "\n",
       "    .dataframe tbody tr th {\n",
       "        vertical-align: top;\n",
       "    }\n",
       "\n",
       "    .dataframe thead th {\n",
       "        text-align: right;\n",
       "    }\n",
       "</style>\n",
       "<table border=\"1\" class=\"dataframe\">\n",
       "  <thead>\n",
       "    <tr style=\"text-align: right;\">\n",
       "      <th></th>\n",
       "      <th>ID</th>\n",
       "      <th>Mobile Like</th>\n",
       "    </tr>\n",
       "  </thead>\n",
       "  <tbody>\n",
       "    <tr>\n",
       "      <th>0</th>\n",
       "      <td>654774</td>\n",
       "      <td>100만</td>\n",
       "    </tr>\n",
       "    <tr>\n",
       "      <th>1</th>\n",
       "      <td>796867</td>\n",
       "      <td>10만</td>\n",
       "    </tr>\n",
       "    <tr>\n",
       "      <th>2</th>\n",
       "      <td>795643</td>\n",
       "      <td>10만</td>\n",
       "    </tr>\n",
       "    <tr>\n",
       "      <th>3</th>\n",
       "      <td>733074</td>\n",
       "      <td>10만</td>\n",
       "    </tr>\n",
       "    <tr>\n",
       "      <th>4</th>\n",
       "      <td>785253</td>\n",
       "      <td>10만</td>\n",
       "    </tr>\n",
       "    <tr>\n",
       "      <th>...</th>\n",
       "      <td>...</td>\n",
       "      <td>...</td>\n",
       "    </tr>\n",
       "    <tr>\n",
       "      <th>543</th>\n",
       "      <td>786973</td>\n",
       "      <td>1만</td>\n",
       "    </tr>\n",
       "    <tr>\n",
       "      <th>544</th>\n",
       "      <td>794224</td>\n",
       "      <td>1만</td>\n",
       "    </tr>\n",
       "    <tr>\n",
       "      <th>545</th>\n",
       "      <td>773067</td>\n",
       "      <td>1만</td>\n",
       "    </tr>\n",
       "    <tr>\n",
       "      <th>546</th>\n",
       "      <td>789966</td>\n",
       "      <td>1만</td>\n",
       "    </tr>\n",
       "    <tr>\n",
       "      <th>547</th>\n",
       "      <td>783599</td>\n",
       "      <td>1만</td>\n",
       "    </tr>\n",
       "  </tbody>\n",
       "</table>\n",
       "<p>548 rows × 2 columns</p>\n",
       "</div>"
      ],
      "text/plain": [
       "         ID Mobile Like\n",
       "0    654774        100만\n",
       "1    796867         10만\n",
       "2    795643         10만\n",
       "3    733074         10만\n",
       "4    785253         10만\n",
       "..      ...         ...\n",
       "543  786973          1만\n",
       "544  794224          1만\n",
       "545  773067          1만\n",
       "546  789966          1만\n",
       "547  783599          1만\n",
       "\n",
       "[548 rows x 2 columns]"
      ]
     },
     "execution_count": 13,
     "metadata": {},
     "output_type": "execute_result"
    }
   ],
   "source": [
    "# Create and Visualize the dataframe\n",
    "df3 = pd.DataFrame(columns=cols)\n",
    "df3['ID'] = idlist3\n",
    "df3['Mobile Like'] = likelist2\n",
    "df3"
   ]
  },
  {
   "cell_type": "markdown",
   "id": "5bb618d1",
   "metadata": {},
   "source": [
    "# 5. Create the Dataframe\n",
    "We created 3 dataframes above.\\\n",
    "Concat dataframes to make the final dataframe."
   ]
  },
  {
   "cell_type": "code",
   "execution_count": 14,
   "id": "3bb63ed4",
   "metadata": {},
   "outputs": [
    {
     "data": {
      "text/html": [
       "<div>\n",
       "<style scoped>\n",
       "    .dataframe tbody tr th:only-of-type {\n",
       "        vertical-align: middle;\n",
       "    }\n",
       "\n",
       "    .dataframe tbody tr th {\n",
       "        vertical-align: top;\n",
       "    }\n",
       "\n",
       "    .dataframe thead th {\n",
       "        text-align: right;\n",
       "    }\n",
       "</style>\n",
       "<table border=\"1\" class=\"dataframe\">\n",
       "  <thead>\n",
       "    <tr style=\"text-align: right;\">\n",
       "      <th></th>\n",
       "      <th>ID</th>\n",
       "      <th>Title</th>\n",
       "      <th>Author</th>\n",
       "      <th>First Date</th>\n",
       "      <th>Day</th>\n",
       "      <th>Genre</th>\n",
       "      <th>Content</th>\n",
       "      <th>Web Like</th>\n",
       "      <th>Mobile Like</th>\n",
       "      <th>Star</th>\n",
       "      <th>Age</th>\n",
       "      <th>Form</th>\n",
       "      <th>Imgsrc</th>\n",
       "    </tr>\n",
       "  </thead>\n",
       "  <tbody>\n",
       "    <tr>\n",
       "      <th>0</th>\n",
       "      <td>758037</td>\n",
       "      <td>참교육</td>\n",
       "      <td>채용택 / 한가람</td>\n",
       "      <td>2020.11.01</td>\n",
       "      <td>mon</td>\n",
       "      <td>스토리, 액션</td>\n",
       "      <td>무너진 교권을 지키기 위해 교권보호국 소속 나화진의 참교육이 시작된다!\\n&lt;부활남&gt;...</td>\n",
       "      <td>20,274</td>\n",
       "      <td>100만</td>\n",
       "      <td>9.86</td>\n",
       "      <td>15세 이용가</td>\n",
       "      <td>스크롤</td>\n",
       "      <td>https://shared-comic.pstatic.net/thumb/webtoon...</td>\n",
       "    </tr>\n",
       "    <tr>\n",
       "      <th>1</th>\n",
       "      <td>183559</td>\n",
       "      <td>신의 탑</td>\n",
       "      <td>SIU</td>\n",
       "      <td>2010.06.30</td>\n",
       "      <td>mon</td>\n",
       "      <td>스토리, 판타지</td>\n",
       "      <td>자신의 모든 것이었던 소녀를 쫓아 탑에 들어온 소년\\n그리고 그런 소년을 시험하는 탑</td>\n",
       "      <td>99,999+</td>\n",
       "      <td>10만</td>\n",
       "      <td>9.89</td>\n",
       "      <td>12세 이용가</td>\n",
       "      <td>스크롤</td>\n",
       "      <td>https://shared-comic.pstatic.net/thumb/webtoon...</td>\n",
       "    </tr>\n",
       "    <tr>\n",
       "      <th>2</th>\n",
       "      <td>648419</td>\n",
       "      <td>뷰티풀 군바리</td>\n",
       "      <td>설이 / 윤성원</td>\n",
       "      <td>2015.02.15</td>\n",
       "      <td>mon</td>\n",
       "      <td>스토리, 드라마</td>\n",
       "      <td>'여자도 군대에 간다면?'본격 여자도 군대 가는 만화!</td>\n",
       "      <td>99,999+</td>\n",
       "      <td>10만</td>\n",
       "      <td>9.80</td>\n",
       "      <td>15세 이용가</td>\n",
       "      <td>스크롤</td>\n",
       "      <td>https://shared-comic.pstatic.net/thumb/webtoon...</td>\n",
       "    </tr>\n",
       "    <tr>\n",
       "      <th>3</th>\n",
       "      <td>783052</td>\n",
       "      <td>퀘스트지상주의</td>\n",
       "      <td>박태준 만화회사</td>\n",
       "      <td>2021.10.24</td>\n",
       "      <td>mon</td>\n",
       "      <td>스토리, 드라마</td>\n",
       "      <td>[외모지상주의], [싸움독학], [인생존망]과 세계관을 공유하는 작품!\\n공부, 싸...</td>\n",
       "      <td>1,376</td>\n",
       "      <td>10만</td>\n",
       "      <td>9.78</td>\n",
       "      <td>15세 이용가</td>\n",
       "      <td>스크롤</td>\n",
       "      <td>https://shared-comic.pstatic.net/thumb/webtoon...</td>\n",
       "    </tr>\n",
       "    <tr>\n",
       "      <th>4</th>\n",
       "      <td>602910</td>\n",
       "      <td>윈드브레이커</td>\n",
       "      <td>조용석</td>\n",
       "      <td>2013.12.08</td>\n",
       "      <td>mon</td>\n",
       "      <td>스토리, 스포츠</td>\n",
       "      <td>혼자서 자전거를 즐겨타던 모범생 조자현.\\n원치 않게 자전거 크루의 일에 자꾸 휘말...</td>\n",
       "      <td>99,999+</td>\n",
       "      <td>10만</td>\n",
       "      <td>9.84</td>\n",
       "      <td>12세 이용가</td>\n",
       "      <td>스크롤</td>\n",
       "      <td>https://shared-comic.pstatic.net/thumb/webtoon...</td>\n",
       "    </tr>\n",
       "    <tr>\n",
       "      <th>...</th>\n",
       "      <td>...</td>\n",
       "      <td>...</td>\n",
       "      <td>...</td>\n",
       "      <td>...</td>\n",
       "      <td>...</td>\n",
       "      <td>...</td>\n",
       "      <td>...</td>\n",
       "      <td>...</td>\n",
       "      <td>...</td>\n",
       "      <td>...</td>\n",
       "      <td>...</td>\n",
       "      <td>...</td>\n",
       "      <td>...</td>\n",
       "    </tr>\n",
       "    <tr>\n",
       "      <th>543</th>\n",
       "      <td>773524</td>\n",
       "      <td>거래하실래요?</td>\n",
       "      <td>99C / 백도</td>\n",
       "      <td>2021.07.24</td>\n",
       "      <td>sun</td>\n",
       "      <td>스토리, 로맨스</td>\n",
       "      <td>새로운 사랑은 중고거래로 장만하세요(?!)\\n남친과 헤어진 후, 추억의 물건을 중고...</td>\n",
       "      <td>257</td>\n",
       "      <td>1만</td>\n",
       "      <td>9.90</td>\n",
       "      <td>전체연령가</td>\n",
       "      <td>스크롤</td>\n",
       "      <td>https://shared-comic.pstatic.net/thumb/webtoon...</td>\n",
       "    </tr>\n",
       "    <tr>\n",
       "      <th>544</th>\n",
       "      <td>785812</td>\n",
       "      <td>구해줘, 호구!</td>\n",
       "      <td>기천</td>\n",
       "      <td>2021.12.11</td>\n",
       "      <td>sun</td>\n",
       "      <td>스토리, 로맨스</td>\n",
       "      <td>세상에서 착한 게 제일 싫은 준영은 '자타공인 청정호구' 산호가 자꾸 거슬린다.\\n...</td>\n",
       "      <td>166</td>\n",
       "      <td>1만</td>\n",
       "      <td>9.92</td>\n",
       "      <td>전체연령가</td>\n",
       "      <td>스크롤</td>\n",
       "      <td>https://shared-comic.pstatic.net/thumb/webtoon...</td>\n",
       "    </tr>\n",
       "    <tr>\n",
       "      <th>545</th>\n",
       "      <td>779354</td>\n",
       "      <td>패션쇼</td>\n",
       "      <td>로커8</td>\n",
       "      <td>2021.08.28</td>\n",
       "      <td>sun</td>\n",
       "      <td>스토리, 드라마</td>\n",
       "      <td>세상에 찌든 수학교사, 남극에게는 사실 독특한 취미가 있다.\\n그런데, 그보다 더 ...</td>\n",
       "      <td>165</td>\n",
       "      <td>1만</td>\n",
       "      <td>9.81</td>\n",
       "      <td>전체연령가</td>\n",
       "      <td>스크롤</td>\n",
       "      <td>https://shared-comic.pstatic.net/thumb/webtoon...</td>\n",
       "    </tr>\n",
       "    <tr>\n",
       "      <th>546</th>\n",
       "      <td>776096</td>\n",
       "      <td>짝사랑의 유서</td>\n",
       "      <td>군밤</td>\n",
       "      <td>2021.07.17</td>\n",
       "      <td>sun</td>\n",
       "      <td>스토리, 로맨스</td>\n",
       "      <td>민결은 단골카페 사장님의 동생인 태은을 1년동안 짝사랑 하던 중, 태은에게서 편지 ...</td>\n",
       "      <td>328</td>\n",
       "      <td>1만</td>\n",
       "      <td>9.80</td>\n",
       "      <td>12세 이용가</td>\n",
       "      <td>스크롤</td>\n",
       "      <td>https://shared-comic.pstatic.net/thumb/webtoon...</td>\n",
       "    </tr>\n",
       "    <tr>\n",
       "      <th>547</th>\n",
       "      <td>786973</td>\n",
       "      <td>DARK MOON: 달의 제단</td>\n",
       "      <td>HYBE</td>\n",
       "      <td>2022.01.16</td>\n",
       "      <td>sun</td>\n",
       "      <td>스토리, 판타지</td>\n",
       "      <td>누구도 사랑할 수 없는 뱀파이어와 한 명밖에 사랑할 수 없는 늑대인간.\\n리버필드 ...</td>\n",
       "      <td>383</td>\n",
       "      <td>1만</td>\n",
       "      <td>9.45</td>\n",
       "      <td>12세 이용가</td>\n",
       "      <td>스크롤</td>\n",
       "      <td>https://shared-comic.pstatic.net/thumb/webtoon...</td>\n",
       "    </tr>\n",
       "  </tbody>\n",
       "</table>\n",
       "<p>548 rows × 13 columns</p>\n",
       "</div>"
      ],
      "text/plain": [
       "         ID             Title     Author  First Date  Day     Genre  \\\n",
       "0    758037               참교육  채용택 / 한가람  2020.11.01  mon   스토리, 액션   \n",
       "1    183559              신의 탑        SIU  2010.06.30  mon  스토리, 판타지   \n",
       "2    648419           뷰티풀 군바리   설이 / 윤성원  2015.02.15  mon  스토리, 드라마   \n",
       "3    783052           퀘스트지상주의   박태준 만화회사  2021.10.24  mon  스토리, 드라마   \n",
       "4    602910            윈드브레이커        조용석  2013.12.08  mon  스토리, 스포츠   \n",
       "..      ...               ...        ...         ...  ...       ...   \n",
       "543  773524           거래하실래요?   99C / 백도  2021.07.24  sun  스토리, 로맨스   \n",
       "544  785812          구해줘, 호구!         기천  2021.12.11  sun  스토리, 로맨스   \n",
       "545  779354               패션쇼        로커8  2021.08.28  sun  스토리, 드라마   \n",
       "546  776096           짝사랑의 유서         군밤  2021.07.17  sun  스토리, 로맨스   \n",
       "547  786973  DARK MOON: 달의 제단       HYBE  2022.01.16  sun  스토리, 판타지   \n",
       "\n",
       "                                               Content Web Like Mobile Like  \\\n",
       "0    무너진 교권을 지키기 위해 교권보호국 소속 나화진의 참교육이 시작된다!\\n<부활남>...   20,274        100만   \n",
       "1      자신의 모든 것이었던 소녀를 쫓아 탑에 들어온 소년\\n그리고 그런 소년을 시험하는 탑  99,999+         10만   \n",
       "2                       '여자도 군대에 간다면?'본격 여자도 군대 가는 만화!  99,999+         10만   \n",
       "3    [외모지상주의], [싸움독학], [인생존망]과 세계관을 공유하는 작품!\\n공부, 싸...    1,376         10만   \n",
       "4    혼자서 자전거를 즐겨타던 모범생 조자현.\\n원치 않게 자전거 크루의 일에 자꾸 휘말...  99,999+         10만   \n",
       "..                                                 ...      ...         ...   \n",
       "543  새로운 사랑은 중고거래로 장만하세요(?!)\\n남친과 헤어진 후, 추억의 물건을 중고...      257          1만   \n",
       "544  세상에서 착한 게 제일 싫은 준영은 '자타공인 청정호구' 산호가 자꾸 거슬린다.\\n...      166          1만   \n",
       "545  세상에 찌든 수학교사, 남극에게는 사실 독특한 취미가 있다.\\n그런데, 그보다 더 ...      165          1만   \n",
       "546  민결은 단골카페 사장님의 동생인 태은을 1년동안 짝사랑 하던 중, 태은에게서 편지 ...      328          1만   \n",
       "547  누구도 사랑할 수 없는 뱀파이어와 한 명밖에 사랑할 수 없는 늑대인간.\\n리버필드 ...      383          1만   \n",
       "\n",
       "     Star      Age Form                                             Imgsrc  \n",
       "0    9.86  15세 이용가  스크롤  https://shared-comic.pstatic.net/thumb/webtoon...  \n",
       "1    9.89  12세 이용가  스크롤  https://shared-comic.pstatic.net/thumb/webtoon...  \n",
       "2    9.80  15세 이용가  스크롤  https://shared-comic.pstatic.net/thumb/webtoon...  \n",
       "3    9.78  15세 이용가  스크롤  https://shared-comic.pstatic.net/thumb/webtoon...  \n",
       "4    9.84  12세 이용가  스크롤  https://shared-comic.pstatic.net/thumb/webtoon...  \n",
       "..    ...      ...  ...                                                ...  \n",
       "543  9.90    전체연령가  스크롤  https://shared-comic.pstatic.net/thumb/webtoon...  \n",
       "544  9.92    전체연령가  스크롤  https://shared-comic.pstatic.net/thumb/webtoon...  \n",
       "545  9.81    전체연령가  스크롤  https://shared-comic.pstatic.net/thumb/webtoon...  \n",
       "546  9.80  12세 이용가  스크롤  https://shared-comic.pstatic.net/thumb/webtoon...  \n",
       "547  9.45  12세 이용가  스크롤  https://shared-comic.pstatic.net/thumb/webtoon...  \n",
       "\n",
       "[548 rows x 13 columns]"
      ]
     },
     "execution_count": 14,
     "metadata": {},
     "output_type": "execute_result"
    }
   ],
   "source": [
    "cols = []\n",
    "df = pd.DataFrame(columns=cols)\n",
    "\n",
    "df['ID'] = idlist1 \n",
    "df['Title'] = titlelist \n",
    "df['Author'] = authorlist\n",
    "\n",
    "df['First Date'] = firstdate \n",
    "df['Day'] = daylist \n",
    "df['Genre'] = genrelist \n",
    "df['Content'] = contentlist \n",
    "\n",
    "df['Web Like'] = likelist1 \n",
    "df['Mobile Like'] = likelist2 \n",
    "df['Star'] = starlist \n",
    "\n",
    "df['Age'] = agelist \n",
    "df['Form'] = formlist \n",
    "df['Imgsrc'] = imglist \n",
    "\n",
    "df"
   ]
  },
  {
   "cell_type": "code",
   "execution_count": 15,
   "id": "84c1d345",
   "metadata": {},
   "outputs": [
    {
     "name": "stdout",
     "output_type": "stream",
     "text": [
      "<class 'pandas.core.frame.DataFrame'>\n",
      "RangeIndex: 548 entries, 0 to 547\n",
      "Data columns (total 13 columns):\n",
      " #   Column       Non-Null Count  Dtype \n",
      "---  ------       --------------  ----- \n",
      " 0   ID           548 non-null    object\n",
      " 1   Title        548 non-null    object\n",
      " 2   Author       548 non-null    object\n",
      " 3   First Date   548 non-null    object\n",
      " 4   Day          548 non-null    object\n",
      " 5   Genre        548 non-null    object\n",
      " 6   Content      548 non-null    object\n",
      " 7   Web Like     548 non-null    object\n",
      " 8   Mobile Like  548 non-null    object\n",
      " 9   Star         548 non-null    object\n",
      " 10  Age          548 non-null    object\n",
      " 11  Form         548 non-null    object\n",
      " 12  Imgsrc       548 non-null    object\n",
      "dtypes: object(13)\n",
      "memory usage: 55.8+ KB\n"
     ]
    }
   ],
   "source": [
    "df.info()"
   ]
  },
  {
   "cell_type": "markdown",
   "id": "d0f98437",
   "metadata": {},
   "source": [
    "# 6. Preprocessing data\n",
    "1. Convert ID to Integer type\n",
    "2. Delete special characters in Title\n",
    "3. Convert First Date to date-time type\n",
    "4. Split Genre\n",
    "5. Delete enters in Content\n",
    "6. Remove decimal point and convert Web Like to Integer type.\n",
    "7. Translate Mobile Like's thousand units to 0 and convert to Integer type\n",
    "8. Convert Star to Float type\n",
    "9. Categorize Form"
   ]
  },
  {
   "cell_type": "markdown",
   "id": "d12be70e",
   "metadata": {},
   "source": [
    "## 1. ID to Integer"
   ]
  },
  {
   "cell_type": "code",
   "execution_count": 16,
   "id": "766b2097",
   "metadata": {},
   "outputs": [
    {
     "data": {
      "text/plain": [
       "str"
      ]
     },
     "execution_count": 16,
     "metadata": {},
     "output_type": "execute_result"
    }
   ],
   "source": [
    "type(idlist1[0])"
   ]
  },
  {
   "cell_type": "code",
   "execution_count": 17,
   "id": "402dfb74",
   "metadata": {},
   "outputs": [],
   "source": [
    "newidlist = []\n",
    "\n",
    "for ID in idlist1:\n",
    "    ID = int(ID)\n",
    "    newidlist.append(ID)"
   ]
  },
  {
   "cell_type": "code",
   "execution_count": 47,
   "id": "c5f9c4d9",
   "metadata": {},
   "outputs": [
    {
     "name": "stdout",
     "output_type": "stream",
     "text": [
      "-----데이터 타입-----\n",
      "<class 'int'>\n",
      "-----데이터 개수-----\n",
      "548\n",
      "-----데이터 확인-----\n",
      "[758037, 183559, 648419, 783052, 602910, 795643, 728750, 654774, 733074, 795297]\n"
     ]
    }
   ],
   "source": [
    "print('-----데이터 타입-----')\n",
    "print(type(newidlist[0]))\n",
    "print('-----데이터 개수-----')\n",
    "print(len(newidlist))\n",
    "print('-----데이터 확인-----')\n",
    "print(newidlist[0:10])"
   ]
  },
  {
   "cell_type": "markdown",
   "id": "ca97a29c",
   "metadata": {},
   "source": [
    "## 2. Remove special characters in Title"
   ]
  },
  {
   "cell_type": "code",
   "execution_count": 20,
   "id": "c173da3a",
   "metadata": {},
   "outputs": [
    {
     "data": {
      "text/plain": [
       "['참교육',\n",
       " '신의 탑',\n",
       " '뷰티풀 군바리',\n",
       " '퀘스트지상주의',\n",
       " '윈드브레이커',\n",
       " '호랑신랑뎐',\n",
       " '장씨세가 호위무사',\n",
       " '소녀의 세계',\n",
       " '백수세끼',\n",
       " '신화급 귀속 아이템을 손에 넣었다',\n",
       " '앵무살수',\n",
       " '버림받은 왕녀의 은밀한 침실',\n",
       " '불청객',\n",
       " '잔불의 기사',\n",
       " '팔이피플',\n",
       " '절대검감',\n",
       " '똑 닮은 딸',\n",
       " '리턴 투 플레이어',\n",
       " '히어로메이커',\n",
       " '아, 쫌 참으세요 영주님!',\n",
       " '메리의 불타는 행복회로',\n",
       " '이별 후 사내 결혼',\n",
       " '물어보는 사이',\n",
       " '꼬리잡기',\n",
       " '결혼생활 그림일기',\n",
       " '더블클릭',\n",
       " '북부 공작님을 유혹하겠습니다',\n",
       " '황제와의 하룻밤',\n",
       " '순정말고 순종',\n",
       " '꿈의 기업',\n",
       " '파운더',\n",
       " '신군',\n",
       " '아슈타르테',\n",
       " '칼가는 소녀',\n",
       " '오빠집이 비어서',\n",
       " '우산 없는 애',\n",
       " '세번째 로망스',\n",
       " '미니어처 생활백서',\n",
       " '제왕 빛과 그림자',\n",
       " '다시쓰는 연애사',\n",
       " '또다시, 계약 부부',\n",
       " '오늘의 비너스',\n",
       " '버그이터',\n",
       " '하루의 하루',\n",
       " '사랑의 헌옷수거함',\n",
       " '말박왕',\n",
       " '레지나레나 - 용서받지 못한 그대에게',\n",
       " '원작은 완결난 지 한참 됐습니다만',\n",
       " '루크 비셸 따라잡기',\n",
       " '홍천기',\n",
       " '아마도',\n",
       " '최후의 금빛아이',\n",
       " '싸이코 리벤지',\n",
       " '경비실에서 안내방송 드립니다',\n",
       " '굿바이 유교보이',\n",
       " '입술이 예쁜 남자',\n",
       " '백호랑',\n",
       " '매지컬 급식암살법사',\n",
       " '달로 만든 아이',\n",
       " '파견체',\n",
       " '찌질하지만 로맨스는 하고 싶어',\n",
       " '왕따협상',\n",
       " '그림자 신부',\n",
       " '나만의 고막남친',\n",
       " '모스크바의 여명',\n",
       " '모노마니아',\n",
       " '악녀 18세 공략기',\n",
       " '지옥연애환담',\n",
       " '모락모락 왕세자님',\n",
       " '흔들리는 세계로부터',\n",
       " '디나운스',\n",
       " '역주행!',\n",
       " '사막에 핀 달',\n",
       " '결혼공략',\n",
       " '헬로맨스',\n",
       " '슈퍼스타 천대리',\n",
       " '오로지 오로라',\n",
       " '남주서치',\n",
       " '기사님을 지켜줘',\n",
       " '별을 쫓는 소년들',\n",
       " '김부장',\n",
       " '여신강림',\n",
       " '대학원 탈출일지',\n",
       " '마루는 강쥐',\n",
       " '1을 줄게',\n",
       " '내가 키운 S급들',\n",
       " '멸망 이후의 세계',\n",
       " '중증외상센터  골든 아워',\n",
       " '용사가 돌아왔다',\n",
       " '삼국지톡',\n",
       " '악몽의 형상',\n",
       " '시체기사 군터',\n",
       " '집이 없어',\n",
       " '랜덤채팅의 그녀!',\n",
       " '천마는 평범하게 살 수 없다',\n",
       " '1331',\n",
       " '하북팽가 막내아들',\n",
       " '초인의 게임',\n",
       " '호랑이 들어와요',\n",
       " '원주민 공포만화',\n",
       " '에이머',\n",
       " '윌유메리미',\n",
       " '여우자매',\n",
       " '덴큐',\n",
       " '애옹식당',\n",
       " '위아더좀비',\n",
       " '올가미',\n",
       " '왕게임',\n",
       " '몬스터',\n",
       " '원수가 나를 유혹할 때',\n",
       " '견우와 선녀',\n",
       " '로잘린 보가트',\n",
       " '늑대처럼 홀로',\n",
       " '이 결혼, 새로고침',\n",
       " '용왕님의 셰프가 되었습니다',\n",
       " '나타나주세요!',\n",
       " '택배 왔습니다',\n",
       " '은주의 방 2~3부',\n",
       " '제로게임',\n",
       " '빅맨',\n",
       " '플레이, 플리',\n",
       " '연우의 순정',\n",
       " '100',\n",
       " '한입만!',\n",
       " '아이즈',\n",
       " '시벨롬 리스트',\n",
       " '헬58',\n",
       " '대공님, 실수였어요!',\n",
       " '또 다른 사랑',\n",
       " '쿠쿠쿠쿠',\n",
       " '너의 순정, 나의 순정',\n",
       " '내남친 킹카만들기',\n",
       " '열녀박씨 계약결혼뎐',\n",
       " '벽간소음',\n",
       " '나의 플랏메이트',\n",
       " '사공은주',\n",
       " '필리아로제 - 가시왕관의 예언',\n",
       " '붉은 이정표',\n",
       " '교환학생',\n",
       " '짝사랑의 마침표',\n",
       " '마침내 사랑이에요 마왕님!',\n",
       " '달이 사라진 밤',\n",
       " '풋내기들',\n",
       " '미물',\n",
       " '그녀석 정복기',\n",
       " '태시트',\n",
       " '나는 어디에나 있다',\n",
       " '주인님을 잡아먹는 방법',\n",
       " '이븐 모어',\n",
       " '그 남주와 이별하는 방법',\n",
       " 'NG불가',\n",
       " '대신 심부름을 해다오',\n",
       " '미신',\n",
       " '프린스 메이커',\n",
       " '급식러너',\n",
       " '다꾸남',\n",
       " '잿빛오름',\n",
       " '하나in세인',\n",
       " '찐종합게임동아리',\n",
       " '마녀이야기',\n",
       " '화산귀환',\n",
       " '2022 스크롤금지',\n",
       " '내 남편과 결혼해줘',\n",
       " '전지적 독자 시점',\n",
       " '조조코믹스',\n",
       " '헬퍼 2  킬베로스',\n",
       " '비즈니스 여친',\n",
       " '남주의 첫날밤을 가져버렸다',\n",
       " '튜토리얼 탑의 고인물',\n",
       " '일렉시드',\n",
       " '여고생 드래곤',\n",
       " '기묘한 만화',\n",
       " '66666년 만에 환생한 흑마법사',\n",
       " '엔딩 후 서브남을 주웠다',\n",
       " '나쁜사람',\n",
       " '연놈',\n",
       " '쓰레기는 쓰레기통에!',\n",
       " '칼에 취한 밤을 걷다',\n",
       " '빌드업',\n",
       " '베스트 프렌드',\n",
       " '세상은 돈과 권력',\n",
       " '마른 가지에 바람처럼',\n",
       " '고삼무쌍',\n",
       " '영웅&마왕&악당',\n",
       " '미래의 골동품 가게',\n",
       " '운명을 보는 회사원',\n",
       " '사상최강',\n",
       " '물고기로 살아남기',\n",
       " '홀리데이',\n",
       " '판타지 여동생!',\n",
       " '반귀',\n",
       " '언덕 위의 제임스',\n",
       " '아도나이',\n",
       " '내가 죽기로 결심한 것은',\n",
       " '옆집남자 친구',\n",
       " '마녀와 용의 신혼일기',\n",
       " '헤어지면 죽음',\n",
       " '좀간',\n",
       " '범이올시다!',\n",
       " '메모리얼',\n",
       " '얼굴천재',\n",
       " '괴물공작의 딸',\n",
       " '수요웹툰의 나강림',\n",
       " '로어 올림푸스',\n",
       " '그녀의 육하원칙',\n",
       " '선배는 나빠요!',\n",
       " '하렘의 남자들',\n",
       " '더 퀸즈',\n",
       " '가짜 동맹',\n",
       " '주부 육성중',\n",
       " '두 번 사는 프로듀서',\n",
       " '인과관계',\n",
       " '밀행',\n",
       " '잿빛도 색이다',\n",
       " '안미운 우리들',\n",
       " '그림자의 밤',\n",
       " '클로닝',\n",
       " '구사일생 로맨스',\n",
       " '재생존경쟁',\n",
       " '사랑과 평강의 온달!',\n",
       " '반짝반짝 작은 눈',\n",
       " '멸종위기종인간',\n",
       " '무용과 남학생',\n",
       " '이별학',\n",
       " '해귀',\n",
       " '뱀은 꽃을 먹는가',\n",
       " '혁명 뒤 공주는',\n",
       " '낙원의 이론',\n",
       " '나의 계절',\n",
       " '구주',\n",
       " '하지만 너는 2D잖아',\n",
       " '이 짝사랑은 억울하다!',\n",
       " '산의 시간',\n",
       " '수호하는 너에게',\n",
       " '필생기',\n",
       " '프로듀스 온리원',\n",
       " '오직, 밝은 미래',\n",
       " '아이돌의 비밀 스터디',\n",
       " '우리 은하',\n",
       " '이상한 변호사 우영우',\n",
       " '독립일기',\n",
       " '나노마신',\n",
       " '연애혁명',\n",
       " '현실퀘스트',\n",
       " '천마육성',\n",
       " '누나! 나 무서워',\n",
       " '회귀한 천재 헌터의 슬기로운 청소생활',\n",
       " '나 혼자 네크로맨서',\n",
       " '정글쥬스',\n",
       " '무사만리행',\n",
       " '남편을 죽여줘요',\n",
       " '노답소녀',\n",
       " '불편한 관계',\n",
       " '죄송한데 주인공이세요',\n",
       " '쿠베라',\n",
       " '특수청소',\n",
       " '천재의 게임방송',\n",
       " '하드캐리',\n",
       " '버려진 나의 최애를 위하여',\n",
       " '최강전설 강해효',\n",
       " '던전 씹어먹는 아티팩트',\n",
       " '베니루 BAENIRU',\n",
       " '꽃만 키우는데 너무강함',\n",
       " '개와 사람의 시간',\n",
       " '트롤트랩',\n",
       " '규격 외 혈통 천재',\n",
       " '국세청 망나니',\n",
       " '순정빌런',\n",
       " '위대한 겸상',\n",
       " '완벽한 결혼의 정석',\n",
       " '오빠세끼',\n",
       " '선남친 후연애',\n",
       " '마왕까지 한 걸음',\n",
       " '만능잡캐',\n",
       " '가족같은 XX',\n",
       " '만물의 영장',\n",
       " '마계인섬',\n",
       " '갓트',\n",
       " '안개무덤',\n",
       " '아인슈페너',\n",
       " '네가 죽기를 바랄 때가 있었다',\n",
       " '순수한 동거생활',\n",
       " '킬더킹',\n",
       " '두 번째 딸로 태어났습니다',\n",
       " '달의 요람',\n",
       " '황궁에 핀 꽃은, 미쳤다',\n",
       " '1학년 9반',\n",
       " '부캐인생',\n",
       " '널 사랑하는 죽은 형',\n",
       " '온에어',\n",
       " 'THE 런웨이',\n",
       " '환상연가',\n",
       " '마법사랑해',\n",
       " '해시의 신루',\n",
       " '가상&RPG',\n",
       " '권리행사자',\n",
       " '침묵의 밤',\n",
       " '마녀의 심판은 꽃이 된다',\n",
       " '유월의 소한',\n",
       " '따개비',\n",
       " '연애의 발견',\n",
       " '오, 친애하는 숙적',\n",
       " '아빠같은 남자',\n",
       " '배트맨 웨인 패밀리 어드벤처',\n",
       " '자취방 신선들',\n",
       " '시에라',\n",
       " '진짜 진짜 이혼해',\n",
       " '이계 무슨 황비',\n",
       " '베어케어',\n",
       " '방과후 레시피',\n",
       " '로맨틱 태평수산',\n",
       " '모어 라이프',\n",
       " '성스러운 아이돌',\n",
       " '돌아온 여기사',\n",
       " '나쁜 마법사의 꿈',\n",
       " '카루나',\n",
       " '그 황제가 시곗바늘을 되돌린 사연',\n",
       " '보물과 괴물의 도시',\n",
       " '폭탄주먹 변대장',\n",
       " '사랑하는 여배우들',\n",
       " '온실 속 화초',\n",
       " '혼모노트',\n",
       " '외모지상주의',\n",
       " '나 혼자 만렙 뉴비',\n",
       " '갓 오브 하이스쿨',\n",
       " '어쩌다보니 천생연분',\n",
       " '내과 박원장',\n",
       " '광마회귀',\n",
       " '데드퀸',\n",
       " '1초',\n",
       " '개를 낳았다',\n",
       " '재혼 황후',\n",
       " '죽지 않으려면',\n",
       " '낙향문사전',\n",
       " '세기말 풋사과 보습학원',\n",
       " '역대급 영지 설계사',\n",
       " '서울역 드루이드',\n",
       " '비밀친구',\n",
       " '말년용사',\n",
       " '뫼신 사냥꾼',\n",
       " '선을 넘은 연애',\n",
       " '여우놀이',\n",
       " '히어로 킬러',\n",
       " '구남친이 내게 반했다',\n",
       " 'A.I. 닥터',\n",
       " '멜빈이 그들에게 남긴 것',\n",
       " '그렇고 그런 바람에',\n",
       " '미혼남녀의 효율적 만남',\n",
       " '주님, 악마가 되게 해주세요!',\n",
       " '플레이어',\n",
       " '푸쉬오프',\n",
       " '천상의 주인',\n",
       " '이터널 포스',\n",
       " '희란국연가',\n",
       " '그들이 사귀는 세상',\n",
       " '그 기사가 레이디로 사는 법',\n",
       " '더 게이머',\n",
       " '킬 더 드래곤',\n",
       " '스토커의 하루',\n",
       " '후덜덜덜 남극전자',\n",
       " '상위1%',\n",
       " '골든 체인지',\n",
       " '스포',\n",
       " '모텔 304호',\n",
       " '네버엔딩달링',\n",
       " '악마라고 불러다오',\n",
       " '이게 아닌데',\n",
       " '여름여자 하보이',\n",
       " '백년게임',\n",
       " '드래곤의 심장을 가지고 있습니다',\n",
       " '아찔한 전남편',\n",
       " '로또 황녀님',\n",
       " '재앙의 날',\n",
       " '솔트앤페퍼',\n",
       " '오!너의 리스크',\n",
       " '상남자',\n",
       " '트럼프',\n",
       " '인피니티',\n",
       " '거래',\n",
       " '태권보이',\n",
       " '몽홀',\n",
       " '로판 빙의 만화',\n",
       " '달이 없는 나라',\n",
       " '리트리츠',\n",
       " '짝사랑 마들렌',\n",
       " '별빛 커튼콜',\n",
       " '빨간맛 로맨스',\n",
       " '합법해적 파르페',\n",
       " '히트포인트',\n",
       " '너의 키스씬',\n",
       " '팬시X팬시',\n",
       " '스치면 인연 스며들면 사랑',\n",
       " '킬러방  퍼스트 킬',\n",
       " '호랑이형님',\n",
       " '99강화나무몽둥이',\n",
       " '취사병 전설이 되다',\n",
       " '프리드로우',\n",
       " '은탄',\n",
       " '망나니 소교주로 환생했다',\n",
       " '스터디그룹',\n",
       " '아홉수 우리들',\n",
       " '초인의 시대',\n",
       " '나이트런',\n",
       " '반드시 해피엔딩',\n",
       " '존잘주의',\n",
       " '나태 공자, 노력 천재 되다',\n",
       " '대충 캠퍼스로맨스임',\n",
       " '소공녀 민트',\n",
       " '나를 바꿔줘',\n",
       " '폭군 남편과 이혼하겠습니다',\n",
       " '지옥급식',\n",
       " '힙한남자',\n",
       " '남편 먹는 여자',\n",
       " '작전명 순정',\n",
       " '아사',\n",
       " '탑코너',\n",
       " '미나 이퀄',\n",
       " '태백  튜토리얼 맨',\n",
       " '좀비 파이트',\n",
       " '용사참수인',\n",
       " '물위의 우리',\n",
       " '최면학교',\n",
       " '청춘일지',\n",
       " '이계진입 리로디드',\n",
       " '홍시는 날 좋아해!',\n",
       " '키스 식스 센스',\n",
       " '완벽한 부부는 없다',\n",
       " '팬인데 왜요',\n",
       " '엑스애쉬',\n",
       " '광해의 연인',\n",
       " '다비, 아찔하게 흐르는',\n",
       " '묘령의 황자',\n",
       " '공유몽',\n",
       " '마법사가 죽음을 맞이하는 방법',\n",
       " '메트로헌터',\n",
       " '최강부캐',\n",
       " '저무는 해, 시린 눈',\n",
       " '남편을 만렙으로 키우려 합니다',\n",
       " '은둔코인',\n",
       " '같은 학교 친구',\n",
       " '아가사',\n",
       " '지구식 구원자 전형',\n",
       " '소년 검사',\n",
       " '배달의 신',\n",
       " '안녕, 이바다씨',\n",
       " '팔려 온 신부',\n",
       " '숨겨진 성녀',\n",
       " '전생연분',\n",
       " '적월의 나라',\n",
       " '왕년엔 용사님',\n",
       " '청춘 블라썸',\n",
       " '사서고생!',\n",
       " '복수를 위한 결혼동맹',\n",
       " '중매쟁이 아가 황녀님',\n",
       " '모두 너였다',\n",
       " '도사 가온',\n",
       " '좋은데 어떡해',\n",
       " '더 나우',\n",
       " '일상이 무너졌다',\n",
       " '주욱 같은 하루',\n",
       " '스트릿 워크아웃',\n",
       " '키스의 여왕',\n",
       " '나를 길들여 봐, 차비서',\n",
       " '보고 있지',\n",
       " '밤을 깨우는 마법',\n",
       " '아침을 지나 밤으로',\n",
       " '이건 그냥 연애 이야기',\n",
       " '좋아해 아니 싫어해',\n",
       " '실버 쥬얼',\n",
       " '7FATES CHAKHO',\n",
       " '보듬보듬',\n",
       " '디펜스 게임의 폭군이 되었다',\n",
       " '싸움독학',\n",
       " '투신전생기',\n",
       " '입학용병',\n",
       " '약한영웅',\n",
       " '이번 생도 잘 부탁해',\n",
       " '사형소년',\n",
       " '일타강사 백사부',\n",
       " '수희0(tngmlek0)',\n",
       " '존망코인',\n",
       " '천하제일인',\n",
       " '별이삼샵',\n",
       " '소녀재판',\n",
       " '무서운게 딱좋아!',\n",
       " '아카데미에 위장취업당했다',\n",
       " '내일',\n",
       " '곱게 키웠더니, 짐승',\n",
       " '오로지 너를 이기고 싶어',\n",
       " '킬링킬러',\n",
       " '판사 이한영',\n",
       " '경비 배두만',\n",
       " '테러대부활',\n",
       " '시월드가 내게 집착한다',\n",
       " '마법스크롤 상인 지오',\n",
       " '경자 전성시대',\n",
       " '어느날 갑자기 서울은',\n",
       " '마섹남 - 마술하는 섹시한 남자',\n",
       " '동생친구',\n",
       " '폰투스  극야2',\n",
       " '키미앤조이',\n",
       " '장풍전',\n",
       " '위닝샷!',\n",
       " '홍 의관의 은밀한 비밀',\n",
       " '108명의 그녀들',\n",
       " '고백 취소도 되나',\n",
       " '생존로그',\n",
       " '천치전능',\n",
       " '랑데뷰',\n",
       " '결혼까지 망상했어!',\n",
       " '후궁 스캔들',\n",
       " '하렘에서 살아남기',\n",
       " '마왕의 고백',\n",
       " '장미같은 소리',\n",
       " '몸이 바뀌는 사정',\n",
       " '나의 작은 서점',\n",
       " '위험한 남편을 길들이는 법',\n",
       " '여우애담',\n",
       " '돌&아이',\n",
       " '데빌샷',\n",
       " '전설의 화석',\n",
       " '굿 리스너',\n",
       " '예쁜 사나이',\n",
       " '보통아이',\n",
       " '마도',\n",
       " '생존고백',\n",
       " '보스의 노골적 취향',\n",
       " '내곁엔 없을까',\n",
       " '오른눈이 보는 세계',\n",
       " '사람은 고쳐 쓰는 게 아니야!',\n",
       " '블러드 리벤저',\n",
       " '조선여우스캔들',\n",
       " '신이 담긴 아이',\n",
       " '혀로 만난 사이',\n",
       " '라커, 오프너',\n",
       " '샤인 스타',\n",
       " '6월의 라벤더',\n",
       " '당신의 여자가 되고 싶어요',\n",
       " '철수와 영희 이야기',\n",
       " '밀실 마피아 게임',\n",
       " '아마도, 굿모닝',\n",
       " '독신마법사 기숙아파트',\n",
       " '제타',\n",
       " '거래하실래요',\n",
       " '구해줘, 호구!',\n",
       " '패션쇼',\n",
       " '짝사랑의 유서',\n",
       " 'DARK MOON 달의 제단']"
      ]
     },
     "execution_count": 20,
     "metadata": {},
     "output_type": "execute_result"
    }
   ],
   "source": [
    "title_char = '\\/:*?\"<>|'\n",
    "newtilist = []\n",
    "\n",
    "for title in titlelist:\n",
    "    for char in title_char:\n",
    "        if char in title:\n",
    "            title = title.replace(char,'')\n",
    "    newtilist.append(title)\n",
    "    \n",
    "newtilist    "
   ]
  },
  {
   "cell_type": "code",
   "execution_count": 21,
   "id": "27f30fc4",
   "metadata": {},
   "outputs": [
    {
     "data": {
      "text/html": [
       "<div>\n",
       "<style scoped>\n",
       "    .dataframe tbody tr th:only-of-type {\n",
       "        vertical-align: middle;\n",
       "    }\n",
       "\n",
       "    .dataframe tbody tr th {\n",
       "        vertical-align: top;\n",
       "    }\n",
       "\n",
       "    .dataframe thead th {\n",
       "        text-align: right;\n",
       "    }\n",
       "</style>\n",
       "<table border=\"1\" class=\"dataframe\">\n",
       "  <thead>\n",
       "    <tr style=\"text-align: right;\">\n",
       "      <th></th>\n",
       "      <th>0</th>\n",
       "    </tr>\n",
       "  </thead>\n",
       "  <tbody>\n",
       "    <tr>\n",
       "      <th>0</th>\n",
       "      <td>참교육</td>\n",
       "    </tr>\n",
       "    <tr>\n",
       "      <th>1</th>\n",
       "      <td>신의 탑</td>\n",
       "    </tr>\n",
       "    <tr>\n",
       "      <th>2</th>\n",
       "      <td>뷰티풀 군바리</td>\n",
       "    </tr>\n",
       "    <tr>\n",
       "      <th>3</th>\n",
       "      <td>퀘스트지상주의</td>\n",
       "    </tr>\n",
       "    <tr>\n",
       "      <th>4</th>\n",
       "      <td>윈드브레이커</td>\n",
       "    </tr>\n",
       "    <tr>\n",
       "      <th>...</th>\n",
       "      <td>...</td>\n",
       "    </tr>\n",
       "    <tr>\n",
       "      <th>543</th>\n",
       "      <td>거래하실래요</td>\n",
       "    </tr>\n",
       "    <tr>\n",
       "      <th>544</th>\n",
       "      <td>구해줘, 호구!</td>\n",
       "    </tr>\n",
       "    <tr>\n",
       "      <th>545</th>\n",
       "      <td>패션쇼</td>\n",
       "    </tr>\n",
       "    <tr>\n",
       "      <th>546</th>\n",
       "      <td>짝사랑의 유서</td>\n",
       "    </tr>\n",
       "    <tr>\n",
       "      <th>547</th>\n",
       "      <td>DARK MOON 달의 제단</td>\n",
       "    </tr>\n",
       "  </tbody>\n",
       "</table>\n",
       "<p>548 rows × 1 columns</p>\n",
       "</div>"
      ],
      "text/plain": [
       "                   0\n",
       "0                참교육\n",
       "1               신의 탑\n",
       "2            뷰티풀 군바리\n",
       "3            퀘스트지상주의\n",
       "4             윈드브레이커\n",
       "..               ...\n",
       "543           거래하실래요\n",
       "544         구해줘, 호구!\n",
       "545              패션쇼\n",
       "546          짝사랑의 유서\n",
       "547  DARK MOON 달의 제단\n",
       "\n",
       "[548 rows x 1 columns]"
      ]
     },
     "execution_count": 21,
     "metadata": {},
     "output_type": "execute_result"
    }
   ],
   "source": [
    "pd.DataFrame(newtilist)"
   ]
  },
  {
   "cell_type": "markdown",
   "id": "192044ae",
   "metadata": {},
   "source": [
    "# 3. Covert date to date-time type"
   ]
  },
  {
   "cell_type": "code",
   "execution_count": 29,
   "id": "113c2144",
   "metadata": {},
   "outputs": [],
   "source": [
    "newdatelist = []\n",
    "\n",
    "for date in firstdate:\n",
    "    date = pd.to_datetime(date, format='%Y.%m.%d')\n",
    "    newdatelist.append(date)"
   ]
  },
  {
   "cell_type": "code",
   "execution_count": 46,
   "id": "1040222f",
   "metadata": {},
   "outputs": [
    {
     "name": "stdout",
     "output_type": "stream",
     "text": [
      "-----데이터 타입-----\n",
      "<class 'pandas._libs.tslibs.timestamps.Timestamp'>\n",
      "-----데이터 개수-----\n",
      "548\n",
      "-----데이터 확인-----\n",
      "[Timestamp('2020-11-01 00:00:00'), Timestamp('2010-06-30 00:00:00'), Timestamp('2015-02-15 00:00:00'), Timestamp('2021-10-24 00:00:00'), Timestamp('2013-12-08 00:00:00'), Timestamp('2022-06-05 00:00:00'), Timestamp('2019-05-19 00:00:00'), Timestamp('2015-05-17 00:00:00'), Timestamp('2019-09-01 00:00:00'), Timestamp('2022-06-12 00:00:00')]\n"
     ]
    }
   ],
   "source": [
    "print('-----데이터 타입-----')\n",
    "print(type(newdatelist[0]))\n",
    "print('-----데이터 개수-----')\n",
    "print(len(newdatelist))\n",
    "print('-----데이터 확인-----')\n",
    "print(newdatelist[0:10])"
   ]
  },
  {
   "cell_type": "markdown",
   "id": "a19e9437",
   "metadata": {},
   "source": [
    "## 4. Split Genre\n",
    "Genre1: Episode, Omnibus, Story\\\n",
    "Genre2 : Slice of life, Comedy, Fantasy, Action, Drama, Romance, Emotion, Thriller, Wuxia/Oriental Fantasy"
   ]
  },
  {
   "cell_type": "code",
   "execution_count": 31,
   "id": "61239b61",
   "metadata": {},
   "outputs": [
    {
     "data": {
      "text/plain": [
       "['스토리',\n",
       " '스토리',\n",
       " '스토리',\n",
       " '스토리',\n",
       " '스토리',\n",
       " '스토리',\n",
       " '스토리',\n",
       " '스토리',\n",
       " '스토리',\n",
       " '스토리',\n",
       " '스토리',\n",
       " '스토리',\n",
       " '스토리',\n",
       " '스토리',\n",
       " '스토리',\n",
       " '스토리',\n",
       " '스토리',\n",
       " '스토리',\n",
       " '옴니버스',\n",
       " '스토리',\n",
       " '스토리',\n",
       " '스토리',\n",
       " '스토리',\n",
       " '스토리',\n",
       " '옴니버스',\n",
       " '스토리',\n",
       " '스토리',\n",
       " '스토리',\n",
       " '스토리',\n",
       " '스토리',\n",
       " '스토리',\n",
       " '스토리',\n",
       " '스토리',\n",
       " '에피소드',\n",
       " '스토리',\n",
       " '스토리',\n",
       " '스토리',\n",
       " '스토리',\n",
       " '스토리',\n",
       " '스토리',\n",
       " '스토리',\n",
       " '스토리',\n",
       " '스토리',\n",
       " '스토리',\n",
       " '스토리',\n",
       " '스토리',\n",
       " '스토리',\n",
       " '스토리',\n",
       " '스토리',\n",
       " '스토리',\n",
       " '스토리',\n",
       " '스토리',\n",
       " '스토리',\n",
       " '스토리',\n",
       " '에피소드',\n",
       " '스토리',\n",
       " '스토리',\n",
       " '스토리',\n",
       " '스토리',\n",
       " '스토리',\n",
       " '스토리',\n",
       " '스토리',\n",
       " '스토리',\n",
       " '스토리',\n",
       " '스토리',\n",
       " '스토리',\n",
       " '스토리',\n",
       " '스토리',\n",
       " '스토리',\n",
       " '스토리',\n",
       " '스토리',\n",
       " '스토리',\n",
       " '스토리',\n",
       " '스토리',\n",
       " '스토리',\n",
       " '스토리',\n",
       " '스토리',\n",
       " '스토리',\n",
       " '스토리',\n",
       " '스토리',\n",
       " '스토리',\n",
       " '스토리',\n",
       " '에피소드',\n",
       " '에피소드',\n",
       " '스토리',\n",
       " '스토리',\n",
       " '스토리',\n",
       " '스토리',\n",
       " '스토리',\n",
       " '에피소드',\n",
       " '스토리',\n",
       " '스토리',\n",
       " '스토리',\n",
       " '스토리',\n",
       " '스토리',\n",
       " '스토리',\n",
       " '스토리',\n",
       " '스토리',\n",
       " '에피소드',\n",
       " '스토리',\n",
       " '스토리',\n",
       " '에피소드',\n",
       " '에피소드',\n",
       " '스토리',\n",
       " '옴니버스',\n",
       " '스토리',\n",
       " '스토리',\n",
       " '스토리',\n",
       " '스토리',\n",
       " '스토리',\n",
       " '스토리',\n",
       " '스토리',\n",
       " '스토리',\n",
       " '스토리',\n",
       " '스토리',\n",
       " '스토리',\n",
       " '스토리',\n",
       " '스토리',\n",
       " '스토리',\n",
       " '스토리',\n",
       " '스토리',\n",
       " '스토리',\n",
       " '스토리',\n",
       " '스토리',\n",
       " '스토리',\n",
       " '스토리',\n",
       " '스토리',\n",
       " '스토리',\n",
       " '스토리',\n",
       " '스토리',\n",
       " '스토리',\n",
       " '스토리',\n",
       " '스토리',\n",
       " '스토리',\n",
       " '스토리',\n",
       " '스토리',\n",
       " '스토리',\n",
       " '스토리',\n",
       " '스토리',\n",
       " '스토리',\n",
       " '에피소드',\n",
       " '스토리',\n",
       " '스토리',\n",
       " '옴니버스',\n",
       " '스토리',\n",
       " '스토리',\n",
       " '스토리',\n",
       " '스토리',\n",
       " '스토리',\n",
       " '스토리',\n",
       " '스토리',\n",
       " '스토리',\n",
       " '스토리',\n",
       " '스토리',\n",
       " '스토리',\n",
       " '스토리',\n",
       " '스토리',\n",
       " '스토리',\n",
       " '스토리',\n",
       " '스토리',\n",
       " '스토리',\n",
       " '스토리',\n",
       " '스토리',\n",
       " '스토리',\n",
       " '옴니버스',\n",
       " '스토리',\n",
       " '에피소드',\n",
       " '스토리',\n",
       " '스토리',\n",
       " '스토리',\n",
       " '스토리',\n",
       " '옴니버스',\n",
       " '스토리',\n",
       " '스토리',\n",
       " '에피소드',\n",
       " '스토리',\n",
       " '스토리',\n",
       " '스토리',\n",
       " '스토리',\n",
       " '스토리',\n",
       " '에피소드',\n",
       " '스토리',\n",
       " '스토리',\n",
       " '스토리',\n",
       " '스토리',\n",
       " '스토리',\n",
       " '스토리',\n",
       " '스토리',\n",
       " '스토리',\n",
       " '스토리',\n",
       " '스토리',\n",
       " '에피소드',\n",
       " '스토리',\n",
       " '스토리',\n",
       " '스토리',\n",
       " '스토리',\n",
       " '스토리',\n",
       " '스토리',\n",
       " '에피소드',\n",
       " '스토리',\n",
       " '스토리',\n",
       " '스토리',\n",
       " '스토리',\n",
       " '스토리',\n",
       " '스토리',\n",
       " '스토리',\n",
       " '스토리',\n",
       " '스토리',\n",
       " '스토리',\n",
       " '스토리',\n",
       " '스토리',\n",
       " '스토리',\n",
       " '스토리',\n",
       " '스토리',\n",
       " '스토리',\n",
       " '스토리',\n",
       " '스토리',\n",
       " '스토리',\n",
       " '스토리',\n",
       " '스토리',\n",
       " '스토리',\n",
       " '스토리',\n",
       " '스토리',\n",
       " '스토리',\n",
       " '스토리',\n",
       " '스토리',\n",
       " '스토리',\n",
       " '스토리',\n",
       " '스토리',\n",
       " '스토리',\n",
       " '스토리',\n",
       " '스토리',\n",
       " '스토리',\n",
       " '스토리',\n",
       " '스토리',\n",
       " '에피소드',\n",
       " '스토리',\n",
       " '스토리',\n",
       " '스토리',\n",
       " '스토리',\n",
       " '에피소드',\n",
       " '스토리',\n",
       " '스토리',\n",
       " '스토리',\n",
       " '스토리',\n",
       " '스토리',\n",
       " '스토리',\n",
       " '스토리',\n",
       " '스토리',\n",
       " '스토리',\n",
       " '스토리',\n",
       " '스토리',\n",
       " '스토리',\n",
       " '스토리',\n",
       " '스토리',\n",
       " '스토리',\n",
       " '스토리',\n",
       " '스토리',\n",
       " '스토리',\n",
       " '스토리',\n",
       " '스토리',\n",
       " '스토리',\n",
       " '스토리',\n",
       " '스토리',\n",
       " '스토리',\n",
       " '스토리',\n",
       " '스토리',\n",
       " '스토리',\n",
       " '스토리',\n",
       " '스토리',\n",
       " '에피소드',\n",
       " '스토리',\n",
       " '스토리',\n",
       " '스토리',\n",
       " '스토리',\n",
       " '에피소드',\n",
       " '스토리',\n",
       " '스토리',\n",
       " '스토리',\n",
       " '스토리',\n",
       " '스토리',\n",
       " '스토리',\n",
       " '스토리',\n",
       " '스토리',\n",
       " '스토리',\n",
       " '스토리',\n",
       " '스토리',\n",
       " '스토리',\n",
       " '스토리',\n",
       " '스토리',\n",
       " '스토리',\n",
       " '스토리',\n",
       " '스토리',\n",
       " '스토리',\n",
       " '스토리',\n",
       " '스토리',\n",
       " '스토리',\n",
       " '스토리',\n",
       " '스토리',\n",
       " '스토리',\n",
       " '스토리',\n",
       " '스토리',\n",
       " '스토리',\n",
       " '에피소드',\n",
       " '스토리',\n",
       " '스토리',\n",
       " '스토리',\n",
       " '스토리',\n",
       " '스토리',\n",
       " '스토리',\n",
       " '스토리',\n",
       " '스토리',\n",
       " '스토리',\n",
       " '스토리',\n",
       " '스토리',\n",
       " '스토리',\n",
       " '스토리',\n",
       " '스토리',\n",
       " '스토리',\n",
       " '스토리',\n",
       " '스토리',\n",
       " '스토리',\n",
       " '스토리',\n",
       " '스토리',\n",
       " '스토리',\n",
       " '스토리',\n",
       " '스토리',\n",
       " '스토리',\n",
       " '스토리',\n",
       " '스토리',\n",
       " '스토리',\n",
       " '스토리',\n",
       " '스토리',\n",
       " '스토리',\n",
       " '스토리',\n",
       " '스토리',\n",
       " '스토리',\n",
       " '스토리',\n",
       " '스토리',\n",
       " '스토리',\n",
       " '스토리',\n",
       " '스토리',\n",
       " '스토리',\n",
       " '스토리',\n",
       " '스토리',\n",
       " '스토리',\n",
       " '스토리',\n",
       " '스토리',\n",
       " '스토리',\n",
       " '스토리',\n",
       " '스토리',\n",
       " '스토리',\n",
       " '스토리',\n",
       " '스토리',\n",
       " '스토리',\n",
       " '스토리',\n",
       " '스토리',\n",
       " '스토리',\n",
       " '스토리',\n",
       " '옴니버스',\n",
       " '스토리',\n",
       " '스토리',\n",
       " '스토리',\n",
       " '스토리',\n",
       " '스토리',\n",
       " '스토리',\n",
       " '스토리',\n",
       " '스토리',\n",
       " '스토리',\n",
       " '스토리',\n",
       " '스토리',\n",
       " '스토리',\n",
       " '스토리',\n",
       " '스토리',\n",
       " '스토리',\n",
       " '스토리',\n",
       " '스토리',\n",
       " '스토리',\n",
       " '스토리',\n",
       " '스토리',\n",
       " '스토리',\n",
       " '스토리',\n",
       " '스토리',\n",
       " '스토리',\n",
       " '스토리',\n",
       " '스토리',\n",
       " '스토리',\n",
       " '스토리',\n",
       " '스토리',\n",
       " '스토리',\n",
       " '스토리',\n",
       " '스토리',\n",
       " '스토리',\n",
       " '스토리',\n",
       " '스토리',\n",
       " '스토리',\n",
       " '스토리',\n",
       " '스토리',\n",
       " '스토리',\n",
       " '스토리',\n",
       " '스토리',\n",
       " '스토리',\n",
       " '스토리',\n",
       " '스토리',\n",
       " '스토리',\n",
       " '스토리',\n",
       " '스토리',\n",
       " '스토리',\n",
       " '스토리',\n",
       " '스토리',\n",
       " '에피소드',\n",
       " '스토리',\n",
       " '스토리',\n",
       " '스토리',\n",
       " '스토리',\n",
       " '스토리',\n",
       " '스토리',\n",
       " '스토리',\n",
       " '스토리',\n",
       " '스토리',\n",
       " '스토리',\n",
       " '스토리',\n",
       " '스토리',\n",
       " '스토리',\n",
       " '에피소드',\n",
       " '스토리',\n",
       " '스토리',\n",
       " '스토리',\n",
       " '스토리',\n",
       " '스토리',\n",
       " '스토리',\n",
       " '스토리',\n",
       " '스토리',\n",
       " '스토리',\n",
       " '스토리',\n",
       " '스토리',\n",
       " '스토리',\n",
       " '스토리',\n",
       " '스토리',\n",
       " '스토리',\n",
       " '스토리',\n",
       " '스토리',\n",
       " '스토리',\n",
       " '스토리',\n",
       " '스토리',\n",
       " '스토리',\n",
       " '스토리',\n",
       " '스토리',\n",
       " '스토리',\n",
       " '스토리',\n",
       " '옴니버스',\n",
       " '에피소드',\n",
       " '스토리',\n",
       " '스토리',\n",
       " '스토리',\n",
       " '스토리',\n",
       " '스토리',\n",
       " '스토리',\n",
       " '스토리',\n",
       " '스토리',\n",
       " '스토리',\n",
       " '스토리',\n",
       " '스토리',\n",
       " '스토리',\n",
       " '스토리',\n",
       " '스토리',\n",
       " '스토리',\n",
       " '스토리',\n",
       " '스토리',\n",
       " '스토리',\n",
       " '스토리',\n",
       " '스토리',\n",
       " '스토리',\n",
       " '스토리',\n",
       " '스토리',\n",
       " '에피소드',\n",
       " '스토리',\n",
       " '스토리',\n",
       " '스토리',\n",
       " '스토리',\n",
       " '스토리',\n",
       " '스토리',\n",
       " '스토리',\n",
       " '스토리',\n",
       " '옴니버스',\n",
       " '스토리',\n",
       " '옴니버스',\n",
       " '스토리',\n",
       " '에피소드',\n",
       " '스토리',\n",
       " '스토리',\n",
       " '스토리',\n",
       " '스토리',\n",
       " '스토리',\n",
       " '스토리',\n",
       " '스토리',\n",
       " '스토리',\n",
       " '스토리',\n",
       " '스토리',\n",
       " '스토리',\n",
       " '스토리',\n",
       " '스토리',\n",
       " '스토리',\n",
       " '스토리',\n",
       " '스토리',\n",
       " '스토리',\n",
       " '스토리',\n",
       " '스토리',\n",
       " '에피소드',\n",
       " '스토리',\n",
       " '스토리',\n",
       " '스토리',\n",
       " '스토리',\n",
       " '스토리',\n",
       " '스토리',\n",
       " '스토리',\n",
       " '스토리',\n",
       " '에피소드',\n",
       " '스토리',\n",
       " '스토리',\n",
       " '스토리',\n",
       " '옴니버스',\n",
       " '스토리',\n",
       " '스토리',\n",
       " '스토리',\n",
       " '스토리',\n",
       " '스토리',\n",
       " '스토리',\n",
       " '스토리',\n",
       " '스토리',\n",
       " '스토리',\n",
       " '스토리',\n",
       " '스토리',\n",
       " '에피소드',\n",
       " '스토리',\n",
       " '스토리',\n",
       " '스토리',\n",
       " '스토리',\n",
       " '스토리',\n",
       " '스토리',\n",
       " '스토리',\n",
       " '스토리',\n",
       " '스토리',\n",
       " '스토리',\n",
       " '스토리',\n",
       " '스토리',\n",
       " '스토리',\n",
       " '스토리']"
      ]
     },
     "execution_count": 31,
     "metadata": {},
     "output_type": "execute_result"
    }
   ],
   "source": [
    "newgenlist1 = []\n",
    "newgenlist2 = []\n",
    "\n",
    "for genre in genrelist:\n",
    "    gen = genre.split(',')\n",
    "    newgenlist1.append(gen[0])\n",
    "    newgenlist2.append(gen[1])\n",
    "    \n",
    "newgenlist1 "
   ]
  },
  {
   "cell_type": "code",
   "execution_count": 32,
   "id": "7329dc71",
   "metadata": {},
   "outputs": [
    {
     "data": {
      "text/html": [
       "<div>\n",
       "<style scoped>\n",
       "    .dataframe tbody tr th:only-of-type {\n",
       "        vertical-align: middle;\n",
       "    }\n",
       "\n",
       "    .dataframe tbody tr th {\n",
       "        vertical-align: top;\n",
       "    }\n",
       "\n",
       "    .dataframe thead th {\n",
       "        text-align: right;\n",
       "    }\n",
       "</style>\n",
       "<table border=\"1\" class=\"dataframe\">\n",
       "  <thead>\n",
       "    <tr style=\"text-align: right;\">\n",
       "      <th></th>\n",
       "      <th>Day1</th>\n",
       "      <th>Day2</th>\n",
       "    </tr>\n",
       "  </thead>\n",
       "  <tbody>\n",
       "    <tr>\n",
       "      <th>0</th>\n",
       "      <td>스토리</td>\n",
       "      <td>액션</td>\n",
       "    </tr>\n",
       "    <tr>\n",
       "      <th>1</th>\n",
       "      <td>스토리</td>\n",
       "      <td>판타지</td>\n",
       "    </tr>\n",
       "    <tr>\n",
       "      <th>2</th>\n",
       "      <td>스토리</td>\n",
       "      <td>드라마</td>\n",
       "    </tr>\n",
       "    <tr>\n",
       "      <th>3</th>\n",
       "      <td>스토리</td>\n",
       "      <td>드라마</td>\n",
       "    </tr>\n",
       "    <tr>\n",
       "      <th>4</th>\n",
       "      <td>스토리</td>\n",
       "      <td>스포츠</td>\n",
       "    </tr>\n",
       "    <tr>\n",
       "      <th>...</th>\n",
       "      <td>...</td>\n",
       "      <td>...</td>\n",
       "    </tr>\n",
       "    <tr>\n",
       "      <th>543</th>\n",
       "      <td>스토리</td>\n",
       "      <td>로맨스</td>\n",
       "    </tr>\n",
       "    <tr>\n",
       "      <th>544</th>\n",
       "      <td>스토리</td>\n",
       "      <td>로맨스</td>\n",
       "    </tr>\n",
       "    <tr>\n",
       "      <th>545</th>\n",
       "      <td>스토리</td>\n",
       "      <td>드라마</td>\n",
       "    </tr>\n",
       "    <tr>\n",
       "      <th>546</th>\n",
       "      <td>스토리</td>\n",
       "      <td>로맨스</td>\n",
       "    </tr>\n",
       "    <tr>\n",
       "      <th>547</th>\n",
       "      <td>스토리</td>\n",
       "      <td>판타지</td>\n",
       "    </tr>\n",
       "  </tbody>\n",
       "</table>\n",
       "<p>548 rows × 2 columns</p>\n",
       "</div>"
      ],
      "text/plain": [
       "    Day1  Day2\n",
       "0    스토리    액션\n",
       "1    스토리   판타지\n",
       "2    스토리   드라마\n",
       "3    스토리   드라마\n",
       "4    스토리   스포츠\n",
       "..   ...   ...\n",
       "543  스토리   로맨스\n",
       "544  스토리   로맨스\n",
       "545  스토리   드라마\n",
       "546  스토리   로맨스\n",
       "547  스토리   판타지\n",
       "\n",
       "[548 rows x 2 columns]"
      ]
     },
     "execution_count": 32,
     "metadata": {},
     "output_type": "execute_result"
    }
   ],
   "source": [
    "df_gen = pd.DataFrame(columns=cols)\n",
    "df_gen['Day1'] = newgenlist1\n",
    "df_gen['Day2'] = newgenlist2\n",
    "df_gen"
   ]
  },
  {
   "cell_type": "markdown",
   "id": "1955726d",
   "metadata": {},
   "source": [
    "## 5. Remove enter in Content"
   ]
  },
  {
   "cell_type": "code",
   "execution_count": 33,
   "id": "df6219e3",
   "metadata": {},
   "outputs": [
    {
     "data": {
      "text/plain": [
       "'무너진 교권을 지키기 위해 교권보호국 소속 나화진의 참교육이 시작된다!\\n<부활남> 채용택 작가 X <신석기녀> 한가람 작가의 신작!'"
      ]
     },
     "execution_count": 33,
     "metadata": {},
     "output_type": "execute_result"
    }
   ],
   "source": [
    "contentlist[0]"
   ]
  },
  {
   "cell_type": "code",
   "execution_count": 34,
   "id": "888a64d0",
   "metadata": {},
   "outputs": [
    {
     "data": {
      "text/plain": [
       "'무너진 교권을 지키기 위해 교권보호국 소속 나화진의 참교육이 시작된다! <부활남> 채용택 작가 X <신석기녀> 한가람 작가의 신작!'"
      ]
     },
     "execution_count": 34,
     "metadata": {},
     "output_type": "execute_result"
    }
   ],
   "source": [
    "content_char = '\\n'\n",
    "newcontlist = []\n",
    "\n",
    "for char in content_char:\n",
    "    for content in contentlist:\n",
    "        if char in content:\n",
    "            content = content.replace(char,' ')\n",
    "            newcontlist.append(content)\n",
    "        else:\n",
    "            newcontlist.append(content)\n",
    "        \n",
    "newcontlist[0]"
   ]
  },
  {
   "cell_type": "code",
   "execution_count": 35,
   "id": "7c27fa05",
   "metadata": {},
   "outputs": [
    {
     "data": {
      "text/html": [
       "<div>\n",
       "<style scoped>\n",
       "    .dataframe tbody tr th:only-of-type {\n",
       "        vertical-align: middle;\n",
       "    }\n",
       "\n",
       "    .dataframe tbody tr th {\n",
       "        vertical-align: top;\n",
       "    }\n",
       "\n",
       "    .dataframe thead th {\n",
       "        text-align: right;\n",
       "    }\n",
       "</style>\n",
       "<table border=\"1\" class=\"dataframe\">\n",
       "  <thead>\n",
       "    <tr style=\"text-align: right;\">\n",
       "      <th></th>\n",
       "      <th>0</th>\n",
       "    </tr>\n",
       "  </thead>\n",
       "  <tbody>\n",
       "    <tr>\n",
       "      <th>0</th>\n",
       "      <td>무너진 교권을 지키기 위해 교권보호국 소속 나화진의 참교육이 시작된다! &lt;부활남&gt; ...</td>\n",
       "    </tr>\n",
       "    <tr>\n",
       "      <th>1</th>\n",
       "      <td>자신의 모든 것이었던 소녀를 쫓아 탑에 들어온 소년 그리고 그런 소년을 시험하는 탑</td>\n",
       "    </tr>\n",
       "    <tr>\n",
       "      <th>2</th>\n",
       "      <td>'여자도 군대에 간다면?'본격 여자도 군대 가는 만화!</td>\n",
       "    </tr>\n",
       "    <tr>\n",
       "      <th>3</th>\n",
       "      <td>[외모지상주의], [싸움독학], [인생존망]과 세계관을 공유하는 작품! 공부, 싸움...</td>\n",
       "    </tr>\n",
       "    <tr>\n",
       "      <th>4</th>\n",
       "      <td>혼자서 자전거를 즐겨타던 모범생 조자현. 원치 않게 자전거 크루의 일에 자꾸 휘말리...</td>\n",
       "    </tr>\n",
       "    <tr>\n",
       "      <th>...</th>\n",
       "      <td>...</td>\n",
       "    </tr>\n",
       "    <tr>\n",
       "      <th>543</th>\n",
       "      <td>새로운 사랑은 중고거래로 장만하세요(?!) 남친과 헤어진 후, 추억의 물건을 중고거...</td>\n",
       "    </tr>\n",
       "    <tr>\n",
       "      <th>544</th>\n",
       "      <td>세상에서 착한 게 제일 싫은 준영은 '자타공인 청정호구' 산호가 자꾸 거슬린다. 취...</td>\n",
       "    </tr>\n",
       "    <tr>\n",
       "      <th>545</th>\n",
       "      <td>세상에 찌든 수학교사, 남극에게는 사실 독특한 취미가 있다. 그런데, 그보다 더 독...</td>\n",
       "    </tr>\n",
       "    <tr>\n",
       "      <th>546</th>\n",
       "      <td>민결은 단골카페 사장님의 동생인 태은을 1년동안 짝사랑 하던 중, 태은에게서 편지 ...</td>\n",
       "    </tr>\n",
       "    <tr>\n",
       "      <th>547</th>\n",
       "      <td>누구도 사랑할 수 없는 뱀파이어와 한 명밖에 사랑할 수 없는 늑대인간. 리버필드 지...</td>\n",
       "    </tr>\n",
       "  </tbody>\n",
       "</table>\n",
       "<p>548 rows × 1 columns</p>\n",
       "</div>"
      ],
      "text/plain": [
       "                                                     0\n",
       "0    무너진 교권을 지키기 위해 교권보호국 소속 나화진의 참교육이 시작된다! <부활남> ...\n",
       "1       자신의 모든 것이었던 소녀를 쫓아 탑에 들어온 소년 그리고 그런 소년을 시험하는 탑\n",
       "2                       '여자도 군대에 간다면?'본격 여자도 군대 가는 만화!\n",
       "3    [외모지상주의], [싸움독학], [인생존망]과 세계관을 공유하는 작품! 공부, 싸움...\n",
       "4    혼자서 자전거를 즐겨타던 모범생 조자현. 원치 않게 자전거 크루의 일에 자꾸 휘말리...\n",
       "..                                                 ...\n",
       "543  새로운 사랑은 중고거래로 장만하세요(?!) 남친과 헤어진 후, 추억의 물건을 중고거...\n",
       "544  세상에서 착한 게 제일 싫은 준영은 '자타공인 청정호구' 산호가 자꾸 거슬린다. 취...\n",
       "545  세상에 찌든 수학교사, 남극에게는 사실 독특한 취미가 있다. 그런데, 그보다 더 독...\n",
       "546  민결은 단골카페 사장님의 동생인 태은을 1년동안 짝사랑 하던 중, 태은에게서 편지 ...\n",
       "547  누구도 사랑할 수 없는 뱀파이어와 한 명밖에 사랑할 수 없는 늑대인간. 리버필드 지...\n",
       "\n",
       "[548 rows x 1 columns]"
      ]
     },
     "execution_count": 35,
     "metadata": {},
     "output_type": "execute_result"
    }
   ],
   "source": [
    "pd.DataFrame(newcontlist)"
   ]
  },
  {
   "cell_type": "markdown",
   "id": "b96da34a",
   "metadata": {},
   "source": [
    "## 6. Convert Web Like to Integer type"
   ]
  },
  {
   "cell_type": "code",
   "execution_count": 37,
   "id": "57b17d65",
   "metadata": {},
   "outputs": [],
   "source": [
    "wl_char = ',+'\n",
    "newwllist = []\n",
    "\n",
    "for like in likelist1:\n",
    "    for char in wl_char:\n",
    "        if char in like:\n",
    "            like = like.replace(char,'')\n",
    "        else:\n",
    "            pass\n",
    "    like = int(like)\n",
    "    newwllist.append(like)"
   ]
  },
  {
   "cell_type": "code",
   "execution_count": 45,
   "id": "e58842a1",
   "metadata": {},
   "outputs": [
    {
     "name": "stdout",
     "output_type": "stream",
     "text": [
      "-----데이터 타입-----\n",
      "<class 'int'>\n",
      "-----데이터 개수-----\n",
      "548\n",
      "-----데이터 확인-----\n",
      "[20274, 99999, 99999, 1376, 99999, 708, 80404, 99999, 99999, 276]\n"
     ]
    }
   ],
   "source": [
    "print('-----데이터 타입-----')\n",
    "print(type(newwllist[0]))\n",
    "print('-----데이터 개수-----')\n",
    "print(len(newwllist))\n",
    "print('-----데이터 확인-----')\n",
    "print(newwllist[0:10])"
   ]
  },
  {
   "cell_type": "markdown",
   "id": "6ca51d10",
   "metadata": {},
   "source": [
    "## 7. Convert Mobile Like to Integer type"
   ]
  },
  {
   "cell_type": "code",
   "execution_count": 40,
   "id": "4a24e8f7",
   "metadata": {},
   "outputs": [
    {
     "data": {
      "text/plain": [
       "10만     203\n",
       "1만      185\n",
       "5만      127\n",
       "50만      16\n",
       "1천        8\n",
       "100만      6\n",
       "200만      3\n",
       "Name: Mobile Like, dtype: int64"
      ]
     },
     "execution_count": 40,
     "metadata": {},
     "output_type": "execute_result"
    }
   ],
   "source": [
    "df['Mobile Like'].value_counts()"
   ]
  },
  {
   "cell_type": "code",
   "execution_count": 42,
   "id": "f0bde122",
   "metadata": {},
   "outputs": [],
   "source": [
    "newmllist = []\n",
    "\n",
    "for like in likelist2:\n",
    "    if ('만' in df['Mobile Like'][0]):\n",
    "        like = re.findall('\\d+', like)\n",
    "        like = like[0] + str('0000')\n",
    "        like = int(like)\n",
    "    else:\n",
    "        like = re.findall('\\d+', like)\n",
    "        like = like[0] + str('000')\n",
    "        like = int(like)\n",
    "    newmllist.append(like)"
   ]
  },
  {
   "cell_type": "code",
   "execution_count": 44,
   "id": "ed8f03cf",
   "metadata": {},
   "outputs": [
    {
     "name": "stdout",
     "output_type": "stream",
     "text": [
      "-----데이터 타입-----\n",
      "<class 'int'>\n",
      "-----데이터 개수-----\n",
      "548\n",
      "-----데이터 확인-----\n",
      "[1000000, 100000, 100000, 100000, 100000, 100000, 100000, 500000, 100000, 100000]\n"
     ]
    }
   ],
   "source": [
    "print('-----데이터 타입-----')\n",
    "print(type(newmllist[0]))\n",
    "print('-----데이터 개수-----')\n",
    "print(len(newmllist))\n",
    "print('-----데이터 확인-----')\n",
    "print(newmllist[0:10])"
   ]
  },
  {
   "cell_type": "markdown",
   "id": "129ffc44",
   "metadata": {},
   "source": [
    "## 8. Convert Rating to Float type"
   ]
  },
  {
   "cell_type": "code",
   "execution_count": 48,
   "id": "44053230",
   "metadata": {},
   "outputs": [],
   "source": [
    "newstarlist = []\n",
    "for star in starlist:\n",
    "    star = float(star)\n",
    "    newstarlist.append(star)"
   ]
  },
  {
   "cell_type": "code",
   "execution_count": 49,
   "id": "a0e83b06",
   "metadata": {},
   "outputs": [
    {
     "name": "stdout",
     "output_type": "stream",
     "text": [
      "-----데이터 타입-----\n",
      "<class 'float'>\n",
      "-----데이터 개수-----\n",
      "548\n",
      "-----데이터 확인-----\n",
      "[9.86, 9.89, 9.8, 9.78, 9.84, 9.98, 9.94, 9.93, 9.83, 9.89]\n"
     ]
    }
   ],
   "source": [
    "print('-----데이터 타입-----')\n",
    "print(type(newstarlist[0]))\n",
    "print('-----데이터 개수-----')\n",
    "print(len(newstarlist))\n",
    "print('-----데이터 확인-----')\n",
    "print(newstarlist[0:10])"
   ]
  },
  {
   "cell_type": "markdown",
   "id": "e65877f3",
   "metadata": {},
   "source": [
    "## 9. Categorize Form\n",
    "0: Scroll, 1: Cut-toon"
   ]
  },
  {
   "cell_type": "code",
   "execution_count": 50,
   "id": "ef0d975f",
   "metadata": {},
   "outputs": [],
   "source": [
    "newformlist = []\n",
    "\n",
    "for form in formlist:\n",
    "    if (form == '스크롤'):\n",
    "        form = 0\n",
    "    else:\n",
    "        form = 1\n",
    "    newformlist.append(form)"
   ]
  },
  {
   "cell_type": "code",
   "execution_count": 51,
   "id": "979f2037",
   "metadata": {},
   "outputs": [
    {
     "name": "stdout",
     "output_type": "stream",
     "text": [
      "-----데이터 타입-----\n",
      "<class 'int'>\n",
      "-----데이터 개수-----\n",
      "548\n",
      "-----데이터 확인-----\n",
      "[0, 0, 0, 0, 0, 1, 0, 0, 0, 0]\n"
     ]
    }
   ],
   "source": [
    "print('-----데이터 타입-----')\n",
    "print(type(newformlist[0]))\n",
    "print('-----데이터 개수-----')\n",
    "print(len(newformlist))\n",
    "print('-----데이터 확인-----')\n",
    "print(newformlist[0:10])"
   ]
  },
  {
   "cell_type": "code",
   "execution_count": 52,
   "id": "16097887",
   "metadata": {},
   "outputs": [
    {
     "data": {
      "text/plain": [
       "0    539\n",
       "1      9\n",
       "dtype: int64"
      ]
     },
     "execution_count": 52,
     "metadata": {},
     "output_type": "execute_result"
    }
   ],
   "source": [
    "pd.DataFrame(newformlist).value_counts()"
   ]
  },
  {
   "cell_type": "code",
   "execution_count": null,
   "id": "2ba94c16",
   "metadata": {
    "scrolled": false
   },
   "outputs": [],
   "source": [
    "# Create the final dataframe and visualize\n",
    "cols = []\n",
    "webtoon = pd.DataFrame(columns=cols)\n",
    "\n",
    "webtoon['ID'] = newidlist\n",
    "webtoon['Title'] = newtilist \n",
    "webtoon['Author'] = authorlist\n",
    "\n",
    "webtoon['Day'] = daylist\n",
    "webtoon['First Date'] = newdatelist\n",
    "\n",
    "webtoon['Genre1'] = newgenlist1\n",
    "webtoon['Genre2'] = newgenlist2\n",
    "\n",
    "webtoon['Content'] = newcontlist\n",
    "\n",
    "webtoon['Web Like'] = newwllist\n",
    "webtoon['Mobile Like'] = newmllist\n",
    "webtoon['Star'] = newstarlist\n",
    "\n",
    "webtoon['Age'] = agelist\n",
    "webtoon['Form'] = newformlist\n",
    "webtoon['Imgsrc'] = imglist"
   ]
  },
  {
   "cell_type": "code",
   "execution_count": 57,
   "id": "b2ae4e92",
   "metadata": {},
   "outputs": [
    {
     "data": {
      "text/html": [
       "<div>\n",
       "<style scoped>\n",
       "    .dataframe tbody tr th:only-of-type {\n",
       "        vertical-align: middle;\n",
       "    }\n",
       "\n",
       "    .dataframe tbody tr th {\n",
       "        vertical-align: top;\n",
       "    }\n",
       "\n",
       "    .dataframe thead th {\n",
       "        text-align: right;\n",
       "    }\n",
       "</style>\n",
       "<table border=\"1\" class=\"dataframe\">\n",
       "  <thead>\n",
       "    <tr style=\"text-align: right;\">\n",
       "      <th></th>\n",
       "      <th>Title</th>\n",
       "      <th>Author</th>\n",
       "      <th>Day</th>\n",
       "      <th>First Date</th>\n",
       "      <th>Genre1</th>\n",
       "      <th>Genre2</th>\n",
       "      <th>Content</th>\n",
       "      <th>Web Like</th>\n",
       "      <th>Mobile Like</th>\n",
       "      <th>Star</th>\n",
       "      <th>Age</th>\n",
       "      <th>Form</th>\n",
       "      <th>Imgsrc</th>\n",
       "    </tr>\n",
       "    <tr>\n",
       "      <th>ID</th>\n",
       "      <th></th>\n",
       "      <th></th>\n",
       "      <th></th>\n",
       "      <th></th>\n",
       "      <th></th>\n",
       "      <th></th>\n",
       "      <th></th>\n",
       "      <th></th>\n",
       "      <th></th>\n",
       "      <th></th>\n",
       "      <th></th>\n",
       "      <th></th>\n",
       "      <th></th>\n",
       "    </tr>\n",
       "  </thead>\n",
       "  <tbody>\n",
       "    <tr>\n",
       "      <th>758037</th>\n",
       "      <td>참교육</td>\n",
       "      <td>채용택 / 한가람</td>\n",
       "      <td>mon</td>\n",
       "      <td>2020-11-01</td>\n",
       "      <td>스토리</td>\n",
       "      <td>액션</td>\n",
       "      <td>무너진 교권을 지키기 위해 교권보호국 소속 나화진의 참교육이 시작된다! &lt;부활남&gt; ...</td>\n",
       "      <td>20274</td>\n",
       "      <td>1000000</td>\n",
       "      <td>9.86</td>\n",
       "      <td>15세 이용가</td>\n",
       "      <td>0</td>\n",
       "      <td>https://shared-comic.pstatic.net/thumb/webtoon...</td>\n",
       "    </tr>\n",
       "    <tr>\n",
       "      <th>183559</th>\n",
       "      <td>신의 탑</td>\n",
       "      <td>SIU</td>\n",
       "      <td>mon</td>\n",
       "      <td>2010-06-30</td>\n",
       "      <td>스토리</td>\n",
       "      <td>판타지</td>\n",
       "      <td>자신의 모든 것이었던 소녀를 쫓아 탑에 들어온 소년 그리고 그런 소년을 시험하는 탑</td>\n",
       "      <td>99999</td>\n",
       "      <td>100000</td>\n",
       "      <td>9.89</td>\n",
       "      <td>12세 이용가</td>\n",
       "      <td>0</td>\n",
       "      <td>https://shared-comic.pstatic.net/thumb/webtoon...</td>\n",
       "    </tr>\n",
       "    <tr>\n",
       "      <th>648419</th>\n",
       "      <td>뷰티풀 군바리</td>\n",
       "      <td>설이 / 윤성원</td>\n",
       "      <td>mon</td>\n",
       "      <td>2015-02-15</td>\n",
       "      <td>스토리</td>\n",
       "      <td>드라마</td>\n",
       "      <td>'여자도 군대에 간다면?'본격 여자도 군대 가는 만화!</td>\n",
       "      <td>99999</td>\n",
       "      <td>100000</td>\n",
       "      <td>9.80</td>\n",
       "      <td>15세 이용가</td>\n",
       "      <td>0</td>\n",
       "      <td>https://shared-comic.pstatic.net/thumb/webtoon...</td>\n",
       "    </tr>\n",
       "    <tr>\n",
       "      <th>783052</th>\n",
       "      <td>퀘스트지상주의</td>\n",
       "      <td>박태준 만화회사</td>\n",
       "      <td>mon</td>\n",
       "      <td>2021-10-24</td>\n",
       "      <td>스토리</td>\n",
       "      <td>드라마</td>\n",
       "      <td>[외모지상주의], [싸움독학], [인생존망]과 세계관을 공유하는 작품! 공부, 싸움...</td>\n",
       "      <td>1376</td>\n",
       "      <td>100000</td>\n",
       "      <td>9.78</td>\n",
       "      <td>15세 이용가</td>\n",
       "      <td>0</td>\n",
       "      <td>https://shared-comic.pstatic.net/thumb/webtoon...</td>\n",
       "    </tr>\n",
       "    <tr>\n",
       "      <th>602910</th>\n",
       "      <td>윈드브레이커</td>\n",
       "      <td>조용석</td>\n",
       "      <td>mon</td>\n",
       "      <td>2013-12-08</td>\n",
       "      <td>스토리</td>\n",
       "      <td>스포츠</td>\n",
       "      <td>혼자서 자전거를 즐겨타던 모범생 조자현. 원치 않게 자전거 크루의 일에 자꾸 휘말리...</td>\n",
       "      <td>99999</td>\n",
       "      <td>100000</td>\n",
       "      <td>9.84</td>\n",
       "      <td>12세 이용가</td>\n",
       "      <td>0</td>\n",
       "      <td>https://shared-comic.pstatic.net/thumb/webtoon...</td>\n",
       "    </tr>\n",
       "    <tr>\n",
       "      <th>...</th>\n",
       "      <td>...</td>\n",
       "      <td>...</td>\n",
       "      <td>...</td>\n",
       "      <td>...</td>\n",
       "      <td>...</td>\n",
       "      <td>...</td>\n",
       "      <td>...</td>\n",
       "      <td>...</td>\n",
       "      <td>...</td>\n",
       "      <td>...</td>\n",
       "      <td>...</td>\n",
       "      <td>...</td>\n",
       "      <td>...</td>\n",
       "    </tr>\n",
       "    <tr>\n",
       "      <th>773524</th>\n",
       "      <td>거래하실래요</td>\n",
       "      <td>99C / 백도</td>\n",
       "      <td>sun</td>\n",
       "      <td>2021-07-24</td>\n",
       "      <td>스토리</td>\n",
       "      <td>로맨스</td>\n",
       "      <td>새로운 사랑은 중고거래로 장만하세요(?!) 남친과 헤어진 후, 추억의 물건을 중고거...</td>\n",
       "      <td>257</td>\n",
       "      <td>10000</td>\n",
       "      <td>9.90</td>\n",
       "      <td>전체연령가</td>\n",
       "      <td>0</td>\n",
       "      <td>https://shared-comic.pstatic.net/thumb/webtoon...</td>\n",
       "    </tr>\n",
       "    <tr>\n",
       "      <th>785812</th>\n",
       "      <td>구해줘, 호구!</td>\n",
       "      <td>기천</td>\n",
       "      <td>sun</td>\n",
       "      <td>2021-12-11</td>\n",
       "      <td>스토리</td>\n",
       "      <td>로맨스</td>\n",
       "      <td>세상에서 착한 게 제일 싫은 준영은 '자타공인 청정호구' 산호가 자꾸 거슬린다. 취...</td>\n",
       "      <td>166</td>\n",
       "      <td>10000</td>\n",
       "      <td>9.92</td>\n",
       "      <td>전체연령가</td>\n",
       "      <td>0</td>\n",
       "      <td>https://shared-comic.pstatic.net/thumb/webtoon...</td>\n",
       "    </tr>\n",
       "    <tr>\n",
       "      <th>779354</th>\n",
       "      <td>패션쇼</td>\n",
       "      <td>로커8</td>\n",
       "      <td>sun</td>\n",
       "      <td>2021-08-28</td>\n",
       "      <td>스토리</td>\n",
       "      <td>드라마</td>\n",
       "      <td>세상에 찌든 수학교사, 남극에게는 사실 독특한 취미가 있다. 그런데, 그보다 더 독...</td>\n",
       "      <td>165</td>\n",
       "      <td>10000</td>\n",
       "      <td>9.81</td>\n",
       "      <td>전체연령가</td>\n",
       "      <td>0</td>\n",
       "      <td>https://shared-comic.pstatic.net/thumb/webtoon...</td>\n",
       "    </tr>\n",
       "    <tr>\n",
       "      <th>776096</th>\n",
       "      <td>짝사랑의 유서</td>\n",
       "      <td>군밤</td>\n",
       "      <td>sun</td>\n",
       "      <td>2021-07-17</td>\n",
       "      <td>스토리</td>\n",
       "      <td>로맨스</td>\n",
       "      <td>민결은 단골카페 사장님의 동생인 태은을 1년동안 짝사랑 하던 중, 태은에게서 편지 ...</td>\n",
       "      <td>328</td>\n",
       "      <td>10000</td>\n",
       "      <td>9.80</td>\n",
       "      <td>12세 이용가</td>\n",
       "      <td>0</td>\n",
       "      <td>https://shared-comic.pstatic.net/thumb/webtoon...</td>\n",
       "    </tr>\n",
       "    <tr>\n",
       "      <th>786973</th>\n",
       "      <td>DARK MOON 달의 제단</td>\n",
       "      <td>HYBE</td>\n",
       "      <td>sun</td>\n",
       "      <td>2022-01-16</td>\n",
       "      <td>스토리</td>\n",
       "      <td>판타지</td>\n",
       "      <td>누구도 사랑할 수 없는 뱀파이어와 한 명밖에 사랑할 수 없는 늑대인간. 리버필드 지...</td>\n",
       "      <td>383</td>\n",
       "      <td>10000</td>\n",
       "      <td>9.45</td>\n",
       "      <td>12세 이용가</td>\n",
       "      <td>0</td>\n",
       "      <td>https://shared-comic.pstatic.net/thumb/webtoon...</td>\n",
       "    </tr>\n",
       "  </tbody>\n",
       "</table>\n",
       "<p>548 rows × 13 columns</p>\n",
       "</div>"
      ],
      "text/plain": [
       "                  Title     Author  Day First Date Genre1 Genre2  \\\n",
       "ID                                                                 \n",
       "758037              참교육  채용택 / 한가람  mon 2020-11-01    스토리     액션   \n",
       "183559             신의 탑        SIU  mon 2010-06-30    스토리    판타지   \n",
       "648419          뷰티풀 군바리   설이 / 윤성원  mon 2015-02-15    스토리    드라마   \n",
       "783052          퀘스트지상주의   박태준 만화회사  mon 2021-10-24    스토리    드라마   \n",
       "602910           윈드브레이커        조용석  mon 2013-12-08    스토리    스포츠   \n",
       "...                 ...        ...  ...        ...    ...    ...   \n",
       "773524           거래하실래요   99C / 백도  sun 2021-07-24    스토리    로맨스   \n",
       "785812         구해줘, 호구!         기천  sun 2021-12-11    스토리    로맨스   \n",
       "779354              패션쇼        로커8  sun 2021-08-28    스토리    드라마   \n",
       "776096          짝사랑의 유서         군밤  sun 2021-07-17    스토리    로맨스   \n",
       "786973  DARK MOON 달의 제단       HYBE  sun 2022-01-16    스토리    판타지   \n",
       "\n",
       "                                                  Content  Web Like  \\\n",
       "ID                                                                    \n",
       "758037  무너진 교권을 지키기 위해 교권보호국 소속 나화진의 참교육이 시작된다! <부활남> ...     20274   \n",
       "183559     자신의 모든 것이었던 소녀를 쫓아 탑에 들어온 소년 그리고 그런 소년을 시험하는 탑     99999   \n",
       "648419                     '여자도 군대에 간다면?'본격 여자도 군대 가는 만화!     99999   \n",
       "783052  [외모지상주의], [싸움독학], [인생존망]과 세계관을 공유하는 작품! 공부, 싸움...      1376   \n",
       "602910  혼자서 자전거를 즐겨타던 모범생 조자현. 원치 않게 자전거 크루의 일에 자꾸 휘말리...     99999   \n",
       "...                                                   ...       ...   \n",
       "773524  새로운 사랑은 중고거래로 장만하세요(?!) 남친과 헤어진 후, 추억의 물건을 중고거...       257   \n",
       "785812  세상에서 착한 게 제일 싫은 준영은 '자타공인 청정호구' 산호가 자꾸 거슬린다. 취...       166   \n",
       "779354  세상에 찌든 수학교사, 남극에게는 사실 독특한 취미가 있다. 그런데, 그보다 더 독...       165   \n",
       "776096  민결은 단골카페 사장님의 동생인 태은을 1년동안 짝사랑 하던 중, 태은에게서 편지 ...       328   \n",
       "786973  누구도 사랑할 수 없는 뱀파이어와 한 명밖에 사랑할 수 없는 늑대인간. 리버필드 지...       383   \n",
       "\n",
       "        Mobile Like  Star      Age  Form  \\\n",
       "ID                                         \n",
       "758037      1000000  9.86  15세 이용가     0   \n",
       "183559       100000  9.89  12세 이용가     0   \n",
       "648419       100000  9.80  15세 이용가     0   \n",
       "783052       100000  9.78  15세 이용가     0   \n",
       "602910       100000  9.84  12세 이용가     0   \n",
       "...             ...   ...      ...   ...   \n",
       "773524        10000  9.90    전체연령가     0   \n",
       "785812        10000  9.92    전체연령가     0   \n",
       "779354        10000  9.81    전체연령가     0   \n",
       "776096        10000  9.80  12세 이용가     0   \n",
       "786973        10000  9.45  12세 이용가     0   \n",
       "\n",
       "                                                   Imgsrc  \n",
       "ID                                                         \n",
       "758037  https://shared-comic.pstatic.net/thumb/webtoon...  \n",
       "183559  https://shared-comic.pstatic.net/thumb/webtoon...  \n",
       "648419  https://shared-comic.pstatic.net/thumb/webtoon...  \n",
       "783052  https://shared-comic.pstatic.net/thumb/webtoon...  \n",
       "602910  https://shared-comic.pstatic.net/thumb/webtoon...  \n",
       "...                                                   ...  \n",
       "773524  https://shared-comic.pstatic.net/thumb/webtoon...  \n",
       "785812  https://shared-comic.pstatic.net/thumb/webtoon...  \n",
       "779354  https://shared-comic.pstatic.net/thumb/webtoon...  \n",
       "776096  https://shared-comic.pstatic.net/thumb/webtoon...  \n",
       "786973  https://shared-comic.pstatic.net/thumb/webtoon...  \n",
       "\n",
       "[548 rows x 13 columns]"
      ]
     },
     "execution_count": 57,
     "metadata": {},
     "output_type": "execute_result"
    }
   ],
   "source": [
    "webtoon.set_index('ID', inplace=True)\n",
    "webtoon"
   ]
  },
  {
   "cell_type": "code",
   "execution_count": 58,
   "id": "c811a5b6",
   "metadata": {},
   "outputs": [
    {
     "name": "stdout",
     "output_type": "stream",
     "text": [
      "<class 'pandas.core.frame.DataFrame'>\n",
      "Int64Index: 548 entries, 758037 to 786973\n",
      "Data columns (total 13 columns):\n",
      " #   Column       Non-Null Count  Dtype         \n",
      "---  ------       --------------  -----         \n",
      " 0   Title        548 non-null    object        \n",
      " 1   Author       548 non-null    object        \n",
      " 2   Day          548 non-null    object        \n",
      " 3   First Date   548 non-null    datetime64[ns]\n",
      " 4   Genre1       548 non-null    object        \n",
      " 5   Genre2       548 non-null    object        \n",
      " 6   Content      548 non-null    object        \n",
      " 7   Web Like     548 non-null    int64         \n",
      " 8   Mobile Like  548 non-null    int64         \n",
      " 9   Star         548 non-null    float64       \n",
      " 10  Age          548 non-null    object        \n",
      " 11  Form         548 non-null    int64         \n",
      " 12  Imgsrc       548 non-null    object        \n",
      "dtypes: datetime64[ns](1), float64(1), int64(3), object(8)\n",
      "memory usage: 59.9+ KB\n"
     ]
    }
   ],
   "source": [
    "webtoon.info()"
   ]
  },
  {
   "cell_type": "code",
   "execution_count": 59,
   "id": "3aba3aaa",
   "metadata": {},
   "outputs": [],
   "source": [
    "# Save as CSV\n",
    "webtoon.to_csv('네이버웹툰_기본정보(1)_최종.csv', encoding = 'utf-8-sig')"
   ]
  },
  {
   "cell_type": "markdown",
   "id": "dc28d26d",
   "metadata": {},
   "source": [
    "# Download Thumbnail from src"
   ]
  },
  {
   "cell_type": "code",
   "execution_count": null,
   "id": "1216aeb5",
   "metadata": {},
   "outputs": [
    {
     "data": {
      "text/plain": [
       "ID\n",
       "758037                참교육\n",
       "183559               신의 탑\n",
       "648419            뷰티풀 군바리\n",
       "783052            퀘스트지상주의\n",
       "602910             윈드브레이커\n",
       "               ...       \n",
       "773524             거래하실래요\n",
       "785812           구해줘, 호구!\n",
       "779354                패션쇼\n",
       "776096            짝사랑의 유서\n",
       "786973    DARK MOON 달의 제단\n",
       "Name: Title, Length: 548, dtype: object"
      ]
     },
     "execution_count": 60,
     "metadata": {},
     "output_type": "execute_result"
    }
   ],
   "source": [
    "webtoon.Title"
   ]
  },
  {
   "cell_type": "code",
   "execution_count": 61,
   "id": "4491a6ce",
   "metadata": {},
   "outputs": [
    {
     "name": "stderr",
     "output_type": "stream",
     "text": [
      "100%|████████████████████████████████████████████████████████████████████████████████| 548/548 [09:44<00:00,  1.07s/it]\n"
     ]
    }
   ],
   "source": [
    "for i in tqdm(range(len(imglist))):\n",
    "    urlretrieve(imglist[i], \"C:/Users/gynchoi/Trap/thumbnails/\"+newtilist[i]+\".jpg\")\n",
    "    time.sleep(1)"
   ]
  }
 ],
 "metadata": {
  "kernelspec": {
   "display_name": "Python 3 (ipykernel)",
   "language": "python",
   "name": "python3"
  },
  "language_info": {
   "codemirror_mode": {
    "name": "ipython",
    "version": 3
   },
   "file_extension": ".py",
   "mimetype": "text/x-python",
   "name": "python",
   "nbconvert_exporter": "python",
   "pygments_lexer": "ipython3",
   "version": "3.9.12"
  }
 },
 "nbformat": 4,
 "nbformat_minor": 5
}
